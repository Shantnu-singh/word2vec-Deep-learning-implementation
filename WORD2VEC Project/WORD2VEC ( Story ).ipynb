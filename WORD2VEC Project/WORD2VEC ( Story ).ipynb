{
 "cells": [
  {
   "cell_type": "code",
   "execution_count": 1,
   "metadata": {},
   "outputs": [
    {
     "name": "stdout",
     "output_type": "stream",
     "text": [
      "Requirement already satisfied: nltk in c:\\users\\singh\\appdata\\local\\programs\\python\\python312\\lib\\site-packages (3.8.1)\n",
      "Requirement already satisfied: click in c:\\users\\singh\\appdata\\local\\programs\\python\\python312\\lib\\site-packages (from nltk) (8.1.7)\n",
      "Requirement already satisfied: joblib in c:\\users\\singh\\appdata\\local\\programs\\python\\python312\\lib\\site-packages (from nltk) (1.4.0)\n",
      "Requirement already satisfied: regex>=2021.8.3 in c:\\users\\singh\\appdata\\local\\programs\\python\\python312\\lib\\site-packages (from nltk) (2023.12.25)\n",
      "Requirement already satisfied: tqdm in c:\\users\\singh\\appdata\\local\\programs\\python\\python312\\lib\\site-packages (from nltk) (4.66.2)\n",
      "Requirement already satisfied: colorama in c:\\users\\singh\\appdata\\local\\programs\\python\\python312\\lib\\site-packages (from click->nltk) (0.4.6)\n",
      "Note: you may need to restart the kernel to use updated packages.\n"
     ]
    }
   ],
   "source": [
    "%pip install nltk"
   ]
  },
  {
   "cell_type": "code",
   "execution_count": 1,
   "metadata": {},
   "outputs": [],
   "source": [
    "import numpy as np\n",
    "import string\n",
    "import nltk"
   ]
  },
  {
   "cell_type": "markdown",
   "metadata": {},
   "source": [
    "Reading the text file"
   ]
  },
  {
   "cell_type": "code",
   "execution_count": 2,
   "metadata": {},
   "outputs": [
    {
     "name": "stdout",
     "output_type": "stream",
     "text": [
      "Once upon a time, in the kingdom of Lumina, nestled between towering mountains and lush forests, the\n"
     ]
    }
   ],
   "source": [
    "file = open(\"text_data/story.txt\" , \"r\")\n",
    "corpus = file.read()\n",
    "file.close()\n",
    "\n",
    "print(corpus[:100])"
   ]
  },
  {
   "cell_type": "markdown",
   "metadata": {},
   "source": [
    "Preprocessing of data"
   ]
  },
  {
   "cell_type": "code",
   "execution_count": 3,
   "metadata": {},
   "outputs": [],
   "source": [
    "corpus = corpus.lower()\n",
    "# print(corpus)"
   ]
  },
  {
   "cell_type": "code",
   "execution_count": 4,
   "metadata": {},
   "outputs": [
    {
     "name": "stdout",
     "output_type": "stream",
     "text": [
      "once upon a time in \n"
     ]
    }
   ],
   "source": [
    "# to remove punctuations\n",
    "exclude = string.punctuation\n",
    "\n",
    "def remove_pun (text):\n",
    "    return text.translate(str.maketrans(\"\" ,\"\", exclude))\n",
    "\n",
    "corpus = remove_pun(corpus)\n",
    "\n",
    "print(corpus[:20])"
   ]
  },
  {
   "cell_type": "code",
   "execution_count": 5,
   "metadata": {},
   "outputs": [
    {
     "name": "stdout",
     "output_type": "stream",
     "text": [
      " upon  time   kingdom  lumina nestled  towering mountains  lush forests  reigned  noble   king named\n"
     ]
    },
    {
     "name": "stderr",
     "output_type": "stream",
     "text": [
      "[nltk_data] Downloading package stopwords to\n",
      "[nltk_data]     C:\\Users\\singh\\AppData\\Roaming\\nltk_data...\n",
      "[nltk_data]   Package stopwords is already up-to-date!\n"
     ]
    }
   ],
   "source": [
    "# Remove stop words\n",
    "\n",
    "from nltk.corpus import stopwords\n",
    "nltk.download('stopwords')\n",
    "# stopwords.words(\"english\")\n",
    "\n",
    "def remove_stop_words(text):\n",
    "    next_text = []\n",
    "\n",
    "    for word in text.split():\n",
    "        if word in stopwords.words(\"english\"):\n",
    "            next_text.append('')\n",
    "        else:\n",
    "            next_text.append(word)\n",
    "    x = next_text[:]\n",
    "    next_text.clear()\n",
    "    return \" \".join(x)\n",
    "\n",
    "corpus = remove_stop_words(corpus)\n",
    "\n",
    "print(corpus[:100])\n",
    "\n",
    "        \n"
   ]
  },
  {
   "cell_type": "code",
   "execution_count": 6,
   "metadata": {},
   "outputs": [
    {
     "name": "stdout",
     "output_type": "stream",
     "text": [
      "['upon', 'time', 'kingdom', 'lumina', 'nestled', 'towering', 'mountains', 'lush', 'forests', 'reigned']\n"
     ]
    },
    {
     "name": "stderr",
     "output_type": "stream",
     "text": [
      "[nltk_data] Downloading package punkt to\n",
      "[nltk_data]     C:\\Users\\singh\\AppData\\Roaming\\nltk_data...\n",
      "[nltk_data]   Package punkt is already up-to-date!\n"
     ]
    },
    {
     "data": {
      "text/plain": [
       "298"
      ]
     },
     "execution_count": 6,
     "metadata": {},
     "output_type": "execute_result"
    }
   ],
   "source": [
    "# Tokernisation\n",
    "from nltk.tokenize import word_tokenize\n",
    "nltk.download('punkt')\n",
    "\n",
    "final_corpus = word_tokenize(corpus)\n",
    "\n",
    "print(final_corpus[:10])\n",
    "\n",
    "len(final_corpus)\n",
    "\n"
   ]
  },
  {
   "cell_type": "markdown",
   "metadata": {},
   "source": [
    "Creating Bigrams and Vocalbulary"
   ]
  },
  {
   "cell_type": "code",
   "execution_count": 7,
   "metadata": {},
   "outputs": [
    {
     "name": "stdout",
     "output_type": "stream",
     "text": [
      "298\n",
      "237\n",
      "['moonlit', 'clouded', 'enjoyed', 'seen', 'perseverance', 'right', 'bond', 'renowned', 'deep', 'stronger', 'soared', 'engulfed', 'eye', 'across', 'forests', 'prince', 'redoubled', 'encountered', 'bloomed', 'rejoiced']\n"
     ]
    }
   ],
   "source": [
    "# Vocalbulary\n",
    "\n",
    "all_words = final_corpus\n",
    "\n",
    "all_words = list(set(all_words))\n",
    "\n",
    "print(len(final_corpus))\n",
    "print(len(all_words))\n",
    "print(all_words[:20])\n"
   ]
  },
  {
   "cell_type": "code",
   "execution_count": 8,
   "metadata": {},
   "outputs": [
    {
     "name": "stdout",
     "output_type": "stream",
     "text": [
      "88506\n"
     ]
    }
   ],
   "source": [
    "# Bigrams for first 300 words \n",
    "length = len(final_corpus)\n",
    "royaldata = final_corpus\n",
    "bigrams = []\n",
    "\n",
    "for i in range (length-1):\n",
    "    for j in range (i+1 , length):\n",
    "        bigrams.append([royaldata[i] , royaldata[j]])\n",
    "        bigrams.append([royaldata[j] , royaldata[i]])\n",
    "\n",
    "print(len(bigrams))\n",
    "# print(bigrams)\n"
   ]
  },
  {
   "cell_type": "markdown",
   "metadata": {},
   "source": [
    "One hot Encoding  "
   ]
  },
  {
   "cell_type": "code",
   "execution_count": 9,
   "metadata": {},
   "outputs": [
    {
     "name": "stdout",
     "output_type": "stream",
     "text": [
      "{'moonlit': 0, 'clouded': 1, 'enjoyed': 2, 'seen': 3, 'perseverance': 4, 'right': 5, 'bond': 6, 'renowned': 7, 'deep': 8, 'stronger': 9, 'soared': 10, 'engulfed': 11, 'eye': 12, 'across': 13, 'forests': 14, 'prince': 15, 'redoubled': 16, 'encountered': 17, 'bloomed': 18, 'rejoiced': 19, 'destroying': 20, 'quest': 21, 'leaving': 22, 'faded': 23, 'seeking': 24, 'brave': 25, 'henry': 26, 'lumina': 27, 'glade': 28, 'resolve': 29, 'towering': 30, 'named': 31, 'timeless': 32, 'royal': 33, 'word': 34, 'strength': 35, 'group': 36, 'resided': 37, 'finally': 38, 'noble': 39, 'iridescent': 40, 'stand': 41, 'crisp': 42, 'night': 43, 'faces': 44, 'trail': 45, 'danced': 46, 'like': 47, 'people': 48, 'valiant': 49, 'kingdom': 50, 'time': 51, 'harmony': 52, 'rulers': 53, 'heart': 54, 'sword': 55, 'approached': 56, 'guided': 57, 'turned': 58, 'continued': 59, 'one': 60, 'however': 61, 'required': 62, 'obstacle': 63, 'queen': 64, 'often': 65, 'stars': 66, 'princess': 67, 'journeyed': 68, 'amelia': 69, 'weeks': 70, 'lies': 71, 'thrive': 72, 'joyous': 73, 'leisurely': 74, 'wise': 75, 'ancient': 76, 'embarked': 77, 'etched': 78, 'vanquish': 79, 'courage': 80, 'wizard': 81, 'reached': 82, 'sweep': 83, 'true': 84, 'atop': 85, 'peace': 86, 'tested': 87, 'consulting': 88, 'erupted': 89, 'celebration': 90, 'high': 91, 'along': 92, 'wane': 93, 'could': 94, 'mountaintop': 95, 'villagers': 96, 'reminded': 97, 'lush': 98, 'spell': 99, 'face': 100, 'twinkle': 101, 'refused': 102, 'morning': 103, 'village': 104, 'bravery': 105, 'rid': 106, 'performed': 107, 'defeat': 108, 'palace': 109, 'never': 110, 'graceful': 111, 'inspired': 112, 'hearts': 113, 'king': 114, 'efforts': 115, 'hands': 116, 'homes': 117, 'embers': 118, 'mountains': 119, 'huddled': 120, 'phoenix': 121, 'fearsome': 122, 'elusive': 123, 'challenges': 124, 'overcame': 125, 'flower': 126, 'two': 127, 'began': 128, 'months': 129, 'joy': 130, 'undeterred': 131, 'achieve': 132, 'help': 133, 'scouring': 134, 'even': 135, 'glory': 136, 'filled': 137, 'compassion': 138, 'hope': 139, 'autumn': 140, 'behind': 141, 'summit': 142, 'upon': 143, 'enchanted': 144, 'treacherous': 145, 'stood': 146, 'unity': 147, 'values': 148, 'together': 149, 'cliffs': 150, 'trembling': 151, 'peak': 152, 'determination': 153, 'moral': 154, 'rare': 155, 'restore': 156, 'curious': 157, 'landscapes': 158, 'daunting': 159, 'beloved': 160, 'tomes': 161, 'worry': 162, 'family': 163, 'distress': 164, 'stumbled': 165, 'spread': 166, 'catch': 167, 'overcome': 168, 'dragons': 169, 'land': 170, 'gratitude': 171, 'crops': 172, 'greatest': 173, 'dragon': 174, 'prosperity': 175, 'working': 176, 'magical': 177, 'frederick': 178, 'waterfalls': 179, 'year': 180, 'feathers': 181, 'cause': 182, 'threatening': 183, 'solution': 184, 'creatures': 185, 'despair': 186, 'story': 187, 'way': 188, 'incantation': 189, 'ahead': 190, 'thundering': 191, 'children': 192, 'eleanor': 193, 'journey': 194, 'blinding': 195, 'remained': 196, 'hidden': 197, 'light': 198, 'grew': 199, 'knights': 200, 'unwavering': 201, 'powerful': 202, 'perilous': 203, 'fierce': 204, 'terrorizing': 205, 'rugged': 206, 'revealed': 207, 'give': 208, 'old': 209, 'majestic': 210, 'stroll': 211, 'advice': 212, 'life': 213, 'sky': 214, 'forest': 215, 'shimmering': 216, 'set': 217, 'hues': 218, 'place': 219, 'determined': 220, 'plucked': 221, 'losing': 222, 'reigned': 223, 'fears': 224, 'wings': 225, 'sparkling': 226, 'nowhere': 227, 'conquer': 228, 'impossible': 229, 'came': 230, 'sages': 231, 'nestled': 232, 'lay': 233, 'adversity': 234, 'braving': 235, 'gardens': 236}\n"
     ]
    }
   ],
   "source": [
    "word_dict = {}\n",
    "\n",
    "counter = 0\n",
    "for word in all_words:\n",
    "    word_dict[word] = counter\n",
    "    counter += 1\n",
    "print(word_dict) \n"
   ]
  },
  {
   "cell_type": "code",
   "execution_count": 10,
   "metadata": {},
   "outputs": [],
   "source": [
    "one_hot_data = np.zeros((len(all_words) , len(all_words)))\n",
    "\n",
    "for i in range(len(all_words)):\n",
    "    one_hot_data[i][i] = 1\n",
    "\n",
    "# print(one_hot_data)\n",
    "\n",
    "one_hot_dict ={}\n",
    "\n",
    "for i in range(len(all_words)):\n",
    "    one_hot_dict[all_words[i]] = one_hot_data[i]\n",
    "\n",
    "\n",
    "# for word in one_hot_dict :\n",
    "#     print(word , \" \" , one_hot_dict[word])\n"
   ]
  },
  {
   "cell_type": "markdown",
   "metadata": {},
   "source": [
    "Create Input and Output label"
   ]
  },
  {
   "cell_type": "code",
   "execution_count": 13,
   "metadata": {},
   "outputs": [
    {
     "name": "stdout",
     "output_type": "stream",
     "text": [
      "88506\n"
     ]
    }
   ],
   "source": [
    "# Creating input and Output \n",
    "X = []\n",
    "Y = []\n",
    "\n",
    "for bi in bigrams:\n",
    "    X.append(one_hot_dict[bi[0]])\n",
    "    Y.append(one_hot_dict[bi[1]])\n",
    "\n",
    "X = np.array(X)\n",
    "Y = np.array(Y)\n",
    "\n",
    "print(len(X))"
   ]
  },
  {
   "cell_type": "code",
   "execution_count": 14,
   "metadata": {},
   "outputs": [
    {
     "name": "stdout",
     "output_type": "stream",
     "text": [
      "237\n",
      "237\n"
     ]
    }
   ],
   "source": [
    "print(len(X[0]))\n",
    "print(len(all_words))"
   ]
  },
  {
   "cell_type": "markdown",
   "metadata": {},
   "source": [
    "Creating model using keras (vector length = 2)"
   ]
  },
  {
   "cell_type": "code",
   "execution_count": 15,
   "metadata": {},
   "outputs": [],
   "source": [
    "# Constructing the NN\n",
    "from keras.models import Sequential\n",
    "from keras.layers import Dense , Input\n",
    "import tensorflow as tf\n",
    "\n",
    "model = Sequential()\n",
    "\n",
    "vocal_size = len(all_words)\n",
    "embed_size = 3\n",
    "\n",
    "model.add(Input(shape=(vocal_size,)))\n",
    "model.add(Dense(embed_size , activation= \"linear\"))\n",
    "model.add(Dense(vocal_size , activation=\"softmax\"))\n",
    "\n",
    "model.compile(loss = \"categorical_crossentropy\" , optimizer = \"adam\" )\n"
   ]
  },
  {
   "cell_type": "code",
   "execution_count": 16,
   "metadata": {},
   "outputs": [
    {
     "data": {
      "text/html": [
       "<pre style=\"white-space:pre;overflow-x:auto;line-height:normal;font-family:Menlo,'DejaVu Sans Mono',consolas,'Courier New',monospace\"><span style=\"font-weight: bold\">Model: \"sequential\"</span>\n",
       "</pre>\n"
      ],
      "text/plain": [
       "\u001b[1mModel: \"sequential\"\u001b[0m\n"
      ]
     },
     "metadata": {},
     "output_type": "display_data"
    },
    {
     "data": {
      "text/html": [
       "<pre style=\"white-space:pre;overflow-x:auto;line-height:normal;font-family:Menlo,'DejaVu Sans Mono',consolas,'Courier New',monospace\">┏━━━━━━━━━━━━━━━━━━━━━━━━━━━━━━━━━┳━━━━━━━━━━━━━━━━━━━━━━━━┳━━━━━━━━━━━━━━━┓\n",
       "┃<span style=\"font-weight: bold\"> Layer (type)                    </span>┃<span style=\"font-weight: bold\"> Output Shape           </span>┃<span style=\"font-weight: bold\">       Param # </span>┃\n",
       "┡━━━━━━━━━━━━━━━━━━━━━━━━━━━━━━━━━╇━━━━━━━━━━━━━━━━━━━━━━━━╇━━━━━━━━━━━━━━━┩\n",
       "│ dense (<span style=\"color: #0087ff; text-decoration-color: #0087ff\">Dense</span>)                   │ (<span style=\"color: #00d7ff; text-decoration-color: #00d7ff\">None</span>, <span style=\"color: #00af00; text-decoration-color: #00af00\">3</span>)              │           <span style=\"color: #00af00; text-decoration-color: #00af00\">714</span> │\n",
       "├─────────────────────────────────┼────────────────────────┼───────────────┤\n",
       "│ dense_1 (<span style=\"color: #0087ff; text-decoration-color: #0087ff\">Dense</span>)                 │ (<span style=\"color: #00d7ff; text-decoration-color: #00d7ff\">None</span>, <span style=\"color: #00af00; text-decoration-color: #00af00\">237</span>)            │           <span style=\"color: #00af00; text-decoration-color: #00af00\">948</span> │\n",
       "└─────────────────────────────────┴────────────────────────┴───────────────┘\n",
       "</pre>\n"
      ],
      "text/plain": [
       "┏━━━━━━━━━━━━━━━━━━━━━━━━━━━━━━━━━┳━━━━━━━━━━━━━━━━━━━━━━━━┳━━━━━━━━━━━━━━━┓\n",
       "┃\u001b[1m \u001b[0m\u001b[1mLayer (type)                   \u001b[0m\u001b[1m \u001b[0m┃\u001b[1m \u001b[0m\u001b[1mOutput Shape          \u001b[0m\u001b[1m \u001b[0m┃\u001b[1m \u001b[0m\u001b[1m      Param #\u001b[0m\u001b[1m \u001b[0m┃\n",
       "┡━━━━━━━━━━━━━━━━━━━━━━━━━━━━━━━━━╇━━━━━━━━━━━━━━━━━━━━━━━━╇━━━━━━━━━━━━━━━┩\n",
       "│ dense (\u001b[38;5;33mDense\u001b[0m)                   │ (\u001b[38;5;45mNone\u001b[0m, \u001b[38;5;34m3\u001b[0m)              │           \u001b[38;5;34m714\u001b[0m │\n",
       "├─────────────────────────────────┼────────────────────────┼───────────────┤\n",
       "│ dense_1 (\u001b[38;5;33mDense\u001b[0m)                 │ (\u001b[38;5;45mNone\u001b[0m, \u001b[38;5;34m237\u001b[0m)            │           \u001b[38;5;34m948\u001b[0m │\n",
       "└─────────────────────────────────┴────────────────────────┴───────────────┘\n"
      ]
     },
     "metadata": {},
     "output_type": "display_data"
    },
    {
     "data": {
      "text/html": [
       "<pre style=\"white-space:pre;overflow-x:auto;line-height:normal;font-family:Menlo,'DejaVu Sans Mono',consolas,'Courier New',monospace\"><span style=\"font-weight: bold\"> Total params: </span><span style=\"color: #00af00; text-decoration-color: #00af00\">1,662</span> (6.49 KB)\n",
       "</pre>\n"
      ],
      "text/plain": [
       "\u001b[1m Total params: \u001b[0m\u001b[38;5;34m1,662\u001b[0m (6.49 KB)\n"
      ]
     },
     "metadata": {},
     "output_type": "display_data"
    },
    {
     "data": {
      "text/html": [
       "<pre style=\"white-space:pre;overflow-x:auto;line-height:normal;font-family:Menlo,'DejaVu Sans Mono',consolas,'Courier New',monospace\"><span style=\"font-weight: bold\"> Trainable params: </span><span style=\"color: #00af00; text-decoration-color: #00af00\">1,662</span> (6.49 KB)\n",
       "</pre>\n"
      ],
      "text/plain": [
       "\u001b[1m Trainable params: \u001b[0m\u001b[38;5;34m1,662\u001b[0m (6.49 KB)\n"
      ]
     },
     "metadata": {},
     "output_type": "display_data"
    },
    {
     "data": {
      "text/html": [
       "<pre style=\"white-space:pre;overflow-x:auto;line-height:normal;font-family:Menlo,'DejaVu Sans Mono',consolas,'Courier New',monospace\"><span style=\"font-weight: bold\"> Non-trainable params: </span><span style=\"color: #00af00; text-decoration-color: #00af00\">0</span> (0.00 B)\n",
       "</pre>\n"
      ],
      "text/plain": [
       "\u001b[1m Non-trainable params: \u001b[0m\u001b[38;5;34m0\u001b[0m (0.00 B)\n"
      ]
     },
     "metadata": {},
     "output_type": "display_data"
    }
   ],
   "source": [
    "model.summary()"
   ]
  },
  {
   "cell_type": "code",
   "execution_count": 17,
   "metadata": {},
   "outputs": [],
   "source": [
    "testX = X[:1000]\n",
    "testY = Y[:1000]\n"
   ]
  },
  {
   "cell_type": "code",
   "execution_count": 18,
   "metadata": {},
   "outputs": [
    {
     "name": "stdout",
     "output_type": "stream",
     "text": [
      "Epoch 1/1000\n",
      "\u001b[1m2766/2766\u001b[0m \u001b[32m━━━━━━━━━━━━━━━━━━━━\u001b[0m\u001b[37m\u001b[0m \u001b[1m3s\u001b[0m 863us/step - loss: 5.4183\n",
      "Epoch 2/1000\n",
      "\u001b[1m2766/2766\u001b[0m \u001b[32m━━━━━━━━━━━━━━━━━━━━\u001b[0m\u001b[37m\u001b[0m \u001b[1m2s\u001b[0m 767us/step - loss: 5.3697\n",
      "Epoch 3/1000\n",
      "\u001b[1m2766/2766\u001b[0m \u001b[32m━━━━━━━━━━━━━━━━━━━━\u001b[0m\u001b[37m\u001b[0m \u001b[1m2s\u001b[0m 737us/step - loss: 5.3691\n",
      "Epoch 4/1000\n",
      "\u001b[1m2766/2766\u001b[0m \u001b[32m━━━━━━━━━━━━━━━━━━━━\u001b[0m\u001b[37m\u001b[0m \u001b[1m2s\u001b[0m 726us/step - loss: 5.3702\n",
      "Epoch 5/1000\n",
      "\u001b[1m2766/2766\u001b[0m \u001b[32m━━━━━━━━━━━━━━━━━━━━\u001b[0m\u001b[37m\u001b[0m \u001b[1m3s\u001b[0m 996us/step - loss: 5.3682\n",
      "Epoch 6/1000\n",
      "\u001b[1m2766/2766\u001b[0m \u001b[32m━━━━━━━━━━━━━━━━━━━━\u001b[0m\u001b[37m\u001b[0m \u001b[1m3s\u001b[0m 1ms/step - loss: 5.3722\n",
      "Epoch 7/1000\n",
      "\u001b[1m2766/2766\u001b[0m \u001b[32m━━━━━━━━━━━━━━━━━━━━\u001b[0m\u001b[37m\u001b[0m \u001b[1m2s\u001b[0m 886us/step - loss: 5.3683\n",
      "Epoch 8/1000\n",
      "\u001b[1m2766/2766\u001b[0m \u001b[32m━━━━━━━━━━━━━━━━━━━━\u001b[0m\u001b[37m\u001b[0m \u001b[1m3s\u001b[0m 916us/step - loss: 5.3715\n",
      "Epoch 9/1000\n",
      "\u001b[1m2766/2766\u001b[0m \u001b[32m━━━━━━━━━━━━━━━━━━━━\u001b[0m\u001b[37m\u001b[0m \u001b[1m3s\u001b[0m 996us/step - loss: 5.3702\n",
      "Epoch 10/1000\n",
      "\u001b[1m2766/2766\u001b[0m \u001b[32m━━━━━━━━━━━━━━━━━━━━\u001b[0m\u001b[37m\u001b[0m \u001b[1m3s\u001b[0m 969us/step - loss: 5.3684\n",
      "Epoch 11/1000\n",
      "\u001b[1m2766/2766\u001b[0m \u001b[32m━━━━━━━━━━━━━━━━━━━━\u001b[0m\u001b[37m\u001b[0m \u001b[1m3s\u001b[0m 944us/step - loss: 5.3662\n",
      "Epoch 12/1000\n",
      "\u001b[1m2766/2766\u001b[0m \u001b[32m━━━━━━━━━━━━━━━━━━━━\u001b[0m\u001b[37m\u001b[0m \u001b[1m3s\u001b[0m 918us/step - loss: 5.3696\n",
      "Epoch 13/1000\n",
      "\u001b[1m2766/2766\u001b[0m \u001b[32m━━━━━━━━━━━━━━━━━━━━\u001b[0m\u001b[37m\u001b[0m \u001b[1m2s\u001b[0m 888us/step - loss: 5.3692\n",
      "Epoch 14/1000\n",
      "\u001b[1m2766/2766\u001b[0m \u001b[32m━━━━━━━━━━━━━━━━━━━━\u001b[0m\u001b[37m\u001b[0m \u001b[1m2s\u001b[0m 888us/step - loss: 5.3709\n",
      "Epoch 15/1000\n",
      "\u001b[1m2766/2766\u001b[0m \u001b[32m━━━━━━━━━━━━━━━━━━━━\u001b[0m\u001b[37m\u001b[0m \u001b[1m3s\u001b[0m 913us/step - loss: 5.3709\n",
      "Epoch 16/1000\n",
      "\u001b[1m2766/2766\u001b[0m \u001b[32m━━━━━━━━━━━━━━━━━━━━\u001b[0m\u001b[37m\u001b[0m \u001b[1m3s\u001b[0m 1ms/step - loss: 5.3689\n",
      "Epoch 17/1000\n",
      "\u001b[1m2766/2766\u001b[0m \u001b[32m━━━━━━━━━━━━━━━━━━━━\u001b[0m\u001b[37m\u001b[0m \u001b[1m3s\u001b[0m 1ms/step - loss: 5.3698\n",
      "Epoch 18/1000\n",
      "\u001b[1m2766/2766\u001b[0m \u001b[32m━━━━━━━━━━━━━━━━━━━━\u001b[0m\u001b[37m\u001b[0m \u001b[1m3s\u001b[0m 950us/step - loss: 5.3694\n",
      "Epoch 19/1000\n",
      "\u001b[1m2766/2766\u001b[0m \u001b[32m━━━━━━━━━━━━━━━━━━━━\u001b[0m\u001b[37m\u001b[0m \u001b[1m2s\u001b[0m 854us/step - loss: 5.3695\n",
      "Epoch 20/1000\n",
      "\u001b[1m2766/2766\u001b[0m \u001b[32m━━━━━━━━━━━━━━━━━━━━\u001b[0m\u001b[37m\u001b[0m \u001b[1m3s\u001b[0m 1ms/step - loss: 5.3702\n",
      "Epoch 21/1000\n",
      "\u001b[1m2766/2766\u001b[0m \u001b[32m━━━━━━━━━━━━━━━━━━━━\u001b[0m\u001b[37m\u001b[0m \u001b[1m4s\u001b[0m 2ms/step - loss: 5.3693\n",
      "Epoch 22/1000\n",
      "\u001b[1m2766/2766\u001b[0m \u001b[32m━━━━━━━━━━━━━━━━━━━━\u001b[0m\u001b[37m\u001b[0m \u001b[1m3s\u001b[0m 1ms/step - loss: 5.3719\n",
      "Epoch 23/1000\n",
      "\u001b[1m2766/2766\u001b[0m \u001b[32m━━━━━━━━━━━━━━━━━━━━\u001b[0m\u001b[37m\u001b[0m \u001b[1m4s\u001b[0m 802us/step - loss: 5.3702\n",
      "Epoch 24/1000\n",
      "\u001b[1m2766/2766\u001b[0m \u001b[32m━━━━━━━━━━━━━━━━━━━━\u001b[0m\u001b[37m\u001b[0m \u001b[1m2s\u001b[0m 847us/step - loss: 5.3678\n",
      "Epoch 25/1000\n",
      "\u001b[1m2766/2766\u001b[0m \u001b[32m━━━━━━━━━━━━━━━━━━━━\u001b[0m\u001b[37m\u001b[0m \u001b[1m3s\u001b[0m 962us/step - loss: 5.3680\n",
      "Epoch 26/1000\n",
      "\u001b[1m2766/2766\u001b[0m \u001b[32m━━━━━━━━━━━━━━━━━━━━\u001b[0m\u001b[37m\u001b[0m \u001b[1m3s\u001b[0m 933us/step - loss: 5.3704\n",
      "Epoch 27/1000\n",
      "\u001b[1m2766/2766\u001b[0m \u001b[32m━━━━━━━━━━━━━━━━━━━━\u001b[0m\u001b[37m\u001b[0m \u001b[1m3s\u001b[0m 938us/step - loss: 5.3702\n",
      "Epoch 28/1000\n",
      "\u001b[1m2766/2766\u001b[0m \u001b[32m━━━━━━━━━━━━━━━━━━━━\u001b[0m\u001b[37m\u001b[0m \u001b[1m3s\u001b[0m 1ms/step - loss: 5.3692\n",
      "Epoch 29/1000\n",
      "\u001b[1m2766/2766\u001b[0m \u001b[32m━━━━━━━━━━━━━━━━━━━━\u001b[0m\u001b[37m\u001b[0m \u001b[1m4s\u001b[0m 1ms/step - loss: 5.3713\n",
      "Epoch 30/1000\n",
      "\u001b[1m2766/2766\u001b[0m \u001b[32m━━━━━━━━━━━━━━━━━━━━\u001b[0m\u001b[37m\u001b[0m \u001b[1m3s\u001b[0m 1ms/step - loss: 5.3702\n",
      "Epoch 31/1000\n",
      "\u001b[1m2766/2766\u001b[0m \u001b[32m━━━━━━━━━━━━━━━━━━━━\u001b[0m\u001b[37m\u001b[0m \u001b[1m3s\u001b[0m 1ms/step - loss: 5.3691\n",
      "Epoch 32/1000\n",
      "\u001b[1m2766/2766\u001b[0m \u001b[32m━━━━━━━━━━━━━━━━━━━━\u001b[0m\u001b[37m\u001b[0m \u001b[1m3s\u001b[0m 1ms/step - loss: 5.3687 \n",
      "Epoch 33/1000\n",
      "\u001b[1m2766/2766\u001b[0m \u001b[32m━━━━━━━━━━━━━━━━━━━━\u001b[0m\u001b[37m\u001b[0m \u001b[1m3s\u001b[0m 989us/step - loss: 5.3662\n",
      "Epoch 34/1000\n",
      "\u001b[1m2766/2766\u001b[0m \u001b[32m━━━━━━━━━━━━━━━━━━━━\u001b[0m\u001b[37m\u001b[0m \u001b[1m3s\u001b[0m 1ms/step - loss: 5.3719\n",
      "Epoch 35/1000\n",
      "\u001b[1m2766/2766\u001b[0m \u001b[32m━━━━━━━━━━━━━━━━━━━━\u001b[0m\u001b[37m\u001b[0m \u001b[1m3s\u001b[0m 984us/step - loss: 5.3697\n",
      "Epoch 36/1000\n",
      "\u001b[1m2766/2766\u001b[0m \u001b[32m━━━━━━━━━━━━━━━━━━━━\u001b[0m\u001b[37m\u001b[0m \u001b[1m2s\u001b[0m 802us/step - loss: 5.3708\n",
      "Epoch 37/1000\n",
      "\u001b[1m2766/2766\u001b[0m \u001b[32m━━━━━━━━━━━━━━━━━━━━\u001b[0m\u001b[37m\u001b[0m \u001b[1m2s\u001b[0m 767us/step - loss: 5.3720\n",
      "Epoch 38/1000\n",
      "\u001b[1m2766/2766\u001b[0m \u001b[32m━━━━━━━━━━━━━━━━━━━━\u001b[0m\u001b[37m\u001b[0m \u001b[1m2s\u001b[0m 774us/step - loss: 5.3666\n",
      "Epoch 39/1000\n",
      "\u001b[1m2766/2766\u001b[0m \u001b[32m━━━━━━━━━━━━━━━━━━━━\u001b[0m\u001b[37m\u001b[0m \u001b[1m2s\u001b[0m 877us/step - loss: 5.3673\n",
      "Epoch 40/1000\n",
      "\u001b[1m2766/2766\u001b[0m \u001b[32m━━━━━━━━━━━━━━━━━━━━\u001b[0m\u001b[37m\u001b[0m \u001b[1m3s\u001b[0m 1ms/step - loss: 5.3686\n",
      "Epoch 41/1000\n",
      "\u001b[1m2766/2766\u001b[0m \u001b[32m━━━━━━━━━━━━━━━━━━━━\u001b[0m\u001b[37m\u001b[0m \u001b[1m3s\u001b[0m 983us/step - loss: 5.3690\n",
      "Epoch 42/1000\n",
      "\u001b[1m2766/2766\u001b[0m \u001b[32m━━━━━━━━━━━━━━━━━━━━\u001b[0m\u001b[37m\u001b[0m \u001b[1m3s\u001b[0m 958us/step - loss: 5.3722\n",
      "Epoch 43/1000\n",
      "\u001b[1m2766/2766\u001b[0m \u001b[32m━━━━━━━━━━━━━━━━━━━━\u001b[0m\u001b[37m\u001b[0m \u001b[1m3s\u001b[0m 1ms/step - loss: 5.3708\n",
      "Epoch 44/1000\n",
      "\u001b[1m2766/2766\u001b[0m \u001b[32m━━━━━━━━━━━━━━━━━━━━\u001b[0m\u001b[37m\u001b[0m \u001b[1m2s\u001b[0m 871us/step - loss: 5.3682\n",
      "Epoch 45/1000\n",
      "\u001b[1m2766/2766\u001b[0m \u001b[32m━━━━━━━━━━━━━━━━━━━━\u001b[0m\u001b[37m\u001b[0m \u001b[1m3s\u001b[0m 979us/step - loss: 5.3700\n",
      "Epoch 46/1000\n",
      "\u001b[1m2766/2766\u001b[0m \u001b[32m━━━━━━━━━━━━━━━━━━━━\u001b[0m\u001b[37m\u001b[0m \u001b[1m3s\u001b[0m 913us/step - loss: 5.3689\n",
      "Epoch 47/1000\n",
      "\u001b[1m2766/2766\u001b[0m \u001b[32m━━━━━━━━━━━━━━━━━━━━\u001b[0m\u001b[37m\u001b[0m \u001b[1m2s\u001b[0m 857us/step - loss: 5.3705\n",
      "Epoch 48/1000\n",
      "\u001b[1m2766/2766\u001b[0m \u001b[32m━━━━━━━━━━━━━━━━━━━━\u001b[0m\u001b[37m\u001b[0m \u001b[1m4s\u001b[0m 1ms/step - loss: 5.3673\n",
      "Epoch 49/1000\n",
      "\u001b[1m2766/2766\u001b[0m \u001b[32m━━━━━━━━━━━━━━━━━━━━\u001b[0m\u001b[37m\u001b[0m \u001b[1m3s\u001b[0m 1ms/step - loss: 5.3684\n",
      "Epoch 50/1000\n",
      "\u001b[1m2766/2766\u001b[0m \u001b[32m━━━━━━━━━━━━━━━━━━━━\u001b[0m\u001b[37m\u001b[0m \u001b[1m3s\u001b[0m 1ms/step - loss: 5.3704\n",
      "Epoch 51/1000\n",
      "\u001b[1m2766/2766\u001b[0m \u001b[32m━━━━━━━━━━━━━━━━━━━━\u001b[0m\u001b[37m\u001b[0m \u001b[1m3s\u001b[0m 1ms/step - loss: 5.3696\n",
      "Epoch 52/1000\n",
      "\u001b[1m2766/2766\u001b[0m \u001b[32m━━━━━━━━━━━━━━━━━━━━\u001b[0m\u001b[37m\u001b[0m \u001b[1m3s\u001b[0m 1ms/step - loss: 5.3725\n",
      "Epoch 53/1000\n",
      "\u001b[1m2766/2766\u001b[0m \u001b[32m━━━━━━━━━━━━━━━━━━━━\u001b[0m\u001b[37m\u001b[0m \u001b[1m3s\u001b[0m 963us/step - loss: 5.3658\n",
      "Epoch 54/1000\n",
      "\u001b[1m2766/2766\u001b[0m \u001b[32m━━━━━━━━━━━━━━━━━━━━\u001b[0m\u001b[37m\u001b[0m \u001b[1m3s\u001b[0m 966us/step - loss: 5.3687\n",
      "Epoch 55/1000\n",
      "\u001b[1m2766/2766\u001b[0m \u001b[32m━━━━━━━━━━━━━━━━━━━━\u001b[0m\u001b[37m\u001b[0m \u001b[1m2s\u001b[0m 864us/step - loss: 5.3681\n",
      "Epoch 56/1000\n",
      "\u001b[1m2766/2766\u001b[0m \u001b[32m━━━━━━━━━━━━━━━━━━━━\u001b[0m\u001b[37m\u001b[0m \u001b[1m3s\u001b[0m 924us/step - loss: 5.3695\n",
      "Epoch 57/1000\n",
      "\u001b[1m2766/2766\u001b[0m \u001b[32m━━━━━━━━━━━━━━━━━━━━\u001b[0m\u001b[37m\u001b[0m \u001b[1m3s\u001b[0m 893us/step - loss: 5.3703\n",
      "Epoch 58/1000\n",
      "\u001b[1m2766/2766\u001b[0m \u001b[32m━━━━━━━━━━━━━━━━━━━━\u001b[0m\u001b[37m\u001b[0m \u001b[1m2s\u001b[0m 876us/step - loss: 5.3686\n",
      "Epoch 59/1000\n",
      "\u001b[1m2766/2766\u001b[0m \u001b[32m━━━━━━━━━━━━━━━━━━━━\u001b[0m\u001b[37m\u001b[0m \u001b[1m2s\u001b[0m 873us/step - loss: 5.3686\n",
      "Epoch 60/1000\n",
      "\u001b[1m2766/2766\u001b[0m \u001b[32m━━━━━━━━━━━━━━━━━━━━\u001b[0m\u001b[37m\u001b[0m \u001b[1m2s\u001b[0m 865us/step - loss: 5.3713\n",
      "Epoch 61/1000\n",
      "\u001b[1m2766/2766\u001b[0m \u001b[32m━━━━━━━━━━━━━━━━━━━━\u001b[0m\u001b[37m\u001b[0m \u001b[1m2s\u001b[0m 877us/step - loss: 5.3689\n",
      "Epoch 62/1000\n",
      "\u001b[1m2766/2766\u001b[0m \u001b[32m━━━━━━━━━━━━━━━━━━━━\u001b[0m\u001b[37m\u001b[0m \u001b[1m3s\u001b[0m 977us/step - loss: 5.3685\n",
      "Epoch 63/1000\n",
      "\u001b[1m2766/2766\u001b[0m \u001b[32m━━━━━━━━━━━━━━━━━━━━\u001b[0m\u001b[37m\u001b[0m \u001b[1m2s\u001b[0m 876us/step - loss: 5.3678\n",
      "Epoch 64/1000\n",
      "\u001b[1m2766/2766\u001b[0m \u001b[32m━━━━━━━━━━━━━━━━━━━━\u001b[0m\u001b[37m\u001b[0m \u001b[1m3s\u001b[0m 906us/step - loss: 5.3679\n",
      "Epoch 65/1000\n",
      "\u001b[1m2766/2766\u001b[0m \u001b[32m━━━━━━━━━━━━━━━━━━━━\u001b[0m\u001b[37m\u001b[0m \u001b[1m3s\u001b[0m 903us/step - loss: 5.3692\n",
      "Epoch 66/1000\n",
      "\u001b[1m2766/2766\u001b[0m \u001b[32m━━━━━━━━━━━━━━━━━━━━\u001b[0m\u001b[37m\u001b[0m \u001b[1m2s\u001b[0m 888us/step - loss: 5.3687\n",
      "Epoch 67/1000\n",
      "\u001b[1m2766/2766\u001b[0m \u001b[32m━━━━━━━━━━━━━━━━━━━━\u001b[0m\u001b[37m\u001b[0m \u001b[1m2s\u001b[0m 882us/step - loss: 5.3663\n",
      "Epoch 68/1000\n",
      "\u001b[1m2766/2766\u001b[0m \u001b[32m━━━━━━━━━━━━━━━━━━━━\u001b[0m\u001b[37m\u001b[0m \u001b[1m3s\u001b[0m 881us/step - loss: 5.3678\n",
      "Epoch 69/1000\n",
      "\u001b[1m2766/2766\u001b[0m \u001b[32m━━━━━━━━━━━━━━━━━━━━\u001b[0m\u001b[37m\u001b[0m \u001b[1m2s\u001b[0m 891us/step - loss: 5.3686\n",
      "Epoch 70/1000\n",
      "\u001b[1m2766/2766\u001b[0m \u001b[32m━━━━━━━━━━━━━━━━━━━━\u001b[0m\u001b[37m\u001b[0m \u001b[1m2s\u001b[0m 884us/step - loss: 5.3665\n",
      "Epoch 71/1000\n",
      "\u001b[1m2766/2766\u001b[0m \u001b[32m━━━━━━━━━━━━━━━━━━━━\u001b[0m\u001b[37m\u001b[0m \u001b[1m2s\u001b[0m 881us/step - loss: 5.3718\n",
      "Epoch 72/1000\n",
      "\u001b[1m2766/2766\u001b[0m \u001b[32m━━━━━━━━━━━━━━━━━━━━\u001b[0m\u001b[37m\u001b[0m \u001b[1m3s\u001b[0m 926us/step - loss: 5.3663\n",
      "Epoch 73/1000\n",
      "\u001b[1m2766/2766\u001b[0m \u001b[32m━━━━━━━━━━━━━━━━━━━━\u001b[0m\u001b[37m\u001b[0m \u001b[1m3s\u001b[0m 1ms/step - loss: 5.3668\n",
      "Epoch 74/1000\n",
      "\u001b[1m2766/2766\u001b[0m \u001b[32m━━━━━━━━━━━━━━━━━━━━\u001b[0m\u001b[37m\u001b[0m \u001b[1m3s\u001b[0m 972us/step - loss: 5.3667\n",
      "Epoch 75/1000\n",
      "\u001b[1m2766/2766\u001b[0m \u001b[32m━━━━━━━━━━━━━━━━━━━━\u001b[0m\u001b[37m\u001b[0m \u001b[1m2s\u001b[0m 869us/step - loss: 5.3688\n",
      "Epoch 76/1000\n",
      "\u001b[1m2766/2766\u001b[0m \u001b[32m━━━━━━━━━━━━━━━━━━━━\u001b[0m\u001b[37m\u001b[0m \u001b[1m3s\u001b[0m 908us/step - loss: 5.3686\n",
      "Epoch 77/1000\n",
      "\u001b[1m2766/2766\u001b[0m \u001b[32m━━━━━━━━━━━━━━━━━━━━\u001b[0m\u001b[37m\u001b[0m \u001b[1m3s\u001b[0m 908us/step - loss: 5.3695\n",
      "Epoch 78/1000\n",
      "\u001b[1m2766/2766\u001b[0m \u001b[32m━━━━━━━━━━━━━━━━━━━━\u001b[0m\u001b[37m\u001b[0m \u001b[1m2s\u001b[0m 874us/step - loss: 5.3662\n",
      "Epoch 79/1000\n",
      "\u001b[1m2766/2766\u001b[0m \u001b[32m━━━━━━━━━━━━━━━━━━━━\u001b[0m\u001b[37m\u001b[0m \u001b[1m2s\u001b[0m 876us/step - loss: 5.3683\n",
      "Epoch 80/1000\n",
      "\u001b[1m2766/2766\u001b[0m \u001b[32m━━━━━━━━━━━━━━━━━━━━\u001b[0m\u001b[37m\u001b[0m \u001b[1m2s\u001b[0m 878us/step - loss: 5.3685\n",
      "Epoch 81/1000\n",
      "\u001b[1m2766/2766\u001b[0m \u001b[32m━━━━━━━━━━━━━━━━━━━━\u001b[0m\u001b[37m\u001b[0m \u001b[1m2s\u001b[0m 888us/step - loss: 5.3673\n",
      "Epoch 82/1000\n",
      "\u001b[1m2766/2766\u001b[0m \u001b[32m━━━━━━━━━━━━━━━━━━━━\u001b[0m\u001b[37m\u001b[0m \u001b[1m3s\u001b[0m 896us/step - loss: 5.3665\n",
      "Epoch 83/1000\n",
      "\u001b[1m2766/2766\u001b[0m \u001b[32m━━━━━━━━━━━━━━━━━━━━\u001b[0m\u001b[37m\u001b[0m \u001b[1m2s\u001b[0m 886us/step - loss: 5.3667\n",
      "Epoch 84/1000\n",
      "\u001b[1m2766/2766\u001b[0m \u001b[32m━━━━━━━━━━━━━━━━━━━━\u001b[0m\u001b[37m\u001b[0m \u001b[1m2s\u001b[0m 871us/step - loss: 5.3692\n",
      "Epoch 85/1000\n",
      "\u001b[1m2766/2766\u001b[0m \u001b[32m━━━━━━━━━━━━━━━━━━━━\u001b[0m\u001b[37m\u001b[0m \u001b[1m3s\u001b[0m 898us/step - loss: 5.3675\n",
      "Epoch 86/1000\n",
      "\u001b[1m2766/2766\u001b[0m \u001b[32m━━━━━━━━━━━━━━━━━━━━\u001b[0m\u001b[37m\u001b[0m \u001b[1m2s\u001b[0m 881us/step - loss: 5.3685\n",
      "Epoch 87/1000\n",
      "\u001b[1m2766/2766\u001b[0m \u001b[32m━━━━━━━━━━━━━━━━━━━━\u001b[0m\u001b[37m\u001b[0m \u001b[1m2s\u001b[0m 882us/step - loss: 5.3670\n",
      "Epoch 88/1000\n",
      "\u001b[1m2766/2766\u001b[0m \u001b[32m━━━━━━━━━━━━━━━━━━━━\u001b[0m\u001b[37m\u001b[0m \u001b[1m2s\u001b[0m 885us/step - loss: 5.3722\n",
      "Epoch 89/1000\n",
      "\u001b[1m2766/2766\u001b[0m \u001b[32m━━━━━━━━━━━━━━━━━━━━\u001b[0m\u001b[37m\u001b[0m \u001b[1m2s\u001b[0m 887us/step - loss: 5.3688\n",
      "Epoch 90/1000\n",
      "\u001b[1m2766/2766\u001b[0m \u001b[32m━━━━━━━━━━━━━━━━━━━━\u001b[0m\u001b[37m\u001b[0m \u001b[1m2s\u001b[0m 889us/step - loss: 5.3695\n",
      "Epoch 91/1000\n",
      "\u001b[1m2766/2766\u001b[0m \u001b[32m━━━━━━━━━━━━━━━━━━━━\u001b[0m\u001b[37m\u001b[0m \u001b[1m2s\u001b[0m 877us/step - loss: 5.3684\n",
      "Epoch 92/1000\n",
      "\u001b[1m2766/2766\u001b[0m \u001b[32m━━━━━━━━━━━━━━━━━━━━\u001b[0m\u001b[37m\u001b[0m \u001b[1m3s\u001b[0m 1ms/step - loss: 5.3671\n",
      "Epoch 93/1000\n",
      "\u001b[1m2766/2766\u001b[0m \u001b[32m━━━━━━━━━━━━━━━━━━━━\u001b[0m\u001b[37m\u001b[0m \u001b[1m3s\u001b[0m 1ms/step - loss: 5.3697\n",
      "Epoch 94/1000\n",
      "\u001b[1m2766/2766\u001b[0m \u001b[32m━━━━━━━━━━━━━━━━━━━━\u001b[0m\u001b[37m\u001b[0m \u001b[1m3s\u001b[0m 903us/step - loss: 5.3707\n",
      "Epoch 95/1000\n",
      "\u001b[1m2766/2766\u001b[0m \u001b[32m━━━━━━━━━━━━━━━━━━━━\u001b[0m\u001b[37m\u001b[0m \u001b[1m2s\u001b[0m 891us/step - loss: 5.3667\n",
      "Epoch 96/1000\n",
      "\u001b[1m2766/2766\u001b[0m \u001b[32m━━━━━━━━━━━━━━━━━━━━\u001b[0m\u001b[37m\u001b[0m \u001b[1m3s\u001b[0m 899us/step - loss: 5.3710\n",
      "Epoch 97/1000\n",
      "\u001b[1m2766/2766\u001b[0m \u001b[32m━━━━━━━━━━━━━━━━━━━━\u001b[0m\u001b[37m\u001b[0m \u001b[1m3s\u001b[0m 882us/step - loss: 5.3687\n",
      "Epoch 98/1000\n",
      "\u001b[1m2766/2766\u001b[0m \u001b[32m━━━━━━━━━━━━━━━━━━━━\u001b[0m\u001b[37m\u001b[0m \u001b[1m2s\u001b[0m 881us/step - loss: 5.3678\n",
      "Epoch 99/1000\n",
      "\u001b[1m2766/2766\u001b[0m \u001b[32m━━━━━━━━━━━━━━━━━━━━\u001b[0m\u001b[37m\u001b[0m \u001b[1m3s\u001b[0m 894us/step - loss: 5.3684\n",
      "Epoch 100/1000\n",
      "\u001b[1m2766/2766\u001b[0m \u001b[32m━━━━━━━━━━━━━━━━━━━━\u001b[0m\u001b[37m\u001b[0m \u001b[1m2s\u001b[0m 882us/step - loss: 5.3692\n",
      "Epoch 101/1000\n",
      "\u001b[1m2766/2766\u001b[0m \u001b[32m━━━━━━━━━━━━━━━━━━━━\u001b[0m\u001b[37m\u001b[0m \u001b[1m3s\u001b[0m 897us/step - loss: 5.3670\n",
      "Epoch 102/1000\n",
      "\u001b[1m2766/2766\u001b[0m \u001b[32m━━━━━━━━━━━━━━━━━━━━\u001b[0m\u001b[37m\u001b[0m \u001b[1m3s\u001b[0m 911us/step - loss: 5.3676\n",
      "Epoch 103/1000\n",
      "\u001b[1m2766/2766\u001b[0m \u001b[32m━━━━━━━━━━━━━━━━━━━━\u001b[0m\u001b[37m\u001b[0m \u001b[1m3s\u001b[0m 1ms/step - loss: 5.3691\n",
      "Epoch 104/1000\n",
      "\u001b[1m2766/2766\u001b[0m \u001b[32m━━━━━━━━━━━━━━━━━━━━\u001b[0m\u001b[37m\u001b[0m \u001b[1m3s\u001b[0m 942us/step - loss: 5.3705\n",
      "Epoch 105/1000\n",
      "\u001b[1m2766/2766\u001b[0m \u001b[32m━━━━━━━━━━━━━━━━━━━━\u001b[0m\u001b[37m\u001b[0m \u001b[1m3s\u001b[0m 1ms/step - loss: 5.3705\n",
      "Epoch 106/1000\n",
      "\u001b[1m2766/2766\u001b[0m \u001b[32m━━━━━━━━━━━━━━━━━━━━\u001b[0m\u001b[37m\u001b[0m \u001b[1m4s\u001b[0m 1ms/step - loss: 5.3674\n",
      "Epoch 107/1000\n",
      "\u001b[1m2766/2766\u001b[0m \u001b[32m━━━━━━━━━━━━━━━━━━━━\u001b[0m\u001b[37m\u001b[0m \u001b[1m3s\u001b[0m 1ms/step - loss: 5.3688\n",
      "Epoch 108/1000\n",
      "\u001b[1m2766/2766\u001b[0m \u001b[32m━━━━━━━━━━━━━━━━━━━━\u001b[0m\u001b[37m\u001b[0m \u001b[1m2s\u001b[0m 851us/step - loss: 5.3673\n",
      "Epoch 109/1000\n",
      "\u001b[1m2766/2766\u001b[0m \u001b[32m━━━━━━━━━━━━━━━━━━━━\u001b[0m\u001b[37m\u001b[0m \u001b[1m2s\u001b[0m 845us/step - loss: 5.3673\n",
      "Epoch 110/1000\n",
      "\u001b[1m2766/2766\u001b[0m \u001b[32m━━━━━━━━━━━━━━━━━━━━\u001b[0m\u001b[37m\u001b[0m \u001b[1m2s\u001b[0m 853us/step - loss: 5.3673\n",
      "Epoch 111/1000\n",
      "\u001b[1m2766/2766\u001b[0m \u001b[32m━━━━━━━━━━━━━━━━━━━━\u001b[0m\u001b[37m\u001b[0m \u001b[1m2s\u001b[0m 852us/step - loss: 5.3674\n",
      "Epoch 112/1000\n",
      "\u001b[1m2766/2766\u001b[0m \u001b[32m━━━━━━━━━━━━━━━━━━━━\u001b[0m\u001b[37m\u001b[0m \u001b[1m2s\u001b[0m 854us/step - loss: 5.3690\n",
      "Epoch 113/1000\n",
      "\u001b[1m2766/2766\u001b[0m \u001b[32m━━━━━━━━━━━━━━━━━━━━\u001b[0m\u001b[37m\u001b[0m \u001b[1m3s\u001b[0m 971us/step - loss: 5.3698\n",
      "Epoch 114/1000\n",
      "\u001b[1m2766/2766\u001b[0m \u001b[32m━━━━━━━━━━━━━━━━━━━━\u001b[0m\u001b[37m\u001b[0m \u001b[1m3s\u001b[0m 919us/step - loss: 5.3693\n",
      "Epoch 115/1000\n",
      "\u001b[1m2766/2766\u001b[0m \u001b[32m━━━━━━━━━━━━━━━━━━━━\u001b[0m\u001b[37m\u001b[0m \u001b[1m3s\u001b[0m 900us/step - loss: 5.3681\n",
      "Epoch 116/1000\n",
      "\u001b[1m2766/2766\u001b[0m \u001b[32m━━━━━━━━━━━━━━━━━━━━\u001b[0m\u001b[37m\u001b[0m \u001b[1m3s\u001b[0m 908us/step - loss: 5.3695\n",
      "Epoch 117/1000\n",
      "\u001b[1m2766/2766\u001b[0m \u001b[32m━━━━━━━━━━━━━━━━━━━━\u001b[0m\u001b[37m\u001b[0m \u001b[1m3s\u001b[0m 913us/step - loss: 5.3730\n",
      "Epoch 118/1000\n",
      "\u001b[1m2766/2766\u001b[0m \u001b[32m━━━━━━━━━━━━━━━━━━━━\u001b[0m\u001b[37m\u001b[0m \u001b[1m2s\u001b[0m 854us/step - loss: 5.3675\n",
      "Epoch 119/1000\n",
      "\u001b[1m2766/2766\u001b[0m \u001b[32m━━━━━━━━━━━━━━━━━━━━\u001b[0m\u001b[37m\u001b[0m \u001b[1m3s\u001b[0m 1ms/step - loss: 5.3672\n",
      "Epoch 120/1000\n",
      "\u001b[1m2766/2766\u001b[0m \u001b[32m━━━━━━━━━━━━━━━━━━━━\u001b[0m\u001b[37m\u001b[0m \u001b[1m3s\u001b[0m 1ms/step - loss: 5.3676\n",
      "Epoch 121/1000\n",
      "\u001b[1m2766/2766\u001b[0m \u001b[32m━━━━━━━━━━━━━━━━━━━━\u001b[0m\u001b[37m\u001b[0m \u001b[1m3s\u001b[0m 1ms/step - loss: 5.3664\n",
      "Epoch 122/1000\n",
      "\u001b[1m2766/2766\u001b[0m \u001b[32m━━━━━━━━━━━━━━━━━━━━\u001b[0m\u001b[37m\u001b[0m \u001b[1m3s\u001b[0m 1ms/step - loss: 5.3687\n",
      "Epoch 123/1000\n",
      "\u001b[1m2766/2766\u001b[0m \u001b[32m━━━━━━━━━━━━━━━━━━━━\u001b[0m\u001b[37m\u001b[0m \u001b[1m3s\u001b[0m 1ms/step - loss: 5.3710\n",
      "Epoch 124/1000\n",
      "\u001b[1m2766/2766\u001b[0m \u001b[32m━━━━━━━━━━━━━━━━━━━━\u001b[0m\u001b[37m\u001b[0m \u001b[1m2s\u001b[0m 877us/step - loss: 5.3675\n",
      "Epoch 125/1000\n",
      "\u001b[1m2766/2766\u001b[0m \u001b[32m━━━━━━━━━━━━━━━━━━━━\u001b[0m\u001b[37m\u001b[0m \u001b[1m2s\u001b[0m 846us/step - loss: 5.3698\n",
      "Epoch 126/1000\n",
      "\u001b[1m2766/2766\u001b[0m \u001b[32m━━━━━━━━━━━━━━━━━━━━\u001b[0m\u001b[37m\u001b[0m \u001b[1m2s\u001b[0m 860us/step - loss: 5.3699\n",
      "Epoch 127/1000\n",
      "\u001b[1m2766/2766\u001b[0m \u001b[32m━━━━━━━━━━━━━━━━━━━━\u001b[0m\u001b[37m\u001b[0m \u001b[1m3s\u001b[0m 1ms/step - loss: 5.3695\n",
      "Epoch 128/1000\n",
      "\u001b[1m2766/2766\u001b[0m \u001b[32m━━━━━━━━━━━━━━━━━━━━\u001b[0m\u001b[37m\u001b[0m \u001b[1m2s\u001b[0m 879us/step - loss: 5.3703\n",
      "Epoch 129/1000\n",
      "\u001b[1m2766/2766\u001b[0m \u001b[32m━━━━━━━━━━━━━━━━━━━━\u001b[0m\u001b[37m\u001b[0m \u001b[1m3s\u001b[0m 917us/step - loss: 5.3694\n",
      "Epoch 130/1000\n",
      "\u001b[1m2766/2766\u001b[0m \u001b[32m━━━━━━━━━━━━━━━━━━━━\u001b[0m\u001b[37m\u001b[0m \u001b[1m3s\u001b[0m 904us/step - loss: 5.3702\n",
      "Epoch 131/1000\n",
      "\u001b[1m2766/2766\u001b[0m \u001b[32m━━━━━━━━━━━━━━━━━━━━\u001b[0m\u001b[37m\u001b[0m \u001b[1m2s\u001b[0m 833us/step - loss: 5.3657\n",
      "Epoch 132/1000\n",
      "\u001b[1m2766/2766\u001b[0m \u001b[32m━━━━━━━━━━━━━━━━━━━━\u001b[0m\u001b[37m\u001b[0m \u001b[1m3s\u001b[0m 906us/step - loss: 5.3674\n",
      "Epoch 133/1000\n",
      "\u001b[1m2766/2766\u001b[0m \u001b[32m━━━━━━━━━━━━━━━━━━━━\u001b[0m\u001b[37m\u001b[0m \u001b[1m3s\u001b[0m 945us/step - loss: 5.3688\n",
      "Epoch 134/1000\n",
      "\u001b[1m2766/2766\u001b[0m \u001b[32m━━━━━━━━━━━━━━━━━━━━\u001b[0m\u001b[37m\u001b[0m \u001b[1m3s\u001b[0m 958us/step - loss: 5.3688\n",
      "Epoch 135/1000\n",
      "\u001b[1m2766/2766\u001b[0m \u001b[32m━━━━━━━━━━━━━━━━━━━━\u001b[0m\u001b[37m\u001b[0m \u001b[1m2s\u001b[0m 878us/step - loss: 5.3674\n",
      "Epoch 136/1000\n",
      "\u001b[1m2766/2766\u001b[0m \u001b[32m━━━━━━━━━━━━━━━━━━━━\u001b[0m\u001b[37m\u001b[0m \u001b[1m3s\u001b[0m 904us/step - loss: 5.3706\n",
      "Epoch 137/1000\n",
      "\u001b[1m2766/2766\u001b[0m \u001b[32m━━━━━━━━━━━━━━━━━━━━\u001b[0m\u001b[37m\u001b[0m \u001b[1m2s\u001b[0m 891us/step - loss: 5.3684\n",
      "Epoch 138/1000\n",
      "\u001b[1m2766/2766\u001b[0m \u001b[32m━━━━━━━━━━━━━━━━━━━━\u001b[0m\u001b[37m\u001b[0m \u001b[1m2s\u001b[0m 842us/step - loss: 5.3671\n",
      "Epoch 139/1000\n",
      "\u001b[1m2766/2766\u001b[0m \u001b[32m━━━━━━━━━━━━━━━━━━━━\u001b[0m\u001b[37m\u001b[0m \u001b[1m2s\u001b[0m 869us/step - loss: 5.3659\n",
      "Epoch 140/1000\n",
      "\u001b[1m2766/2766\u001b[0m \u001b[32m━━━━━━━━━━━━━━━━━━━━\u001b[0m\u001b[37m\u001b[0m \u001b[1m2s\u001b[0m 888us/step - loss: 5.3696\n",
      "Epoch 141/1000\n",
      "\u001b[1m2766/2766\u001b[0m \u001b[32m━━━━━━━━━━━━━━━━━━━━\u001b[0m\u001b[37m\u001b[0m \u001b[1m2s\u001b[0m 887us/step - loss: 5.3710\n",
      "Epoch 142/1000\n",
      "\u001b[1m2766/2766\u001b[0m \u001b[32m━━━━━━━━━━━━━━━━━━━━\u001b[0m\u001b[37m\u001b[0m \u001b[1m3s\u001b[0m 984us/step - loss: 5.3674\n",
      "Epoch 143/1000\n",
      "\u001b[1m2766/2766\u001b[0m \u001b[32m━━━━━━━━━━━━━━━━━━━━\u001b[0m\u001b[37m\u001b[0m \u001b[1m2s\u001b[0m 875us/step - loss: 5.3712\n",
      "Epoch 144/1000\n",
      "\u001b[1m2766/2766\u001b[0m \u001b[32m━━━━━━━━━━━━━━━━━━━━\u001b[0m\u001b[37m\u001b[0m \u001b[1m2s\u001b[0m 875us/step - loss: 5.3694\n",
      "Epoch 145/1000\n",
      "\u001b[1m2766/2766\u001b[0m \u001b[32m━━━━━━━━━━━━━━━━━━━━\u001b[0m\u001b[37m\u001b[0m \u001b[1m2s\u001b[0m 864us/step - loss: 5.3723\n",
      "Epoch 146/1000\n",
      "\u001b[1m2766/2766\u001b[0m \u001b[32m━━━━━━━━━━━━━━━━━━━━\u001b[0m\u001b[37m\u001b[0m \u001b[1m3s\u001b[0m 943us/step - loss: 5.3679\n",
      "Epoch 147/1000\n",
      "\u001b[1m2766/2766\u001b[0m \u001b[32m━━━━━━━━━━━━━━━━━━━━\u001b[0m\u001b[37m\u001b[0m \u001b[1m3s\u001b[0m 936us/step - loss: 5.3701\n",
      "Epoch 148/1000\n",
      "\u001b[1m2766/2766\u001b[0m \u001b[32m━━━━━━━━━━━━━━━━━━━━\u001b[0m\u001b[37m\u001b[0m \u001b[1m3s\u001b[0m 1ms/step - loss: 5.3707\n",
      "Epoch 149/1000\n",
      "\u001b[1m2766/2766\u001b[0m \u001b[32m━━━━━━━━━━━━━━━━━━━━\u001b[0m\u001b[37m\u001b[0m \u001b[1m5s\u001b[0m 785us/step - loss: 5.3677\n",
      "Epoch 150/1000\n",
      "\u001b[1m2766/2766\u001b[0m \u001b[32m━━━━━━━━━━━━━━━━━━━━\u001b[0m\u001b[37m\u001b[0m \u001b[1m2s\u001b[0m 815us/step - loss: 5.3693\n",
      "Epoch 151/1000\n",
      "\u001b[1m2766/2766\u001b[0m \u001b[32m━━━━━━━━━━━━━━━━━━━━\u001b[0m\u001b[37m\u001b[0m \u001b[1m2s\u001b[0m 786us/step - loss: 5.3697\n",
      "Epoch 152/1000\n",
      "\u001b[1m2766/2766\u001b[0m \u001b[32m━━━━━━━━━━━━━━━━━━━━\u001b[0m\u001b[37m\u001b[0m \u001b[1m2s\u001b[0m 825us/step - loss: 5.3688\n",
      "Epoch 153/1000\n",
      "\u001b[1m2766/2766\u001b[0m \u001b[32m━━━━━━━━━━━━━━━━━━━━\u001b[0m\u001b[37m\u001b[0m \u001b[1m3s\u001b[0m 936us/step - loss: 5.3669\n",
      "Epoch 154/1000\n",
      "\u001b[1m2766/2766\u001b[0m \u001b[32m━━━━━━━━━━━━━━━━━━━━\u001b[0m\u001b[37m\u001b[0m \u001b[1m2s\u001b[0m 864us/step - loss: 5.3706\n",
      "Epoch 155/1000\n",
      "\u001b[1m2766/2766\u001b[0m \u001b[32m━━━━━━━━━━━━━━━━━━━━\u001b[0m\u001b[37m\u001b[0m \u001b[1m3s\u001b[0m 962us/step - loss: 5.3639\n",
      "Epoch 156/1000\n",
      "\u001b[1m2766/2766\u001b[0m \u001b[32m━━━━━━━━━━━━━━━━━━━━\u001b[0m\u001b[37m\u001b[0m \u001b[1m3s\u001b[0m 983us/step - loss: 5.3688\n",
      "Epoch 157/1000\n",
      "\u001b[1m2766/2766\u001b[0m \u001b[32m━━━━━━━━━━━━━━━━━━━━\u001b[0m\u001b[37m\u001b[0m \u001b[1m3s\u001b[0m 899us/step - loss: 5.3703\n",
      "Epoch 158/1000\n",
      "\u001b[1m2766/2766\u001b[0m \u001b[32m━━━━━━━━━━━━━━━━━━━━\u001b[0m\u001b[37m\u001b[0m \u001b[1m2s\u001b[0m 861us/step - loss: 5.3696\n",
      "Epoch 159/1000\n",
      "\u001b[1m2766/2766\u001b[0m \u001b[32m━━━━━━━━━━━━━━━━━━━━\u001b[0m\u001b[37m\u001b[0m \u001b[1m2s\u001b[0m 763us/step - loss: 5.3680\n",
      "Epoch 160/1000\n",
      "\u001b[1m2766/2766\u001b[0m \u001b[32m━━━━━━━━━━━━━━━━━━━━\u001b[0m\u001b[37m\u001b[0m \u001b[1m2s\u001b[0m 760us/step - loss: 5.3713\n",
      "Epoch 161/1000\n",
      "\u001b[1m2766/2766\u001b[0m \u001b[32m━━━━━━━━━━━━━━━━━━━━\u001b[0m\u001b[37m\u001b[0m \u001b[1m2s\u001b[0m 775us/step - loss: 5.3688\n",
      "Epoch 162/1000\n",
      "\u001b[1m2766/2766\u001b[0m \u001b[32m━━━━━━━━━━━━━━━━━━━━\u001b[0m\u001b[37m\u001b[0m \u001b[1m2s\u001b[0m 767us/step - loss: 5.3702\n",
      "Epoch 163/1000\n",
      "\u001b[1m2766/2766\u001b[0m \u001b[32m━━━━━━━━━━━━━━━━━━━━\u001b[0m\u001b[37m\u001b[0m \u001b[1m2s\u001b[0m 771us/step - loss: 5.3696\n",
      "Epoch 164/1000\n",
      "\u001b[1m2766/2766\u001b[0m \u001b[32m━━━━━━━━━━━━━━━━━━━━\u001b[0m\u001b[37m\u001b[0m \u001b[1m2s\u001b[0m 792us/step - loss: 5.3702\n",
      "Epoch 165/1000\n",
      "\u001b[1m2766/2766\u001b[0m \u001b[32m━━━━━━━━━━━━━━━━━━━━\u001b[0m\u001b[37m\u001b[0m \u001b[1m2s\u001b[0m 792us/step - loss: 5.3665\n",
      "Epoch 166/1000\n",
      "\u001b[1m2766/2766\u001b[0m \u001b[32m━━━━━━━━━━━━━━━━━━━━\u001b[0m\u001b[37m\u001b[0m \u001b[1m3s\u001b[0m 1ms/step - loss: 5.3661\n",
      "Epoch 167/1000\n",
      "\u001b[1m2766/2766\u001b[0m \u001b[32m━━━━━━━━━━━━━━━━━━━━\u001b[0m\u001b[37m\u001b[0m \u001b[1m3s\u001b[0m 977us/step - loss: 5.3695\n",
      "Epoch 168/1000\n",
      "\u001b[1m2766/2766\u001b[0m \u001b[32m━━━━━━━━━━━━━━━━━━━━\u001b[0m\u001b[37m\u001b[0m \u001b[1m2s\u001b[0m 831us/step - loss: 5.3697\n",
      "Epoch 169/1000\n",
      "\u001b[1m2766/2766\u001b[0m \u001b[32m━━━━━━━━━━━━━━━━━━━━\u001b[0m\u001b[37m\u001b[0m \u001b[1m2s\u001b[0m 845us/step - loss: 5.3702\n",
      "Epoch 170/1000\n",
      "\u001b[1m2766/2766\u001b[0m \u001b[32m━━━━━━━━━━━━━━━━━━━━\u001b[0m\u001b[37m\u001b[0m \u001b[1m2s\u001b[0m 839us/step - loss: 5.3707\n",
      "Epoch 171/1000\n",
      "\u001b[1m2766/2766\u001b[0m \u001b[32m━━━━━━━━━━━━━━━━━━━━\u001b[0m\u001b[37m\u001b[0m \u001b[1m2s\u001b[0m 835us/step - loss: 5.3693\n",
      "Epoch 172/1000\n",
      "\u001b[1m2766/2766\u001b[0m \u001b[32m━━━━━━━━━━━━━━━━━━━━\u001b[0m\u001b[37m\u001b[0m \u001b[1m2s\u001b[0m 821us/step - loss: 5.3691\n",
      "Epoch 173/1000\n",
      "\u001b[1m2766/2766\u001b[0m \u001b[32m━━━━━━━━━━━━━━━━━━━━\u001b[0m\u001b[37m\u001b[0m \u001b[1m2s\u001b[0m 827us/step - loss: 5.3691\n",
      "Epoch 174/1000\n",
      "\u001b[1m2766/2766\u001b[0m \u001b[32m━━━━━━━━━━━━━━━━━━━━\u001b[0m\u001b[37m\u001b[0m \u001b[1m3s\u001b[0m 948us/step - loss: 5.3674\n",
      "Epoch 175/1000\n",
      "\u001b[1m2766/2766\u001b[0m \u001b[32m━━━━━━━━━━━━━━━━━━━━\u001b[0m\u001b[37m\u001b[0m \u001b[1m3s\u001b[0m 984us/step - loss: 5.3689\n",
      "Epoch 176/1000\n",
      "\u001b[1m2766/2766\u001b[0m \u001b[32m━━━━━━━━━━━━━━━━━━━━\u001b[0m\u001b[37m\u001b[0m \u001b[1m2s\u001b[0m 840us/step - loss: 5.3687\n",
      "Epoch 177/1000\n",
      "\u001b[1m2766/2766\u001b[0m \u001b[32m━━━━━━━━━━━━━━━━━━━━\u001b[0m\u001b[37m\u001b[0m \u001b[1m2s\u001b[0m 831us/step - loss: 5.3700\n",
      "Epoch 178/1000\n",
      "\u001b[1m2766/2766\u001b[0m \u001b[32m━━━━━━━━━━━━━━━━━━━━\u001b[0m\u001b[37m\u001b[0m \u001b[1m2s\u001b[0m 841us/step - loss: 5.3708\n",
      "Epoch 179/1000\n",
      "\u001b[1m2766/2766\u001b[0m \u001b[32m━━━━━━━━━━━━━━━━━━━━\u001b[0m\u001b[37m\u001b[0m \u001b[1m2s\u001b[0m 835us/step - loss: 5.3697\n",
      "Epoch 180/1000\n",
      "\u001b[1m2766/2766\u001b[0m \u001b[32m━━━━━━━━━━━━━━━━━━━━\u001b[0m\u001b[37m\u001b[0m \u001b[1m2s\u001b[0m 836us/step - loss: 5.3667\n",
      "Epoch 181/1000\n",
      "\u001b[1m2766/2766\u001b[0m \u001b[32m━━━━━━━━━━━━━━━━━━━━\u001b[0m\u001b[37m\u001b[0m \u001b[1m2s\u001b[0m 836us/step - loss: 5.3693\n",
      "Epoch 182/1000\n",
      "\u001b[1m2766/2766\u001b[0m \u001b[32m━━━━━━━━━━━━━━━━━━━━\u001b[0m\u001b[37m\u001b[0m \u001b[1m2s\u001b[0m 828us/step - loss: 5.3689\n",
      "Epoch 183/1000\n",
      "\u001b[1m2766/2766\u001b[0m \u001b[32m━━━━━━━━━━━━━━━━━━━━\u001b[0m\u001b[37m\u001b[0m \u001b[1m2s\u001b[0m 829us/step - loss: 5.3676\n",
      "Epoch 184/1000\n",
      "\u001b[1m2766/2766\u001b[0m \u001b[32m━━━━━━━━━━━━━━━━━━━━\u001b[0m\u001b[37m\u001b[0m \u001b[1m2s\u001b[0m 829us/step - loss: 5.3686\n",
      "Epoch 185/1000\n",
      "\u001b[1m2766/2766\u001b[0m \u001b[32m━━━━━━━━━━━━━━━━━━━━\u001b[0m\u001b[37m\u001b[0m \u001b[1m2s\u001b[0m 828us/step - loss: 5.3684\n",
      "Epoch 186/1000\n",
      "\u001b[1m2766/2766\u001b[0m \u001b[32m━━━━━━━━━━━━━━━━━━━━\u001b[0m\u001b[37m\u001b[0m \u001b[1m2s\u001b[0m 831us/step - loss: 5.3641\n",
      "Epoch 187/1000\n",
      "\u001b[1m2766/2766\u001b[0m \u001b[32m━━━━━━━━━━━━━━━━━━━━\u001b[0m\u001b[37m\u001b[0m \u001b[1m3s\u001b[0m 915us/step - loss: 5.3696\n",
      "Epoch 188/1000\n",
      "\u001b[1m2766/2766\u001b[0m \u001b[32m━━━━━━━━━━━━━━━━━━━━\u001b[0m\u001b[37m\u001b[0m \u001b[1m4s\u001b[0m 2ms/step - loss: 5.3686\n",
      "Epoch 189/1000\n",
      "\u001b[1m2766/2766\u001b[0m \u001b[32m━━━━━━━━━━━━━━━━━━━━\u001b[0m\u001b[37m\u001b[0m \u001b[1m4s\u001b[0m 1ms/step - loss: 5.3687\n",
      "Epoch 190/1000\n",
      "\u001b[1m2766/2766\u001b[0m \u001b[32m━━━━━━━━━━━━━━━━━━━━\u001b[0m\u001b[37m\u001b[0m \u001b[1m3s\u001b[0m 1ms/step - loss: 5.3685\n",
      "Epoch 191/1000\n",
      "\u001b[1m2766/2766\u001b[0m \u001b[32m━━━━━━━━━━━━━━━━━━━━\u001b[0m\u001b[37m\u001b[0m \u001b[1m3s\u001b[0m 1ms/step - loss: 5.3695\n",
      "Epoch 192/1000\n",
      "\u001b[1m2766/2766\u001b[0m \u001b[32m━━━━━━━━━━━━━━━━━━━━\u001b[0m\u001b[37m\u001b[0m \u001b[1m3s\u001b[0m 929us/step - loss: 5.3663\n",
      "Epoch 193/1000\n",
      "\u001b[1m2766/2766\u001b[0m \u001b[32m━━━━━━━━━━━━━━━━━━━━\u001b[0m\u001b[37m\u001b[0m \u001b[1m5s\u001b[0m 943us/step - loss: 5.3694\n",
      "Epoch 194/1000\n",
      "\u001b[1m2766/2766\u001b[0m \u001b[32m━━━━━━━━━━━━━━━━━━━━\u001b[0m\u001b[37m\u001b[0m \u001b[1m2s\u001b[0m 872us/step - loss: 5.3694\n",
      "Epoch 195/1000\n",
      "\u001b[1m2766/2766\u001b[0m \u001b[32m━━━━━━━━━━━━━━━━━━━━\u001b[0m\u001b[37m\u001b[0m \u001b[1m3s\u001b[0m 957us/step - loss: 5.3686\n",
      "Epoch 196/1000\n",
      "\u001b[1m2766/2766\u001b[0m \u001b[32m━━━━━━━━━━━━━━━━━━━━\u001b[0m\u001b[37m\u001b[0m \u001b[1m3s\u001b[0m 1ms/step - loss: 5.3709\n",
      "Epoch 197/1000\n",
      "\u001b[1m2766/2766\u001b[0m \u001b[32m━━━━━━━━━━━━━━━━━━━━\u001b[0m\u001b[37m\u001b[0m \u001b[1m3s\u001b[0m 1ms/step - loss: 5.3687\n",
      "Epoch 198/1000\n",
      "\u001b[1m2766/2766\u001b[0m \u001b[32m━━━━━━━━━━━━━━━━━━━━\u001b[0m\u001b[37m\u001b[0m \u001b[1m3s\u001b[0m 994us/step - loss: 5.3682\n",
      "Epoch 199/1000\n",
      "\u001b[1m2766/2766\u001b[0m \u001b[32m━━━━━━━━━━━━━━━━━━━━\u001b[0m\u001b[37m\u001b[0m \u001b[1m2s\u001b[0m 868us/step - loss: 5.3711\n",
      "Epoch 200/1000\n",
      "\u001b[1m2766/2766\u001b[0m \u001b[32m━━━━━━━━━━━━━━━━━━━━\u001b[0m\u001b[37m\u001b[0m \u001b[1m2s\u001b[0m 865us/step - loss: 5.3692\n",
      "Epoch 201/1000\n",
      "\u001b[1m2766/2766\u001b[0m \u001b[32m━━━━━━━━━━━━━━━━━━━━\u001b[0m\u001b[37m\u001b[0m \u001b[1m2s\u001b[0m 868us/step - loss: 5.3648\n",
      "Epoch 202/1000\n",
      "\u001b[1m2766/2766\u001b[0m \u001b[32m━━━━━━━━━━━━━━━━━━━━\u001b[0m\u001b[37m\u001b[0m \u001b[1m3s\u001b[0m 935us/step - loss: 5.3692\n",
      "Epoch 203/1000\n",
      "\u001b[1m2766/2766\u001b[0m \u001b[32m━━━━━━━━━━━━━━━━━━━━\u001b[0m\u001b[37m\u001b[0m \u001b[1m2s\u001b[0m 874us/step - loss: 5.3668\n",
      "Epoch 204/1000\n",
      "\u001b[1m2766/2766\u001b[0m \u001b[32m━━━━━━━━━━━━━━━━━━━━\u001b[0m\u001b[37m\u001b[0m \u001b[1m2s\u001b[0m 852us/step - loss: 5.3698\n",
      "Epoch 205/1000\n",
      "\u001b[1m2766/2766\u001b[0m \u001b[32m━━━━━━━━━━━━━━━━━━━━\u001b[0m\u001b[37m\u001b[0m \u001b[1m2s\u001b[0m 872us/step - loss: 5.3714\n",
      "Epoch 206/1000\n",
      "\u001b[1m2766/2766\u001b[0m \u001b[32m━━━━━━━━━━━━━━━━━━━━\u001b[0m\u001b[37m\u001b[0m \u001b[1m3s\u001b[0m 1ms/step - loss: 5.3700\n",
      "Epoch 207/1000\n",
      "\u001b[1m2766/2766\u001b[0m \u001b[32m━━━━━━━━━━━━━━━━━━━━\u001b[0m\u001b[37m\u001b[0m \u001b[1m3s\u001b[0m 937us/step - loss: 5.3708\n",
      "Epoch 208/1000\n",
      "\u001b[1m2766/2766\u001b[0m \u001b[32m━━━━━━━━━━━━━━━━━━━━\u001b[0m\u001b[37m\u001b[0m \u001b[1m3s\u001b[0m 999us/step - loss: 5.3659 \n",
      "Epoch 209/1000\n",
      "\u001b[1m2766/2766\u001b[0m \u001b[32m━━━━━━━━━━━━━━━━━━━━\u001b[0m\u001b[37m\u001b[0m \u001b[1m3s\u001b[0m 983us/step - loss: 5.3711\n",
      "Epoch 210/1000\n",
      "\u001b[1m2766/2766\u001b[0m \u001b[32m━━━━━━━━━━━━━━━━━━━━\u001b[0m\u001b[37m\u001b[0m \u001b[1m3s\u001b[0m 920us/step - loss: 5.3696\n",
      "Epoch 211/1000\n",
      "\u001b[1m2766/2766\u001b[0m \u001b[32m━━━━━━━━━━━━━━━━━━━━\u001b[0m\u001b[37m\u001b[0m \u001b[1m3s\u001b[0m 903us/step - loss: 5.3679\n",
      "Epoch 212/1000\n",
      "\u001b[1m2766/2766\u001b[0m \u001b[32m━━━━━━━━━━━━━━━━━━━━\u001b[0m\u001b[37m\u001b[0m \u001b[1m2s\u001b[0m 877us/step - loss: 5.3703\n",
      "Epoch 213/1000\n",
      "\u001b[1m2766/2766\u001b[0m \u001b[32m━━━━━━━━━━━━━━━━━━━━\u001b[0m\u001b[37m\u001b[0m \u001b[1m2s\u001b[0m 838us/step - loss: 5.3682\n",
      "Epoch 214/1000\n",
      "\u001b[1m2766/2766\u001b[0m \u001b[32m━━━━━━━━━━━━━━━━━━━━\u001b[0m\u001b[37m\u001b[0m \u001b[1m2s\u001b[0m 868us/step - loss: 5.3704\n",
      "Epoch 215/1000\n",
      "\u001b[1m2766/2766\u001b[0m \u001b[32m━━━━━━━━━━━━━━━━━━━━\u001b[0m\u001b[37m\u001b[0m \u001b[1m2s\u001b[0m 882us/step - loss: 5.3709\n",
      "Epoch 216/1000\n",
      "\u001b[1m2766/2766\u001b[0m \u001b[32m━━━━━━━━━━━━━━━━━━━━\u001b[0m\u001b[37m\u001b[0m \u001b[1m2s\u001b[0m 879us/step - loss: 5.3692\n",
      "Epoch 217/1000\n",
      "\u001b[1m2766/2766\u001b[0m \u001b[32m━━━━━━━━━━━━━━━━━━━━\u001b[0m\u001b[37m\u001b[0m \u001b[1m2s\u001b[0m 879us/step - loss: 5.3724\n",
      "Epoch 218/1000\n",
      "\u001b[1m2766/2766\u001b[0m \u001b[32m━━━━━━━━━━━━━━━━━━━━\u001b[0m\u001b[37m\u001b[0m \u001b[1m3s\u001b[0m 1ms/step - loss: 5.3675\n",
      "Epoch 219/1000\n",
      "\u001b[1m2766/2766\u001b[0m \u001b[32m━━━━━━━━━━━━━━━━━━━━\u001b[0m\u001b[37m\u001b[0m \u001b[1m3s\u001b[0m 1ms/step - loss: 5.3729\n",
      "Epoch 220/1000\n",
      "\u001b[1m2766/2766\u001b[0m \u001b[32m━━━━━━━━━━━━━━━━━━━━\u001b[0m\u001b[37m\u001b[0m \u001b[1m3s\u001b[0m 1ms/step - loss: 5.3710\n",
      "Epoch 221/1000\n",
      "\u001b[1m2766/2766\u001b[0m \u001b[32m━━━━━━━━━━━━━━━━━━━━\u001b[0m\u001b[37m\u001b[0m \u001b[1m3s\u001b[0m 1ms/step - loss: 5.3711\n",
      "Epoch 222/1000\n",
      "\u001b[1m2766/2766\u001b[0m \u001b[32m━━━━━━━━━━━━━━━━━━━━\u001b[0m\u001b[37m\u001b[0m \u001b[1m3s\u001b[0m 1ms/step - loss: 5.3691\n",
      "Epoch 223/1000\n",
      "\u001b[1m2766/2766\u001b[0m \u001b[32m━━━━━━━━━━━━━━━━━━━━\u001b[0m\u001b[37m\u001b[0m \u001b[1m3s\u001b[0m 964us/step - loss: 5.3693\n",
      "Epoch 224/1000\n",
      "\u001b[1m2766/2766\u001b[0m \u001b[32m━━━━━━━━━━━━━━━━━━━━\u001b[0m\u001b[37m\u001b[0m \u001b[1m3s\u001b[0m 939us/step - loss: 5.3709\n",
      "Epoch 225/1000\n",
      "\u001b[1m2766/2766\u001b[0m \u001b[32m━━━━━━━━━━━━━━━━━━━━\u001b[0m\u001b[37m\u001b[0m \u001b[1m3s\u001b[0m 921us/step - loss: 5.3660\n",
      "Epoch 226/1000\n",
      "\u001b[1m2766/2766\u001b[0m \u001b[32m━━━━━━━━━━━━━━━━━━━━\u001b[0m\u001b[37m\u001b[0m \u001b[1m2s\u001b[0m 866us/step - loss: 5.3692\n",
      "Epoch 227/1000\n",
      "\u001b[1m2766/2766\u001b[0m \u001b[32m━━━━━━━━━━━━━━━━━━━━\u001b[0m\u001b[37m\u001b[0m \u001b[1m2s\u001b[0m 867us/step - loss: 5.3675\n",
      "Epoch 228/1000\n",
      "\u001b[1m2766/2766\u001b[0m \u001b[32m━━━━━━━━━━━━━━━━━━━━\u001b[0m\u001b[37m\u001b[0m \u001b[1m2s\u001b[0m 892us/step - loss: 5.3690\n",
      "Epoch 229/1000\n",
      "\u001b[1m2766/2766\u001b[0m \u001b[32m━━━━━━━━━━━━━━━━━━━━\u001b[0m\u001b[37m\u001b[0m \u001b[1m2s\u001b[0m 862us/step - loss: 5.3716\n",
      "Epoch 230/1000\n",
      "\u001b[1m2766/2766\u001b[0m \u001b[32m━━━━━━━━━━━━━━━━━━━━\u001b[0m\u001b[37m\u001b[0m \u001b[1m2s\u001b[0m 865us/step - loss: 5.3672\n",
      "Epoch 231/1000\n",
      "\u001b[1m2766/2766\u001b[0m \u001b[32m━━━━━━━━━━━━━━━━━━━━\u001b[0m\u001b[37m\u001b[0m \u001b[1m2s\u001b[0m 888us/step - loss: 5.3707\n",
      "Epoch 232/1000\n",
      "\u001b[1m2766/2766\u001b[0m \u001b[32m━━━━━━━━━━━━━━━━━━━━\u001b[0m\u001b[37m\u001b[0m \u001b[1m2s\u001b[0m 868us/step - loss: 5.3678\n",
      "Epoch 233/1000\n",
      "\u001b[1m2766/2766\u001b[0m \u001b[32m━━━━━━━━━━━━━━━━━━━━\u001b[0m\u001b[37m\u001b[0m \u001b[1m3s\u001b[0m 898us/step - loss: 5.3709\n",
      "Epoch 234/1000\n",
      "\u001b[1m2766/2766\u001b[0m \u001b[32m━━━━━━━━━━━━━━━━━━━━\u001b[0m\u001b[37m\u001b[0m \u001b[1m3s\u001b[0m 897us/step - loss: 5.3678\n",
      "Epoch 235/1000\n",
      "\u001b[1m2766/2766\u001b[0m \u001b[32m━━━━━━━━━━━━━━━━━━━━\u001b[0m\u001b[37m\u001b[0m \u001b[1m3s\u001b[0m 894us/step - loss: 5.3699\n",
      "Epoch 236/1000\n",
      "\u001b[1m2766/2766\u001b[0m \u001b[32m━━━━━━━━━━━━━━━━━━━━\u001b[0m\u001b[37m\u001b[0m \u001b[1m3s\u001b[0m 917us/step - loss: 5.3695\n",
      "Epoch 237/1000\n",
      "\u001b[1m2766/2766\u001b[0m \u001b[32m━━━━━━━━━━━━━━━━━━━━\u001b[0m\u001b[37m\u001b[0m \u001b[1m2s\u001b[0m 872us/step - loss: 5.3677\n",
      "Epoch 238/1000\n",
      "\u001b[1m2766/2766\u001b[0m \u001b[32m━━━━━━━━━━━━━━━━━━━━\u001b[0m\u001b[37m\u001b[0m \u001b[1m2s\u001b[0m 814us/step - loss: 5.3707\n",
      "Epoch 239/1000\n",
      "\u001b[1m2766/2766\u001b[0m \u001b[32m━━━━━━━━━━━━━━━━━━━━\u001b[0m\u001b[37m\u001b[0m \u001b[1m2s\u001b[0m 809us/step - loss: 5.3670\n",
      "Epoch 240/1000\n",
      "\u001b[1m2766/2766\u001b[0m \u001b[32m━━━━━━━━━━━━━━━━━━━━\u001b[0m\u001b[37m\u001b[0m \u001b[1m2s\u001b[0m 837us/step - loss: 5.3701\n",
      "Epoch 241/1000\n",
      "\u001b[1m2766/2766\u001b[0m \u001b[32m━━━━━━━━━━━━━━━━━━━━\u001b[0m\u001b[37m\u001b[0m \u001b[1m2s\u001b[0m 821us/step - loss: 5.3729\n",
      "Epoch 242/1000\n",
      "\u001b[1m2766/2766\u001b[0m \u001b[32m━━━━━━━━━━━━━━━━━━━━\u001b[0m\u001b[37m\u001b[0m \u001b[1m2s\u001b[0m 843us/step - loss: 5.3689\n",
      "Epoch 243/1000\n",
      "\u001b[1m2766/2766\u001b[0m \u001b[32m━━━━━━━━━━━━━━━━━━━━\u001b[0m\u001b[37m\u001b[0m \u001b[1m2s\u001b[0m 846us/step - loss: 5.3702\n",
      "Epoch 244/1000\n",
      "\u001b[1m2766/2766\u001b[0m \u001b[32m━━━━━━━━━━━━━━━━━━━━\u001b[0m\u001b[37m\u001b[0m \u001b[1m2s\u001b[0m 857us/step - loss: 5.3719\n",
      "Epoch 245/1000\n",
      "\u001b[1m2766/2766\u001b[0m \u001b[32m━━━━━━━━━━━━━━━━━━━━\u001b[0m\u001b[37m\u001b[0m \u001b[1m2s\u001b[0m 798us/step - loss: 5.3687\n",
      "Epoch 246/1000\n",
      "\u001b[1m2766/2766\u001b[0m \u001b[32m━━━━━━━━━━━━━━━━━━━━\u001b[0m\u001b[37m\u001b[0m \u001b[1m2s\u001b[0m 879us/step - loss: 5.3703\n",
      "Epoch 247/1000\n",
      "\u001b[1m2766/2766\u001b[0m \u001b[32m━━━━━━━━━━━━━━━━━━━━\u001b[0m\u001b[37m\u001b[0m \u001b[1m2s\u001b[0m 848us/step - loss: 5.3679\n",
      "Epoch 248/1000\n",
      "\u001b[1m2766/2766\u001b[0m \u001b[32m━━━━━━━━━━━━━━━━━━━━\u001b[0m\u001b[37m\u001b[0m \u001b[1m2s\u001b[0m 876us/step - loss: 5.3677\n",
      "Epoch 249/1000\n",
      "\u001b[1m2766/2766\u001b[0m \u001b[32m━━━━━━━━━━━━━━━━━━━━\u001b[0m\u001b[37m\u001b[0m \u001b[1m2s\u001b[0m 850us/step - loss: 5.3668\n",
      "Epoch 250/1000\n",
      "\u001b[1m2766/2766\u001b[0m \u001b[32m━━━━━━━━━━━━━━━━━━━━\u001b[0m\u001b[37m\u001b[0m \u001b[1m2s\u001b[0m 843us/step - loss: 5.3695\n",
      "Epoch 251/1000\n",
      "\u001b[1m2766/2766\u001b[0m \u001b[32m━━━━━━━━━━━━━━━━━━━━\u001b[0m\u001b[37m\u001b[0m \u001b[1m3s\u001b[0m 930us/step - loss: 5.3691\n",
      "Epoch 252/1000\n",
      "\u001b[1m2766/2766\u001b[0m \u001b[32m━━━━━━━━━━━━━━━━━━━━\u001b[0m\u001b[37m\u001b[0m \u001b[1m2s\u001b[0m 852us/step - loss: 5.3683\n",
      "Epoch 253/1000\n",
      "\u001b[1m2766/2766\u001b[0m \u001b[32m━━━━━━━━━━━━━━━━━━━━\u001b[0m\u001b[37m\u001b[0m \u001b[1m2s\u001b[0m 841us/step - loss: 5.3689\n",
      "Epoch 254/1000\n",
      "\u001b[1m2766/2766\u001b[0m \u001b[32m━━━━━━━━━━━━━━━━━━━━\u001b[0m\u001b[37m\u001b[0m \u001b[1m2s\u001b[0m 840us/step - loss: 5.3705\n",
      "Epoch 255/1000\n",
      "\u001b[1m2766/2766\u001b[0m \u001b[32m━━━━━━━━━━━━━━━━━━━━\u001b[0m\u001b[37m\u001b[0m \u001b[1m2s\u001b[0m 879us/step - loss: 5.3673\n",
      "Epoch 256/1000\n",
      "\u001b[1m2766/2766\u001b[0m \u001b[32m━━━━━━━━━━━━━━━━━━━━\u001b[0m\u001b[37m\u001b[0m \u001b[1m3s\u001b[0m 906us/step - loss: 5.3689\n",
      "Epoch 257/1000\n",
      "\u001b[1m2766/2766\u001b[0m \u001b[32m━━━━━━━━━━━━━━━━━━━━\u001b[0m\u001b[37m\u001b[0m \u001b[1m2s\u001b[0m 861us/step - loss: 5.3717\n",
      "Epoch 258/1000\n",
      "\u001b[1m2766/2766\u001b[0m \u001b[32m━━━━━━━━━━━━━━━━━━━━\u001b[0m\u001b[37m\u001b[0m \u001b[1m3s\u001b[0m 927us/step - loss: 5.3688\n",
      "Epoch 259/1000\n",
      "\u001b[1m2766/2766\u001b[0m \u001b[32m━━━━━━━━━━━━━━━━━━━━\u001b[0m\u001b[37m\u001b[0m \u001b[1m3s\u001b[0m 943us/step - loss: 5.3671\n",
      "Epoch 260/1000\n",
      "\u001b[1m2766/2766\u001b[0m \u001b[32m━━━━━━━━━━━━━━━━━━━━\u001b[0m\u001b[37m\u001b[0m \u001b[1m3s\u001b[0m 1ms/step - loss: 5.3696\n",
      "Epoch 261/1000\n",
      "\u001b[1m2766/2766\u001b[0m \u001b[32m━━━━━━━━━━━━━━━━━━━━\u001b[0m\u001b[37m\u001b[0m \u001b[1m3s\u001b[0m 944us/step - loss: 5.3691\n",
      "Epoch 262/1000\n",
      "\u001b[1m2766/2766\u001b[0m \u001b[32m━━━━━━━━━━━━━━━━━━━━\u001b[0m\u001b[37m\u001b[0m \u001b[1m3s\u001b[0m 945us/step - loss: 5.3695\n",
      "Epoch 263/1000\n",
      "\u001b[1m2766/2766\u001b[0m \u001b[32m━━━━━━━━━━━━━━━━━━━━\u001b[0m\u001b[37m\u001b[0m \u001b[1m3s\u001b[0m 986us/step - loss: 5.3675\n",
      "Epoch 264/1000\n",
      "\u001b[1m2766/2766\u001b[0m \u001b[32m━━━━━━━━━━━━━━━━━━━━\u001b[0m\u001b[37m\u001b[0m \u001b[1m3s\u001b[0m 1ms/step - loss: 5.3706\n",
      "Epoch 265/1000\n",
      "\u001b[1m2766/2766\u001b[0m \u001b[32m━━━━━━━━━━━━━━━━━━━━\u001b[0m\u001b[37m\u001b[0m \u001b[1m3s\u001b[0m 1ms/step - loss: 5.3696\n",
      "Epoch 266/1000\n",
      "\u001b[1m2766/2766\u001b[0m \u001b[32m━━━━━━━━━━━━━━━━━━━━\u001b[0m\u001b[37m\u001b[0m \u001b[1m3s\u001b[0m 966us/step - loss: 5.3698\n",
      "Epoch 267/1000\n",
      "\u001b[1m2766/2766\u001b[0m \u001b[32m━━━━━━━━━━━━━━━━━━━━\u001b[0m\u001b[37m\u001b[0m \u001b[1m3s\u001b[0m 989us/step - loss: 5.3682\n",
      "Epoch 268/1000\n",
      "\u001b[1m2766/2766\u001b[0m \u001b[32m━━━━━━━━━━━━━━━━━━━━\u001b[0m\u001b[37m\u001b[0m \u001b[1m4s\u001b[0m 1ms/step - loss: 5.3683\n",
      "Epoch 269/1000\n",
      "\u001b[1m2766/2766\u001b[0m \u001b[32m━━━━━━━━━━━━━━━━━━━━\u001b[0m\u001b[37m\u001b[0m \u001b[1m4s\u001b[0m 1ms/step - loss: 5.3678\n",
      "Epoch 270/1000\n",
      "\u001b[1m2766/2766\u001b[0m \u001b[32m━━━━━━━━━━━━━━━━━━━━\u001b[0m\u001b[37m\u001b[0m \u001b[1m3s\u001b[0m 1ms/step - loss: 5.3685\n",
      "Epoch 271/1000\n",
      "\u001b[1m2766/2766\u001b[0m \u001b[32m━━━━━━━━━━━━━━━━━━━━\u001b[0m\u001b[37m\u001b[0m \u001b[1m4s\u001b[0m 1ms/step - loss: 5.3690\n",
      "Epoch 272/1000\n",
      "\u001b[1m2766/2766\u001b[0m \u001b[32m━━━━━━━━━━━━━━━━━━━━\u001b[0m\u001b[37m\u001b[0m \u001b[1m4s\u001b[0m 2ms/step - loss: 5.3712\n",
      "Epoch 273/1000\n",
      "\u001b[1m2766/2766\u001b[0m \u001b[32m━━━━━━━━━━━━━━━━━━━━\u001b[0m\u001b[37m\u001b[0m \u001b[1m3s\u001b[0m 1ms/step - loss: 5.3671\n",
      "Epoch 274/1000\n",
      "\u001b[1m2766/2766\u001b[0m \u001b[32m━━━━━━━━━━━━━━━━━━━━\u001b[0m\u001b[37m\u001b[0m \u001b[1m3s\u001b[0m 1ms/step - loss: 5.3683\n",
      "Epoch 275/1000\n",
      "\u001b[1m2766/2766\u001b[0m \u001b[32m━━━━━━━━━━━━━━━━━━━━\u001b[0m\u001b[37m\u001b[0m \u001b[1m3s\u001b[0m 1ms/step - loss: 5.3653\n",
      "Epoch 276/1000\n",
      "\u001b[1m2766/2766\u001b[0m \u001b[32m━━━━━━━━━━━━━━━━━━━━\u001b[0m\u001b[37m\u001b[0m \u001b[1m3s\u001b[0m 1ms/step - loss: 5.3689\n",
      "Epoch 277/1000\n",
      "\u001b[1m2766/2766\u001b[0m \u001b[32m━━━━━━━━━━━━━━━━━━━━\u001b[0m\u001b[37m\u001b[0m \u001b[1m3s\u001b[0m 1ms/step - loss: 5.3692\n",
      "Epoch 278/1000\n",
      "\u001b[1m2766/2766\u001b[0m \u001b[32m━━━━━━━━━━━━━━━━━━━━\u001b[0m\u001b[37m\u001b[0m \u001b[1m3s\u001b[0m 1ms/step - loss: 5.3663\n",
      "Epoch 279/1000\n",
      "\u001b[1m2766/2766\u001b[0m \u001b[32m━━━━━━━━━━━━━━━━━━━━\u001b[0m\u001b[37m\u001b[0m \u001b[1m3s\u001b[0m 1ms/step - loss: 5.3653\n",
      "Epoch 280/1000\n",
      "\u001b[1m2766/2766\u001b[0m \u001b[32m━━━━━━━━━━━━━━━━━━━━\u001b[0m\u001b[37m\u001b[0m \u001b[1m3s\u001b[0m 1ms/step - loss: 5.3682\n",
      "Epoch 281/1000\n",
      "\u001b[1m2766/2766\u001b[0m \u001b[32m━━━━━━━━━━━━━━━━━━━━\u001b[0m\u001b[37m\u001b[0m \u001b[1m3s\u001b[0m 1ms/step - loss: 5.3694\n",
      "Epoch 282/1000\n",
      "\u001b[1m2766/2766\u001b[0m \u001b[32m━━━━━━━━━━━━━━━━━━━━\u001b[0m\u001b[37m\u001b[0m \u001b[1m3s\u001b[0m 890us/step - loss: 5.3693\n",
      "Epoch 283/1000\n",
      "\u001b[1m2766/2766\u001b[0m \u001b[32m━━━━━━━━━━━━━━━━━━━━\u001b[0m\u001b[37m\u001b[0m \u001b[1m2s\u001b[0m 880us/step - loss: 5.3652\n",
      "Epoch 284/1000\n",
      "\u001b[1m2766/2766\u001b[0m \u001b[32m━━━━━━━━━━━━━━━━━━━━\u001b[0m\u001b[37m\u001b[0m \u001b[1m2s\u001b[0m 838us/step - loss: 5.3673\n",
      "Epoch 285/1000\n",
      "\u001b[1m2766/2766\u001b[0m \u001b[32m━━━━━━━━━━━━━━━━━━━━\u001b[0m\u001b[37m\u001b[0m \u001b[1m2s\u001b[0m 843us/step - loss: 5.3693\n",
      "Epoch 286/1000\n",
      "\u001b[1m2766/2766\u001b[0m \u001b[32m━━━━━━━━━━━━━━━━━━━━\u001b[0m\u001b[37m\u001b[0m \u001b[1m3s\u001b[0m 894us/step - loss: 5.3689\n",
      "Epoch 287/1000\n",
      "\u001b[1m2766/2766\u001b[0m \u001b[32m━━━━━━━━━━━━━━━━━━━━\u001b[0m\u001b[37m\u001b[0m \u001b[1m2s\u001b[0m 876us/step - loss: 5.3723\n",
      "Epoch 288/1000\n",
      "\u001b[1m2766/2766\u001b[0m \u001b[32m━━━━━━━━━━━━━━━━━━━━\u001b[0m\u001b[37m\u001b[0m \u001b[1m2s\u001b[0m 849us/step - loss: 5.3685\n",
      "Epoch 289/1000\n",
      "\u001b[1m2766/2766\u001b[0m \u001b[32m━━━━━━━━━━━━━━━━━━━━\u001b[0m\u001b[37m\u001b[0m \u001b[1m3s\u001b[0m 916us/step - loss: 5.3710\n",
      "Epoch 290/1000\n",
      "\u001b[1m2766/2766\u001b[0m \u001b[32m━━━━━━━━━━━━━━━━━━━━\u001b[0m\u001b[37m\u001b[0m \u001b[1m2s\u001b[0m 879us/step - loss: 5.3687\n",
      "Epoch 291/1000\n",
      "\u001b[1m2766/2766\u001b[0m \u001b[32m━━━━━━━━━━━━━━━━━━━━\u001b[0m\u001b[37m\u001b[0m \u001b[1m3s\u001b[0m 892us/step - loss: 5.3700\n",
      "Epoch 292/1000\n",
      "\u001b[1m2766/2766\u001b[0m \u001b[32m━━━━━━━━━━━━━━━━━━━━\u001b[0m\u001b[37m\u001b[0m \u001b[1m3s\u001b[0m 910us/step - loss: 5.3679\n",
      "Epoch 293/1000\n",
      "\u001b[1m2766/2766\u001b[0m \u001b[32m━━━━━━━━━━━━━━━━━━━━\u001b[0m\u001b[37m\u001b[0m \u001b[1m3s\u001b[0m 1ms/step - loss: 5.3689\n",
      "Epoch 294/1000\n",
      "\u001b[1m2766/2766\u001b[0m \u001b[32m━━━━━━━━━━━━━━━━━━━━\u001b[0m\u001b[37m\u001b[0m \u001b[1m3s\u001b[0m 1ms/step - loss: 5.3695\n",
      "Epoch 295/1000\n",
      "\u001b[1m2766/2766\u001b[0m \u001b[32m━━━━━━━━━━━━━━━━━━━━\u001b[0m\u001b[37m\u001b[0m \u001b[1m3s\u001b[0m 1ms/step - loss: 5.3695\n",
      "Epoch 296/1000\n",
      "\u001b[1m2766/2766\u001b[0m \u001b[32m━━━━━━━━━━━━━━━━━━━━\u001b[0m\u001b[37m\u001b[0m \u001b[1m3s\u001b[0m 1ms/step - loss: 5.3692\n",
      "Epoch 297/1000\n",
      "\u001b[1m2766/2766\u001b[0m \u001b[32m━━━━━━━━━━━━━━━━━━━━\u001b[0m\u001b[37m\u001b[0m \u001b[1m3s\u001b[0m 1ms/step - loss: 5.3664\n",
      "Epoch 298/1000\n",
      "\u001b[1m2766/2766\u001b[0m \u001b[32m━━━━━━━━━━━━━━━━━━━━\u001b[0m\u001b[37m\u001b[0m \u001b[1m3s\u001b[0m 1ms/step - loss: 5.3691\n",
      "Epoch 299/1000\n",
      "\u001b[1m2766/2766\u001b[0m \u001b[32m━━━━━━━━━━━━━━━━━━━━\u001b[0m\u001b[37m\u001b[0m \u001b[1m3s\u001b[0m 1ms/step - loss: 5.3666\n",
      "Epoch 300/1000\n",
      "\u001b[1m2766/2766\u001b[0m \u001b[32m━━━━━━━━━━━━━━━━━━━━\u001b[0m\u001b[37m\u001b[0m \u001b[1m3s\u001b[0m 1ms/step - loss: 5.3705\n",
      "Epoch 301/1000\n",
      "\u001b[1m2766/2766\u001b[0m \u001b[32m━━━━━━━━━━━━━━━━━━━━\u001b[0m\u001b[37m\u001b[0m \u001b[1m3s\u001b[0m 1ms/step - loss: 5.3675\n",
      "Epoch 302/1000\n",
      "\u001b[1m2766/2766\u001b[0m \u001b[32m━━━━━━━━━━━━━━━━━━━━\u001b[0m\u001b[37m\u001b[0m \u001b[1m2s\u001b[0m 864us/step - loss: 5.3689\n",
      "Epoch 303/1000\n",
      "\u001b[1m2766/2766\u001b[0m \u001b[32m━━━━━━━━━━━━━━━━━━━━\u001b[0m\u001b[37m\u001b[0m \u001b[1m2s\u001b[0m 800us/step - loss: 5.3677\n",
      "Epoch 304/1000\n",
      "\u001b[1m2766/2766\u001b[0m \u001b[32m━━━━━━━━━━━━━━━━━━━━\u001b[0m\u001b[37m\u001b[0m \u001b[1m2s\u001b[0m 795us/step - loss: 5.3696\n",
      "Epoch 305/1000\n",
      "\u001b[1m2766/2766\u001b[0m \u001b[32m━━━━━━━━━━━━━━━━━━━━\u001b[0m\u001b[37m\u001b[0m \u001b[1m2s\u001b[0m 790us/step - loss: 5.3696\n",
      "Epoch 306/1000\n",
      "\u001b[1m2766/2766\u001b[0m \u001b[32m━━━━━━━━━━━━━━━━━━━━\u001b[0m\u001b[37m\u001b[0m \u001b[1m2s\u001b[0m 796us/step - loss: 5.3716\n",
      "Epoch 307/1000\n",
      "\u001b[1m2766/2766\u001b[0m \u001b[32m━━━━━━━━━━━━━━━━━━━━\u001b[0m\u001b[37m\u001b[0m \u001b[1m2s\u001b[0m 813us/step - loss: 5.3708\n",
      "Epoch 308/1000\n",
      "\u001b[1m2766/2766\u001b[0m \u001b[32m━━━━━━━━━━━━━━━━━━━━\u001b[0m\u001b[37m\u001b[0m \u001b[1m2s\u001b[0m 795us/step - loss: 5.3690\n",
      "Epoch 309/1000\n",
      "\u001b[1m2766/2766\u001b[0m \u001b[32m━━━━━━━━━━━━━━━━━━━━\u001b[0m\u001b[37m\u001b[0m \u001b[1m2s\u001b[0m 817us/step - loss: 5.3687\n",
      "Epoch 310/1000\n",
      "\u001b[1m2766/2766\u001b[0m \u001b[32m━━━━━━━━━━━━━━━━━━━━\u001b[0m\u001b[37m\u001b[0m \u001b[1m2s\u001b[0m 856us/step - loss: 5.3695\n",
      "Epoch 311/1000\n",
      "\u001b[1m2766/2766\u001b[0m \u001b[32m━━━━━━━━━━━━━━━━━━━━\u001b[0m\u001b[37m\u001b[0m \u001b[1m2s\u001b[0m 797us/step - loss: 5.3705\n",
      "Epoch 312/1000\n",
      "\u001b[1m2766/2766\u001b[0m \u001b[32m━━━━━━━━━━━━━━━━━━━━\u001b[0m\u001b[37m\u001b[0m \u001b[1m2s\u001b[0m 813us/step - loss: 5.3679\n",
      "Epoch 313/1000\n",
      "\u001b[1m2766/2766\u001b[0m \u001b[32m━━━━━━━━━━━━━━━━━━━━\u001b[0m\u001b[37m\u001b[0m \u001b[1m2s\u001b[0m 795us/step - loss: 5.3677\n",
      "Epoch 314/1000\n",
      "\u001b[1m2766/2766\u001b[0m \u001b[32m━━━━━━━━━━━━━━━━━━━━\u001b[0m\u001b[37m\u001b[0m \u001b[1m2s\u001b[0m 827us/step - loss: 5.3684\n",
      "Epoch 315/1000\n",
      "\u001b[1m2766/2766\u001b[0m \u001b[32m━━━━━━━━━━━━━━━━━━━━\u001b[0m\u001b[37m\u001b[0m \u001b[1m2s\u001b[0m 874us/step - loss: 5.3684\n",
      "Epoch 316/1000\n",
      "\u001b[1m2766/2766\u001b[0m \u001b[32m━━━━━━━━━━━━━━━━━━━━\u001b[0m\u001b[37m\u001b[0m \u001b[1m2s\u001b[0m 808us/step - loss: 5.3688\n",
      "Epoch 317/1000\n",
      "\u001b[1m2766/2766\u001b[0m \u001b[32m━━━━━━━━━━━━━━━━━━━━\u001b[0m\u001b[37m\u001b[0m \u001b[1m2s\u001b[0m 828us/step - loss: 5.3677\n",
      "Epoch 318/1000\n",
      "\u001b[1m2766/2766\u001b[0m \u001b[32m━━━━━━━━━━━━━━━━━━━━\u001b[0m\u001b[37m\u001b[0m \u001b[1m2s\u001b[0m 807us/step - loss: 5.3693\n",
      "Epoch 319/1000\n",
      "\u001b[1m2766/2766\u001b[0m \u001b[32m━━━━━━━━━━━━━━━━━━━━\u001b[0m\u001b[37m\u001b[0m \u001b[1m2s\u001b[0m 869us/step - loss: 5.3686\n",
      "Epoch 320/1000\n",
      "\u001b[1m2766/2766\u001b[0m \u001b[32m━━━━━━━━━━━━━━━━━━━━\u001b[0m\u001b[37m\u001b[0m \u001b[1m2s\u001b[0m 824us/step - loss: 5.3681\n",
      "Epoch 321/1000\n",
      "\u001b[1m2766/2766\u001b[0m \u001b[32m━━━━━━━━━━━━━━━━━━━━\u001b[0m\u001b[37m\u001b[0m \u001b[1m2s\u001b[0m 808us/step - loss: 5.3675\n",
      "Epoch 322/1000\n",
      "\u001b[1m2766/2766\u001b[0m \u001b[32m━━━━━━━━━━━━━━━━━━━━\u001b[0m\u001b[37m\u001b[0m \u001b[1m2s\u001b[0m 826us/step - loss: 5.3691\n",
      "Epoch 323/1000\n",
      "\u001b[1m2766/2766\u001b[0m \u001b[32m━━━━━━━━━━━━━━━━━━━━\u001b[0m\u001b[37m\u001b[0m \u001b[1m2s\u001b[0m 796us/step - loss: 5.3674\n",
      "Epoch 324/1000\n",
      "\u001b[1m2766/2766\u001b[0m \u001b[32m━━━━━━━━━━━━━━━━━━━━\u001b[0m\u001b[37m\u001b[0m \u001b[1m2s\u001b[0m 878us/step - loss: 5.3696\n",
      "Epoch 325/1000\n",
      "\u001b[1m2766/2766\u001b[0m \u001b[32m━━━━━━━━━━━━━━━━━━━━\u001b[0m\u001b[37m\u001b[0m \u001b[1m2s\u001b[0m 845us/step - loss: 5.3678\n",
      "Epoch 326/1000\n",
      "\u001b[1m2766/2766\u001b[0m \u001b[32m━━━━━━━━━━━━━━━━━━━━\u001b[0m\u001b[37m\u001b[0m \u001b[1m3s\u001b[0m 963us/step - loss: 5.3692\n",
      "Epoch 327/1000\n",
      "\u001b[1m2766/2766\u001b[0m \u001b[32m━━━━━━━━━━━━━━━━━━━━\u001b[0m\u001b[37m\u001b[0m \u001b[1m2s\u001b[0m 833us/step - loss: 5.3677\n",
      "Epoch 328/1000\n",
      "\u001b[1m2766/2766\u001b[0m \u001b[32m━━━━━━━━━━━━━━━━━━━━\u001b[0m\u001b[37m\u001b[0m \u001b[1m2s\u001b[0m 880us/step - loss: 5.3678\n",
      "Epoch 329/1000\n",
      "\u001b[1m2766/2766\u001b[0m \u001b[32m━━━━━━━━━━━━━━━━━━━━\u001b[0m\u001b[37m\u001b[0m \u001b[1m2s\u001b[0m 871us/step - loss: 5.3671\n",
      "Epoch 330/1000\n",
      "\u001b[1m2766/2766\u001b[0m \u001b[32m━━━━━━━━━━━━━━━━━━━━\u001b[0m\u001b[37m\u001b[0m \u001b[1m2s\u001b[0m 884us/step - loss: 5.3671\n",
      "Epoch 331/1000\n",
      "\u001b[1m2766/2766\u001b[0m \u001b[32m━━━━━━━━━━━━━━━━━━━━\u001b[0m\u001b[37m\u001b[0m \u001b[1m3s\u001b[0m 893us/step - loss: 5.3715\n",
      "Epoch 332/1000\n",
      "\u001b[1m2766/2766\u001b[0m \u001b[32m━━━━━━━━━━━━━━━━━━━━\u001b[0m\u001b[37m\u001b[0m \u001b[1m2s\u001b[0m 864us/step - loss: 5.3682\n",
      "Epoch 333/1000\n",
      "\u001b[1m2766/2766\u001b[0m \u001b[32m━━━━━━━━━━━━━━━━━━━━\u001b[0m\u001b[37m\u001b[0m \u001b[1m2s\u001b[0m 866us/step - loss: 5.3696\n",
      "Epoch 334/1000\n",
      "\u001b[1m2766/2766\u001b[0m \u001b[32m━━━━━━━━━━━━━━━━━━━━\u001b[0m\u001b[37m\u001b[0m \u001b[1m3s\u001b[0m 1ms/step - loss: 5.3670\n",
      "Epoch 335/1000\n",
      "\u001b[1m2766/2766\u001b[0m \u001b[32m━━━━━━━━━━━━━━━━━━━━\u001b[0m\u001b[37m\u001b[0m \u001b[1m3s\u001b[0m 1ms/step - loss: 5.3687\n",
      "Epoch 336/1000\n",
      "\u001b[1m2766/2766\u001b[0m \u001b[32m━━━━━━━━━━━━━━━━━━━━\u001b[0m\u001b[37m\u001b[0m \u001b[1m3s\u001b[0m 1ms/step - loss: 5.3702\n",
      "Epoch 337/1000\n",
      "\u001b[1m2766/2766\u001b[0m \u001b[32m━━━━━━━━━━━━━━━━━━━━\u001b[0m\u001b[37m\u001b[0m \u001b[1m3s\u001b[0m 1ms/step - loss: 5.3678\n",
      "Epoch 338/1000\n",
      "\u001b[1m2766/2766\u001b[0m \u001b[32m━━━━━━━━━━━━━━━━━━━━\u001b[0m\u001b[37m\u001b[0m \u001b[1m4s\u001b[0m 1ms/step - loss: 5.3658\n",
      "Epoch 339/1000\n",
      "\u001b[1m2766/2766\u001b[0m \u001b[32m━━━━━━━━━━━━━━━━━━━━\u001b[0m\u001b[37m\u001b[0m \u001b[1m3s\u001b[0m 1ms/step - loss: 5.3697\n",
      "Epoch 340/1000\n",
      "\u001b[1m2766/2766\u001b[0m \u001b[32m━━━━━━━━━━━━━━━━━━━━\u001b[0m\u001b[37m\u001b[0m \u001b[1m3s\u001b[0m 960us/step - loss: 5.3670\n",
      "Epoch 341/1000\n",
      "\u001b[1m2766/2766\u001b[0m \u001b[32m━━━━━━━━━━━━━━━━━━━━\u001b[0m\u001b[37m\u001b[0m \u001b[1m3s\u001b[0m 949us/step - loss: 5.3691\n",
      "Epoch 342/1000\n",
      "\u001b[1m2766/2766\u001b[0m \u001b[32m━━━━━━━━━━━━━━━━━━━━\u001b[0m\u001b[37m\u001b[0m \u001b[1m3s\u001b[0m 928us/step - loss: 5.3703\n",
      "Epoch 343/1000\n",
      "\u001b[1m2766/2766\u001b[0m \u001b[32m━━━━━━━━━━━━━━━━━━━━\u001b[0m\u001b[37m\u001b[0m \u001b[1m3s\u001b[0m 919us/step - loss: 5.3695\n",
      "Epoch 344/1000\n",
      "\u001b[1m2766/2766\u001b[0m \u001b[32m━━━━━━━━━━━━━━━━━━━━\u001b[0m\u001b[37m\u001b[0m \u001b[1m3s\u001b[0m 933us/step - loss: 5.3706\n",
      "Epoch 345/1000\n",
      "\u001b[1m2766/2766\u001b[0m \u001b[32m━━━━━━━━━━━━━━━━━━━━\u001b[0m\u001b[37m\u001b[0m \u001b[1m3s\u001b[0m 906us/step - loss: 5.3663\n",
      "Epoch 346/1000\n",
      "\u001b[1m2766/2766\u001b[0m \u001b[32m━━━━━━━━━━━━━━━━━━━━\u001b[0m\u001b[37m\u001b[0m \u001b[1m3s\u001b[0m 910us/step - loss: 5.3688\n",
      "Epoch 347/1000\n",
      "\u001b[1m2766/2766\u001b[0m \u001b[32m━━━━━━━━━━━━━━━━━━━━\u001b[0m\u001b[37m\u001b[0m \u001b[1m3s\u001b[0m 940us/step - loss: 5.3688\n",
      "Epoch 348/1000\n",
      "\u001b[1m2766/2766\u001b[0m \u001b[32m━━━━━━━━━━━━━━━━━━━━\u001b[0m\u001b[37m\u001b[0m \u001b[1m3s\u001b[0m 940us/step - loss: 5.3675\n",
      "Epoch 349/1000\n",
      "\u001b[1m2766/2766\u001b[0m \u001b[32m━━━━━━━━━━━━━━━━━━━━\u001b[0m\u001b[37m\u001b[0m \u001b[1m3s\u001b[0m 1ms/step - loss: 5.3701 \n",
      "Epoch 350/1000\n",
      "\u001b[1m2766/2766\u001b[0m \u001b[32m━━━━━━━━━━━━━━━━━━━━\u001b[0m\u001b[37m\u001b[0m \u001b[1m3s\u001b[0m 960us/step - loss: 5.3676\n",
      "Epoch 351/1000\n",
      "\u001b[1m2766/2766\u001b[0m \u001b[32m━━━━━━━━━━━━━━━━━━━━\u001b[0m\u001b[37m\u001b[0m \u001b[1m3s\u001b[0m 997us/step - loss: 5.3679\n",
      "Epoch 352/1000\n",
      "\u001b[1m2766/2766\u001b[0m \u001b[32m━━━━━━━━━━━━━━━━━━━━\u001b[0m\u001b[37m\u001b[0m \u001b[1m3s\u001b[0m 939us/step - loss: 5.3669\n",
      "Epoch 353/1000\n",
      "\u001b[1m2766/2766\u001b[0m \u001b[32m━━━━━━━━━━━━━━━━━━━━\u001b[0m\u001b[37m\u001b[0m \u001b[1m3s\u001b[0m 918us/step - loss: 5.3670\n",
      "Epoch 354/1000\n",
      "\u001b[1m2766/2766\u001b[0m \u001b[32m━━━━━━━━━━━━━━━━━━━━\u001b[0m\u001b[37m\u001b[0m \u001b[1m3s\u001b[0m 1ms/step - loss: 5.3707\n",
      "Epoch 355/1000\n",
      "\u001b[1m2766/2766\u001b[0m \u001b[32m━━━━━━━━━━━━━━━━━━━━\u001b[0m\u001b[37m\u001b[0m \u001b[1m3s\u001b[0m 920us/step - loss: 5.3659\n",
      "Epoch 356/1000\n",
      "\u001b[1m2766/2766\u001b[0m \u001b[32m━━━━━━━━━━━━━━━━━━━━\u001b[0m\u001b[37m\u001b[0m \u001b[1m3s\u001b[0m 1ms/step - loss: 5.3696\n",
      "Epoch 357/1000\n",
      "\u001b[1m2766/2766\u001b[0m \u001b[32m━━━━━━━━━━━━━━━━━━━━\u001b[0m\u001b[37m\u001b[0m \u001b[1m3s\u001b[0m 935us/step - loss: 5.3705\n",
      "Epoch 358/1000\n",
      "\u001b[1m2766/2766\u001b[0m \u001b[32m━━━━━━━━━━━━━━━━━━━━\u001b[0m\u001b[37m\u001b[0m \u001b[1m3s\u001b[0m 962us/step - loss: 5.3671\n",
      "Epoch 359/1000\n",
      "\u001b[1m2766/2766\u001b[0m \u001b[32m━━━━━━━━━━━━━━━━━━━━\u001b[0m\u001b[37m\u001b[0m \u001b[1m3s\u001b[0m 947us/step - loss: 5.3675\n",
      "Epoch 360/1000\n",
      "\u001b[1m2766/2766\u001b[0m \u001b[32m━━━━━━━━━━━━━━━━━━━━\u001b[0m\u001b[37m\u001b[0m \u001b[1m3s\u001b[0m 923us/step - loss: 5.3700\n",
      "Epoch 361/1000\n",
      "\u001b[1m2766/2766\u001b[0m \u001b[32m━━━━━━━━━━━━━━━━━━━━\u001b[0m\u001b[37m\u001b[0m \u001b[1m3s\u001b[0m 974us/step - loss: 5.3673\n",
      "Epoch 362/1000\n",
      "\u001b[1m2766/2766\u001b[0m \u001b[32m━━━━━━━━━━━━━━━━━━━━\u001b[0m\u001b[37m\u001b[0m \u001b[1m3s\u001b[0m 923us/step - loss: 5.3690\n",
      "Epoch 363/1000\n",
      "\u001b[1m2766/2766\u001b[0m \u001b[32m━━━━━━━━━━━━━━━━━━━━\u001b[0m\u001b[37m\u001b[0m \u001b[1m2s\u001b[0m 889us/step - loss: 5.3717\n",
      "Epoch 364/1000\n",
      "\u001b[1m2766/2766\u001b[0m \u001b[32m━━━━━━━━━━━━━━━━━━━━\u001b[0m\u001b[37m\u001b[0m \u001b[1m3s\u001b[0m 933us/step - loss: 5.3677\n",
      "Epoch 365/1000\n",
      "\u001b[1m2766/2766\u001b[0m \u001b[32m━━━━━━━━━━━━━━━━━━━━\u001b[0m\u001b[37m\u001b[0m \u001b[1m3s\u001b[0m 931us/step - loss: 5.3676\n",
      "Epoch 366/1000\n",
      "\u001b[1m2766/2766\u001b[0m \u001b[32m━━━━━━━━━━━━━━━━━━━━\u001b[0m\u001b[37m\u001b[0m \u001b[1m3s\u001b[0m 929us/step - loss: 5.3686\n",
      "Epoch 367/1000\n",
      "\u001b[1m2766/2766\u001b[0m \u001b[32m━━━━━━━━━━━━━━━━━━━━\u001b[0m\u001b[37m\u001b[0m \u001b[1m3s\u001b[0m 938us/step - loss: 5.3685\n",
      "Epoch 368/1000\n",
      "\u001b[1m2766/2766\u001b[0m \u001b[32m━━━━━━━━━━━━━━━━━━━━\u001b[0m\u001b[37m\u001b[0m \u001b[1m3s\u001b[0m 924us/step - loss: 5.3692\n",
      "Epoch 369/1000\n",
      "\u001b[1m2766/2766\u001b[0m \u001b[32m━━━━━━━━━━━━━━━━━━━━\u001b[0m\u001b[37m\u001b[0m \u001b[1m3s\u001b[0m 904us/step - loss: 5.3685\n",
      "Epoch 370/1000\n",
      "\u001b[1m2766/2766\u001b[0m \u001b[32m━━━━━━━━━━━━━━━━━━━━\u001b[0m\u001b[37m\u001b[0m \u001b[1m3s\u001b[0m 937us/step - loss: 5.3687\n",
      "Epoch 371/1000\n",
      "\u001b[1m2766/2766\u001b[0m \u001b[32m━━━━━━━━━━━━━━━━━━━━\u001b[0m\u001b[37m\u001b[0m \u001b[1m3s\u001b[0m 933us/step - loss: 5.3682\n",
      "Epoch 372/1000\n",
      "\u001b[1m2766/2766\u001b[0m \u001b[32m━━━━━━━━━━━━━━━━━━━━\u001b[0m\u001b[37m\u001b[0m \u001b[1m3s\u001b[0m 1ms/step - loss: 5.3650\n",
      "Epoch 373/1000\n",
      "\u001b[1m2766/2766\u001b[0m \u001b[32m━━━━━━━━━━━━━━━━━━━━\u001b[0m\u001b[37m\u001b[0m \u001b[1m3s\u001b[0m 969us/step - loss: 5.3677\n",
      "Epoch 374/1000\n",
      "\u001b[1m2766/2766\u001b[0m \u001b[32m━━━━━━━━━━━━━━━━━━━━\u001b[0m\u001b[37m\u001b[0m \u001b[1m3s\u001b[0m 1ms/step - loss: 5.3682\n",
      "Epoch 375/1000\n",
      "\u001b[1m2766/2766\u001b[0m \u001b[32m━━━━━━━━━━━━━━━━━━━━\u001b[0m\u001b[37m\u001b[0m \u001b[1m3s\u001b[0m 1ms/step - loss: 5.3726\n",
      "Epoch 376/1000\n",
      "\u001b[1m2766/2766\u001b[0m \u001b[32m━━━━━━━━━━━━━━━━━━━━\u001b[0m\u001b[37m\u001b[0m \u001b[1m3s\u001b[0m 1ms/step - loss: 5.3689\n",
      "Epoch 377/1000\n",
      "\u001b[1m2766/2766\u001b[0m \u001b[32m━━━━━━━━━━━━━━━━━━━━\u001b[0m\u001b[37m\u001b[0m \u001b[1m3s\u001b[0m 1ms/step - loss: 5.3683\n",
      "Epoch 378/1000\n",
      "\u001b[1m2766/2766\u001b[0m \u001b[32m━━━━━━━━━━━━━━━━━━━━\u001b[0m\u001b[37m\u001b[0m \u001b[1m3s\u001b[0m 951us/step - loss: 5.3707\n",
      "Epoch 379/1000\n",
      "\u001b[1m2766/2766\u001b[0m \u001b[32m━━━━━━━━━━━━━━━━━━━━\u001b[0m\u001b[37m\u001b[0m \u001b[1m3s\u001b[0m 927us/step - loss: 5.3658\n",
      "Epoch 380/1000\n",
      "\u001b[1m2766/2766\u001b[0m \u001b[32m━━━━━━━━━━━━━━━━━━━━\u001b[0m\u001b[37m\u001b[0m \u001b[1m3s\u001b[0m 934us/step - loss: 5.3730\n",
      "Epoch 381/1000\n",
      "\u001b[1m2766/2766\u001b[0m \u001b[32m━━━━━━━━━━━━━━━━━━━━\u001b[0m\u001b[37m\u001b[0m \u001b[1m3s\u001b[0m 933us/step - loss: 5.3708\n",
      "Epoch 382/1000\n",
      "\u001b[1m2766/2766\u001b[0m \u001b[32m━━━━━━━━━━━━━━━━━━━━\u001b[0m\u001b[37m\u001b[0m \u001b[1m3s\u001b[0m 963us/step - loss: 5.3668\n",
      "Epoch 383/1000\n",
      "\u001b[1m2766/2766\u001b[0m \u001b[32m━━━━━━━━━━━━━━━━━━━━\u001b[0m\u001b[37m\u001b[0m \u001b[1m3s\u001b[0m 977us/step - loss: 5.3667\n",
      "Epoch 384/1000\n",
      "\u001b[1m2766/2766\u001b[0m \u001b[32m━━━━━━━━━━━━━━━━━━━━\u001b[0m\u001b[37m\u001b[0m \u001b[1m3s\u001b[0m 1ms/step - loss: 5.3705\n",
      "Epoch 385/1000\n",
      "\u001b[1m2766/2766\u001b[0m \u001b[32m━━━━━━━━━━━━━━━━━━━━\u001b[0m\u001b[37m\u001b[0m \u001b[1m3s\u001b[0m 994us/step - loss: 5.3664\n",
      "Epoch 386/1000\n",
      "\u001b[1m2766/2766\u001b[0m \u001b[32m━━━━━━━━━━━━━━━━━━━━\u001b[0m\u001b[37m\u001b[0m \u001b[1m3s\u001b[0m 1ms/step - loss: 5.3685\n",
      "Epoch 387/1000\n",
      "\u001b[1m2766/2766\u001b[0m \u001b[32m━━━━━━━━━━━━━━━━━━━━\u001b[0m\u001b[37m\u001b[0m \u001b[1m4s\u001b[0m 1ms/step - loss: 5.3685\n",
      "Epoch 388/1000\n",
      "\u001b[1m2766/2766\u001b[0m \u001b[32m━━━━━━━━━━━━━━━━━━━━\u001b[0m\u001b[37m\u001b[0m \u001b[1m3s\u001b[0m 1ms/step - loss: 5.3680\n",
      "Epoch 389/1000\n",
      "\u001b[1m2766/2766\u001b[0m \u001b[32m━━━━━━━━━━━━━━━━━━━━\u001b[0m\u001b[37m\u001b[0m \u001b[1m3s\u001b[0m 972us/step - loss: 5.3675\n",
      "Epoch 390/1000\n",
      "\u001b[1m2766/2766\u001b[0m \u001b[32m━━━━━━━━━━━━━━━━━━━━\u001b[0m\u001b[37m\u001b[0m \u001b[1m3s\u001b[0m 1ms/step - loss: 5.3696\n",
      "Epoch 391/1000\n",
      "\u001b[1m2766/2766\u001b[0m \u001b[32m━━━━━━━━━━━━━━━━━━━━\u001b[0m\u001b[37m\u001b[0m \u001b[1m3s\u001b[0m 964us/step - loss: 5.3672\n",
      "Epoch 392/1000\n",
      "\u001b[1m2766/2766\u001b[0m \u001b[32m━━━━━━━━━━━━━━━━━━━━\u001b[0m\u001b[37m\u001b[0m \u001b[1m3s\u001b[0m 973us/step - loss: 5.3689\n",
      "Epoch 393/1000\n",
      "\u001b[1m2766/2766\u001b[0m \u001b[32m━━━━━━━━━━━━━━━━━━━━\u001b[0m\u001b[37m\u001b[0m \u001b[1m3s\u001b[0m 1ms/step - loss: 5.3706 \n",
      "Epoch 394/1000\n",
      "\u001b[1m2766/2766\u001b[0m \u001b[32m━━━━━━━━━━━━━━━━━━━━\u001b[0m\u001b[37m\u001b[0m \u001b[1m3s\u001b[0m 902us/step - loss: 5.3702\n",
      "Epoch 395/1000\n",
      "\u001b[1m2766/2766\u001b[0m \u001b[32m━━━━━━━━━━━━━━━━━━━━\u001b[0m\u001b[37m\u001b[0m \u001b[1m2s\u001b[0m 862us/step - loss: 5.3674\n",
      "Epoch 396/1000\n",
      "\u001b[1m2766/2766\u001b[0m \u001b[32m━━━━━━━━━━━━━━━━━━━━\u001b[0m\u001b[37m\u001b[0m \u001b[1m3s\u001b[0m 903us/step - loss: 5.3679\n",
      "Epoch 397/1000\n",
      "\u001b[1m2766/2766\u001b[0m \u001b[32m━━━━━━━━━━━━━━━━━━━━\u001b[0m\u001b[37m\u001b[0m \u001b[1m2s\u001b[0m 869us/step - loss: 5.3698\n",
      "Epoch 398/1000\n",
      "\u001b[1m2766/2766\u001b[0m \u001b[32m━━━━━━━━━━━━━━━━━━━━\u001b[0m\u001b[37m\u001b[0m \u001b[1m2s\u001b[0m 863us/step - loss: 5.3689\n",
      "Epoch 399/1000\n",
      "\u001b[1m2766/2766\u001b[0m \u001b[32m━━━━━━━━━━━━━━━━━━━━\u001b[0m\u001b[37m\u001b[0m \u001b[1m2s\u001b[0m 858us/step - loss: 5.3693\n",
      "Epoch 400/1000\n",
      "\u001b[1m2766/2766\u001b[0m \u001b[32m━━━━━━━━━━━━━━━━━━━━\u001b[0m\u001b[37m\u001b[0m \u001b[1m2s\u001b[0m 857us/step - loss: 5.3708\n",
      "Epoch 401/1000\n",
      "\u001b[1m2766/2766\u001b[0m \u001b[32m━━━━━━━━━━━━━━━━━━━━\u001b[0m\u001b[37m\u001b[0m \u001b[1m2s\u001b[0m 881us/step - loss: 5.3699\n",
      "Epoch 402/1000\n",
      "\u001b[1m2766/2766\u001b[0m \u001b[32m━━━━━━━━━━━━━━━━━━━━\u001b[0m\u001b[37m\u001b[0m \u001b[1m3s\u001b[0m 1ms/step - loss: 5.3679\n",
      "Epoch 403/1000\n",
      "\u001b[1m2766/2766\u001b[0m \u001b[32m━━━━━━━━━━━━━━━━━━━━\u001b[0m\u001b[37m\u001b[0m \u001b[1m3s\u001b[0m 1ms/step - loss: 5.3689\n",
      "Epoch 404/1000\n",
      "\u001b[1m2766/2766\u001b[0m \u001b[32m━━━━━━━━━━━━━━━━━━━━\u001b[0m\u001b[37m\u001b[0m \u001b[1m3s\u001b[0m 1ms/step - loss: 5.3689\n",
      "Epoch 405/1000\n",
      "\u001b[1m2766/2766\u001b[0m \u001b[32m━━━━━━━━━━━━━━━━━━━━\u001b[0m\u001b[37m\u001b[0m \u001b[1m3s\u001b[0m 1ms/step - loss: 5.3680\n",
      "Epoch 406/1000\n",
      "\u001b[1m2766/2766\u001b[0m \u001b[32m━━━━━━━━━━━━━━━━━━━━\u001b[0m\u001b[37m\u001b[0m \u001b[1m3s\u001b[0m 1ms/step - loss: 5.3685\n",
      "Epoch 407/1000\n",
      "\u001b[1m2766/2766\u001b[0m \u001b[32m━━━━━━━━━━━━━━━━━━━━\u001b[0m\u001b[37m\u001b[0m \u001b[1m3s\u001b[0m 896us/step - loss: 5.3685\n",
      "Epoch 408/1000\n",
      "\u001b[1m2766/2766\u001b[0m \u001b[32m━━━━━━━━━━━━━━━━━━━━\u001b[0m\u001b[37m\u001b[0m \u001b[1m2s\u001b[0m 880us/step - loss: 5.3694\n",
      "Epoch 409/1000\n",
      "\u001b[1m2766/2766\u001b[0m \u001b[32m━━━━━━━━━━━━━━━━━━━━\u001b[0m\u001b[37m\u001b[0m \u001b[1m2s\u001b[0m 890us/step - loss: 5.3702\n",
      "Epoch 410/1000\n",
      "\u001b[1m2766/2766\u001b[0m \u001b[32m━━━━━━━━━━━━━━━━━━━━\u001b[0m\u001b[37m\u001b[0m \u001b[1m2s\u001b[0m 892us/step - loss: 5.3684\n",
      "Epoch 411/1000\n",
      "\u001b[1m2766/2766\u001b[0m \u001b[32m━━━━━━━━━━━━━━━━━━━━\u001b[0m\u001b[37m\u001b[0m \u001b[1m3s\u001b[0m 965us/step - loss: 5.3654\n",
      "Epoch 412/1000\n",
      "\u001b[1m2766/2766\u001b[0m \u001b[32m━━━━━━━━━━━━━━━━━━━━\u001b[0m\u001b[37m\u001b[0m \u001b[1m3s\u001b[0m 916us/step - loss: 5.3663\n",
      "Epoch 413/1000\n",
      "\u001b[1m2766/2766\u001b[0m \u001b[32m━━━━━━━━━━━━━━━━━━━━\u001b[0m\u001b[37m\u001b[0m \u001b[1m2s\u001b[0m 890us/step - loss: 5.3686\n",
      "Epoch 414/1000\n",
      "\u001b[1m2766/2766\u001b[0m \u001b[32m━━━━━━━━━━━━━━━━━━━━\u001b[0m\u001b[37m\u001b[0m \u001b[1m3s\u001b[0m 967us/step - loss: 5.3668\n",
      "Epoch 415/1000\n",
      "\u001b[1m2766/2766\u001b[0m \u001b[32m━━━━━━━━━━━━━━━━━━━━\u001b[0m\u001b[37m\u001b[0m \u001b[1m3s\u001b[0m 928us/step - loss: 5.3685\n",
      "Epoch 416/1000\n",
      "\u001b[1m2766/2766\u001b[0m \u001b[32m━━━━━━━━━━━━━━━━━━━━\u001b[0m\u001b[37m\u001b[0m \u001b[1m3s\u001b[0m 895us/step - loss: 5.3675\n",
      "Epoch 417/1000\n",
      "\u001b[1m2766/2766\u001b[0m \u001b[32m━━━━━━━━━━━━━━━━━━━━\u001b[0m\u001b[37m\u001b[0m \u001b[1m3s\u001b[0m 1ms/step - loss: 5.3689\n",
      "Epoch 418/1000\n",
      "\u001b[1m2766/2766\u001b[0m \u001b[32m━━━━━━━━━━━━━━━━━━━━\u001b[0m\u001b[37m\u001b[0m \u001b[1m2s\u001b[0m 874us/step - loss: 5.3709\n",
      "Epoch 419/1000\n",
      "\u001b[1m2766/2766\u001b[0m \u001b[32m━━━━━━━━━━━━━━━━━━━━\u001b[0m\u001b[37m\u001b[0m \u001b[1m3s\u001b[0m 1ms/step - loss: 5.3706\n",
      "Epoch 420/1000\n",
      "\u001b[1m2766/2766\u001b[0m \u001b[32m━━━━━━━━━━━━━━━━━━━━\u001b[0m\u001b[37m\u001b[0m \u001b[1m3s\u001b[0m 1ms/step - loss: 5.3686\n",
      "Epoch 421/1000\n",
      "\u001b[1m2766/2766\u001b[0m \u001b[32m━━━━━━━━━━━━━━━━━━━━\u001b[0m\u001b[37m\u001b[0m \u001b[1m3s\u001b[0m 1ms/step - loss: 5.3689\n",
      "Epoch 422/1000\n",
      "\u001b[1m2766/2766\u001b[0m \u001b[32m━━━━━━━━━━━━━━━━━━━━\u001b[0m\u001b[37m\u001b[0m \u001b[1m3s\u001b[0m 1ms/step - loss: 5.3706\n",
      "Epoch 423/1000\n",
      "\u001b[1m2766/2766\u001b[0m \u001b[32m━━━━━━━━━━━━━━━━━━━━\u001b[0m\u001b[37m\u001b[0m \u001b[1m3s\u001b[0m 1ms/step - loss: 5.3689\n",
      "Epoch 424/1000\n",
      "\u001b[1m2766/2766\u001b[0m \u001b[32m━━━━━━━━━━━━━━━━━━━━\u001b[0m\u001b[37m\u001b[0m \u001b[1m3s\u001b[0m 947us/step - loss: 5.3708\n",
      "Epoch 425/1000\n",
      "\u001b[1m2766/2766\u001b[0m \u001b[32m━━━━━━━━━━━━━━━━━━━━\u001b[0m\u001b[37m\u001b[0m \u001b[1m3s\u001b[0m 973us/step - loss: 5.3661\n",
      "Epoch 426/1000\n",
      "\u001b[1m2766/2766\u001b[0m \u001b[32m━━━━━━━━━━━━━━━━━━━━\u001b[0m\u001b[37m\u001b[0m \u001b[1m3s\u001b[0m 955us/step - loss: 5.3702\n",
      "Epoch 427/1000\n",
      "\u001b[1m2766/2766\u001b[0m \u001b[32m━━━━━━━━━━━━━━━━━━━━\u001b[0m\u001b[37m\u001b[0m \u001b[1m3s\u001b[0m 1ms/step - loss: 5.3682\n",
      "Epoch 428/1000\n",
      "\u001b[1m2766/2766\u001b[0m \u001b[32m━━━━━━━━━━━━━━━━━━━━\u001b[0m\u001b[37m\u001b[0m \u001b[1m3s\u001b[0m 963us/step - loss: 5.3711\n",
      "Epoch 429/1000\n",
      "\u001b[1m2766/2766\u001b[0m \u001b[32m━━━━━━━━━━━━━━━━━━━━\u001b[0m\u001b[37m\u001b[0m \u001b[1m5s\u001b[0m 774us/step - loss: 5.3679\n",
      "Epoch 430/1000\n",
      "\u001b[1m2766/2766\u001b[0m \u001b[32m━━━━━━━━━━━━━━━━━━━━\u001b[0m\u001b[37m\u001b[0m \u001b[1m2s\u001b[0m 856us/step - loss: 5.3692\n",
      "Epoch 431/1000\n",
      "\u001b[1m2766/2766\u001b[0m \u001b[32m━━━━━━━━━━━━━━━━━━━━\u001b[0m\u001b[37m\u001b[0m \u001b[1m3s\u001b[0m 955us/step - loss: 5.3684\n",
      "Epoch 432/1000\n",
      "\u001b[1m2766/2766\u001b[0m \u001b[32m━━━━━━━━━━━━━━━━━━━━\u001b[0m\u001b[37m\u001b[0m \u001b[1m3s\u001b[0m 954us/step - loss: 5.3713\n",
      "Epoch 433/1000\n",
      "\u001b[1m2766/2766\u001b[0m \u001b[32m━━━━━━━━━━━━━━━━━━━━\u001b[0m\u001b[37m\u001b[0m \u001b[1m3s\u001b[0m 903us/step - loss: 5.3665\n",
      "Epoch 434/1000\n",
      "\u001b[1m2766/2766\u001b[0m \u001b[32m━━━━━━━━━━━━━━━━━━━━\u001b[0m\u001b[37m\u001b[0m \u001b[1m3s\u001b[0m 948us/step - loss: 5.3683\n",
      "Epoch 435/1000\n",
      "\u001b[1m2766/2766\u001b[0m \u001b[32m━━━━━━━━━━━━━━━━━━━━\u001b[0m\u001b[37m\u001b[0m \u001b[1m3s\u001b[0m 914us/step - loss: 5.3683\n",
      "Epoch 436/1000\n",
      "\u001b[1m2766/2766\u001b[0m \u001b[32m━━━━━━━━━━━━━━━━━━━━\u001b[0m\u001b[37m\u001b[0m \u001b[1m2s\u001b[0m 875us/step - loss: 5.3701\n",
      "Epoch 437/1000\n",
      "\u001b[1m2766/2766\u001b[0m \u001b[32m━━━━━━━━━━━━━━━━━━━━\u001b[0m\u001b[37m\u001b[0m \u001b[1m3s\u001b[0m 943us/step - loss: 5.3650\n",
      "Epoch 438/1000\n",
      "\u001b[1m2766/2766\u001b[0m \u001b[32m━━━━━━━━━━━━━━━━━━━━\u001b[0m\u001b[37m\u001b[0m \u001b[1m3s\u001b[0m 1ms/step - loss: 5.3673\n",
      "Epoch 439/1000\n",
      "\u001b[1m2766/2766\u001b[0m \u001b[32m━━━━━━━━━━━━━━━━━━━━\u001b[0m\u001b[37m\u001b[0m \u001b[1m3s\u001b[0m 931us/step - loss: 5.3671\n",
      "Epoch 440/1000\n",
      "\u001b[1m2766/2766\u001b[0m \u001b[32m━━━━━━━━━━━━━━━━━━━━\u001b[0m\u001b[37m\u001b[0m \u001b[1m3s\u001b[0m 948us/step - loss: 5.3677\n",
      "Epoch 441/1000\n",
      "\u001b[1m2766/2766\u001b[0m \u001b[32m━━━━━━━━━━━━━━━━━━━━\u001b[0m\u001b[37m\u001b[0m \u001b[1m3s\u001b[0m 951us/step - loss: 5.3701\n",
      "Epoch 442/1000\n",
      "\u001b[1m2766/2766\u001b[0m \u001b[32m━━━━━━━━━━━━━━━━━━━━\u001b[0m\u001b[37m\u001b[0m \u001b[1m3s\u001b[0m 1ms/step - loss: 5.3677\n",
      "Epoch 443/1000\n",
      "\u001b[1m2766/2766\u001b[0m \u001b[32m━━━━━━━━━━━━━━━━━━━━\u001b[0m\u001b[37m\u001b[0m \u001b[1m3s\u001b[0m 1ms/step - loss: 5.3692\n",
      "Epoch 444/1000\n",
      "\u001b[1m2766/2766\u001b[0m \u001b[32m━━━━━━━━━━━━━━━━━━━━\u001b[0m\u001b[37m\u001b[0m \u001b[1m3s\u001b[0m 1ms/step - loss: 5.3669\n",
      "Epoch 445/1000\n",
      "\u001b[1m2766/2766\u001b[0m \u001b[32m━━━━━━━━━━━━━━━━━━━━\u001b[0m\u001b[37m\u001b[0m \u001b[1m3s\u001b[0m 902us/step - loss: 5.3668\n",
      "Epoch 446/1000\n",
      "\u001b[1m2766/2766\u001b[0m \u001b[32m━━━━━━━━━━━━━━━━━━━━\u001b[0m\u001b[37m\u001b[0m \u001b[1m3s\u001b[0m 901us/step - loss: 5.3695\n",
      "Epoch 447/1000\n",
      "\u001b[1m2766/2766\u001b[0m \u001b[32m━━━━━━━━━━━━━━━━━━━━\u001b[0m\u001b[37m\u001b[0m \u001b[1m3s\u001b[0m 907us/step - loss: 5.3689\n",
      "Epoch 448/1000\n",
      "\u001b[1m2766/2766\u001b[0m \u001b[32m━━━━━━━━━━━━━━━━━━━━\u001b[0m\u001b[37m\u001b[0m \u001b[1m3s\u001b[0m 895us/step - loss: 5.3708\n",
      "Epoch 449/1000\n",
      "\u001b[1m2766/2766\u001b[0m \u001b[32m━━━━━━━━━━━━━━━━━━━━\u001b[0m\u001b[37m\u001b[0m \u001b[1m3s\u001b[0m 901us/step - loss: 5.3644\n",
      "Epoch 450/1000\n",
      "\u001b[1m2766/2766\u001b[0m \u001b[32m━━━━━━━━━━━━━━━━━━━━\u001b[0m\u001b[37m\u001b[0m \u001b[1m3s\u001b[0m 910us/step - loss: 5.3663\n",
      "Epoch 451/1000\n",
      "\u001b[1m2766/2766\u001b[0m \u001b[32m━━━━━━━━━━━━━━━━━━━━\u001b[0m\u001b[37m\u001b[0m \u001b[1m2s\u001b[0m 889us/step - loss: 5.3706\n",
      "Epoch 452/1000\n",
      "\u001b[1m2766/2766\u001b[0m \u001b[32m━━━━━━━━━━━━━━━━━━━━\u001b[0m\u001b[37m\u001b[0m \u001b[1m2s\u001b[0m 892us/step - loss: 5.3698\n",
      "Epoch 453/1000\n",
      "\u001b[1m2766/2766\u001b[0m \u001b[32m━━━━━━━━━━━━━━━━━━━━\u001b[0m\u001b[37m\u001b[0m \u001b[1m2s\u001b[0m 888us/step - loss: 5.3696\n",
      "Epoch 454/1000\n",
      "\u001b[1m2766/2766\u001b[0m \u001b[32m━━━━━━━━━━━━━━━━━━━━\u001b[0m\u001b[37m\u001b[0m \u001b[1m2s\u001b[0m 861us/step - loss: 5.3671\n",
      "Epoch 455/1000\n",
      "\u001b[1m2766/2766\u001b[0m \u001b[32m━━━━━━━━━━━━━━━━━━━━\u001b[0m\u001b[37m\u001b[0m \u001b[1m3s\u001b[0m 975us/step - loss: 5.3723\n",
      "Epoch 456/1000\n",
      "\u001b[1m2766/2766\u001b[0m \u001b[32m━━━━━━━━━━━━━━━━━━━━\u001b[0m\u001b[37m\u001b[0m \u001b[1m2s\u001b[0m 766us/step - loss: 5.3674\n",
      "Epoch 457/1000\n",
      "\u001b[1m2766/2766\u001b[0m \u001b[32m━━━━━━━━━━━━━━━━━━━━\u001b[0m\u001b[37m\u001b[0m \u001b[1m2s\u001b[0m 779us/step - loss: 5.3691\n",
      "Epoch 458/1000\n",
      "\u001b[1m2766/2766\u001b[0m \u001b[32m━━━━━━━━━━━━━━━━━━━━\u001b[0m\u001b[37m\u001b[0m \u001b[1m3s\u001b[0m 859us/step - loss: 5.3679\n",
      "Epoch 459/1000\n",
      "\u001b[1m2766/2766\u001b[0m \u001b[32m━━━━━━━━━━━━━━━━━━━━\u001b[0m\u001b[37m\u001b[0m \u001b[1m2s\u001b[0m 800us/step - loss: 5.3673\n",
      "Epoch 460/1000\n",
      "\u001b[1m2766/2766\u001b[0m \u001b[32m━━━━━━━━━━━━━━━━━━━━\u001b[0m\u001b[37m\u001b[0m \u001b[1m2s\u001b[0m 858us/step - loss: 5.3712\n",
      "Epoch 461/1000\n",
      "\u001b[1m2766/2766\u001b[0m \u001b[32m━━━━━━━━━━━━━━━━━━━━\u001b[0m\u001b[37m\u001b[0m \u001b[1m2s\u001b[0m 832us/step - loss: 5.3698\n",
      "Epoch 462/1000\n",
      "\u001b[1m2766/2766\u001b[0m \u001b[32m━━━━━━━━━━━━━━━━━━━━\u001b[0m\u001b[37m\u001b[0m \u001b[1m3s\u001b[0m 991us/step - loss: 5.3701\n",
      "Epoch 463/1000\n",
      "\u001b[1m2766/2766\u001b[0m \u001b[32m━━━━━━━━━━━━━━━━━━━━\u001b[0m\u001b[37m\u001b[0m \u001b[1m3s\u001b[0m 1ms/step - loss: 5.3683\n",
      "Epoch 464/1000\n",
      "\u001b[1m2766/2766\u001b[0m \u001b[32m━━━━━━━━━━━━━━━━━━━━\u001b[0m\u001b[37m\u001b[0m \u001b[1m2s\u001b[0m 885us/step - loss: 5.3687\n",
      "Epoch 465/1000\n",
      "\u001b[1m2766/2766\u001b[0m \u001b[32m━━━━━━━━━━━━━━━━━━━━\u001b[0m\u001b[37m\u001b[0m \u001b[1m3s\u001b[0m 895us/step - loss: 5.3673\n",
      "Epoch 466/1000\n",
      "\u001b[1m2766/2766\u001b[0m \u001b[32m━━━━━━━━━━━━━━━━━━━━\u001b[0m\u001b[37m\u001b[0m \u001b[1m3s\u001b[0m 937us/step - loss: 5.3665\n",
      "Epoch 467/1000\n",
      "\u001b[1m2766/2766\u001b[0m \u001b[32m━━━━━━━━━━━━━━━━━━━━\u001b[0m\u001b[37m\u001b[0m \u001b[1m2s\u001b[0m 886us/step - loss: 5.3663\n",
      "Epoch 468/1000\n",
      "\u001b[1m2766/2766\u001b[0m \u001b[32m━━━━━━━━━━━━━━━━━━━━\u001b[0m\u001b[37m\u001b[0m \u001b[1m3s\u001b[0m 948us/step - loss: 5.3671\n",
      "Epoch 469/1000\n",
      "\u001b[1m2766/2766\u001b[0m \u001b[32m━━━━━━━━━━━━━━━━━━━━\u001b[0m\u001b[37m\u001b[0m \u001b[1m2s\u001b[0m 808us/step - loss: 5.3693\n",
      "Epoch 470/1000\n",
      "\u001b[1m2766/2766\u001b[0m \u001b[32m━━━━━━━━━━━━━━━━━━━━\u001b[0m\u001b[37m\u001b[0m \u001b[1m2s\u001b[0m 778us/step - loss: 5.3684\n",
      "Epoch 471/1000\n",
      "\u001b[1m2766/2766\u001b[0m \u001b[32m━━━━━━━━━━━━━━━━━━━━\u001b[0m\u001b[37m\u001b[0m \u001b[1m2s\u001b[0m 796us/step - loss: 5.3689\n",
      "Epoch 472/1000\n",
      "\u001b[1m2766/2766\u001b[0m \u001b[32m━━━━━━━━━━━━━━━━━━━━\u001b[0m\u001b[37m\u001b[0m \u001b[1m2s\u001b[0m 806us/step - loss: 5.3714\n",
      "Epoch 473/1000\n",
      "\u001b[1m2766/2766\u001b[0m \u001b[32m━━━━━━━━━━━━━━━━━━━━\u001b[0m\u001b[37m\u001b[0m \u001b[1m2s\u001b[0m 809us/step - loss: 5.3666\n",
      "Epoch 474/1000\n",
      "\u001b[1m2766/2766\u001b[0m \u001b[32m━━━━━━━━━━━━━━━━━━━━\u001b[0m\u001b[37m\u001b[0m \u001b[1m2s\u001b[0m 791us/step - loss: 5.3673\n",
      "Epoch 475/1000\n",
      "\u001b[1m2766/2766\u001b[0m \u001b[32m━━━━━━━━━━━━━━━━━━━━\u001b[0m\u001b[37m\u001b[0m \u001b[1m2s\u001b[0m 809us/step - loss: 5.3708\n",
      "Epoch 476/1000\n",
      "\u001b[1m2766/2766\u001b[0m \u001b[32m━━━━━━━━━━━━━━━━━━━━\u001b[0m\u001b[37m\u001b[0m \u001b[1m2s\u001b[0m 806us/step - loss: 5.3668\n",
      "Epoch 477/1000\n",
      "\u001b[1m2766/2766\u001b[0m \u001b[32m━━━━━━━━━━━━━━━━━━━━\u001b[0m\u001b[37m\u001b[0m \u001b[1m2s\u001b[0m 814us/step - loss: 5.3697\n",
      "Epoch 478/1000\n",
      "\u001b[1m2766/2766\u001b[0m \u001b[32m━━━━━━━━━━━━━━━━━━━━\u001b[0m\u001b[37m\u001b[0m \u001b[1m2s\u001b[0m 810us/step - loss: 5.3673\n",
      "Epoch 479/1000\n",
      "\u001b[1m2766/2766\u001b[0m \u001b[32m━━━━━━━━━━━━━━━━━━━━\u001b[0m\u001b[37m\u001b[0m \u001b[1m2s\u001b[0m 816us/step - loss: 5.3670\n",
      "Epoch 480/1000\n",
      "\u001b[1m2766/2766\u001b[0m \u001b[32m━━━━━━━━━━━━━━━━━━━━\u001b[0m\u001b[37m\u001b[0m \u001b[1m2s\u001b[0m 872us/step - loss: 5.3672\n",
      "Epoch 481/1000\n",
      "\u001b[1m2766/2766\u001b[0m \u001b[32m━━━━━━━━━━━━━━━━━━━━\u001b[0m\u001b[37m\u001b[0m \u001b[1m2s\u001b[0m 860us/step - loss: 5.3694\n",
      "Epoch 482/1000\n",
      "\u001b[1m2766/2766\u001b[0m \u001b[32m━━━━━━━━━━━━━━━━━━━━\u001b[0m\u001b[37m\u001b[0m \u001b[1m2s\u001b[0m 827us/step - loss: 5.3682\n",
      "Epoch 483/1000\n",
      "\u001b[1m2766/2766\u001b[0m \u001b[32m━━━━━━━━━━━━━━━━━━━━\u001b[0m\u001b[37m\u001b[0m \u001b[1m2s\u001b[0m 811us/step - loss: 5.3684\n",
      "Epoch 484/1000\n",
      "\u001b[1m2766/2766\u001b[0m \u001b[32m━━━━━━━━━━━━━━━━━━━━\u001b[0m\u001b[37m\u001b[0m \u001b[1m2s\u001b[0m 889us/step - loss: 5.3693\n",
      "Epoch 485/1000\n",
      "\u001b[1m2766/2766\u001b[0m \u001b[32m━━━━━━━━━━━━━━━━━━━━\u001b[0m\u001b[37m\u001b[0m \u001b[1m3s\u001b[0m 948us/step - loss: 5.3699\n",
      "Epoch 486/1000\n",
      "\u001b[1m2766/2766\u001b[0m \u001b[32m━━━━━━━━━━━━━━━━━━━━\u001b[0m\u001b[37m\u001b[0m \u001b[1m3s\u001b[0m 901us/step - loss: 5.3720\n",
      "Epoch 487/1000\n",
      "\u001b[1m2766/2766\u001b[0m \u001b[32m━━━━━━━━━━━━━━━━━━━━\u001b[0m\u001b[37m\u001b[0m \u001b[1m2s\u001b[0m 878us/step - loss: 5.3690\n",
      "Epoch 488/1000\n",
      "\u001b[1m2766/2766\u001b[0m \u001b[32m━━━━━━━━━━━━━━━━━━━━\u001b[0m\u001b[37m\u001b[0m \u001b[1m3s\u001b[0m 893us/step - loss: 5.3660\n",
      "Epoch 489/1000\n",
      "\u001b[1m2766/2766\u001b[0m \u001b[32m━━━━━━━━━━━━━━━━━━━━\u001b[0m\u001b[37m\u001b[0m \u001b[1m3s\u001b[0m 912us/step - loss: 5.3688\n",
      "Epoch 490/1000\n",
      "\u001b[1m2766/2766\u001b[0m \u001b[32m━━━━━━━━━━━━━━━━━━━━\u001b[0m\u001b[37m\u001b[0m \u001b[1m3s\u001b[0m 943us/step - loss: 5.3667\n",
      "Epoch 491/1000\n",
      "\u001b[1m2766/2766\u001b[0m \u001b[32m━━━━━━━━━━━━━━━━━━━━\u001b[0m\u001b[37m\u001b[0m \u001b[1m3s\u001b[0m 979us/step - loss: 5.3682\n",
      "Epoch 492/1000\n",
      "\u001b[1m2766/2766\u001b[0m \u001b[32m━━━━━━━━━━━━━━━━━━━━\u001b[0m\u001b[37m\u001b[0m \u001b[1m3s\u001b[0m 945us/step - loss: 5.3654\n",
      "Epoch 493/1000\n",
      "\u001b[1m2766/2766\u001b[0m \u001b[32m━━━━━━━━━━━━━━━━━━━━\u001b[0m\u001b[37m\u001b[0m \u001b[1m3s\u001b[0m 897us/step - loss: 5.3692\n",
      "Epoch 494/1000\n",
      "\u001b[1m2766/2766\u001b[0m \u001b[32m━━━━━━━━━━━━━━━━━━━━\u001b[0m\u001b[37m\u001b[0m \u001b[1m2s\u001b[0m 888us/step - loss: 5.3688\n",
      "Epoch 495/1000\n",
      "\u001b[1m2766/2766\u001b[0m \u001b[32m━━━━━━━━━━━━━━━━━━━━\u001b[0m\u001b[37m\u001b[0m \u001b[1m3s\u001b[0m 909us/step - loss: 5.3693\n",
      "Epoch 496/1000\n",
      "\u001b[1m2766/2766\u001b[0m \u001b[32m━━━━━━━━━━━━━━━━━━━━\u001b[0m\u001b[37m\u001b[0m \u001b[1m3s\u001b[0m 923us/step - loss: 5.3700\n",
      "Epoch 497/1000\n",
      "\u001b[1m2766/2766\u001b[0m \u001b[32m━━━━━━━━━━━━━━━━━━━━\u001b[0m\u001b[37m\u001b[0m \u001b[1m3s\u001b[0m 993us/step - loss: 5.3663\n",
      "Epoch 498/1000\n",
      "\u001b[1m2766/2766\u001b[0m \u001b[32m━━━━━━━━━━━━━━━━━━━━\u001b[0m\u001b[37m\u001b[0m \u001b[1m3s\u001b[0m 912us/step - loss: 5.3674\n",
      "Epoch 499/1000\n",
      "\u001b[1m2766/2766\u001b[0m \u001b[32m━━━━━━━━━━━━━━━━━━━━\u001b[0m\u001b[37m\u001b[0m \u001b[1m2s\u001b[0m 878us/step - loss: 5.3693\n",
      "Epoch 500/1000\n",
      "\u001b[1m2766/2766\u001b[0m \u001b[32m━━━━━━━━━━━━━━━━━━━━\u001b[0m\u001b[37m\u001b[0m \u001b[1m3s\u001b[0m 928us/step - loss: 5.3682\n",
      "Epoch 501/1000\n",
      "\u001b[1m2766/2766\u001b[0m \u001b[32m━━━━━━━━━━━━━━━━━━━━\u001b[0m\u001b[37m\u001b[0m \u001b[1m2s\u001b[0m 893us/step - loss: 5.3653\n",
      "Epoch 502/1000\n",
      "\u001b[1m2766/2766\u001b[0m \u001b[32m━━━━━━━━━━━━━━━━━━━━\u001b[0m\u001b[37m\u001b[0m \u001b[1m3s\u001b[0m 1ms/step - loss: 5.3681\n",
      "Epoch 503/1000\n",
      "\u001b[1m2766/2766\u001b[0m \u001b[32m━━━━━━━━━━━━━━━━━━━━\u001b[0m\u001b[37m\u001b[0m \u001b[1m2s\u001b[0m 880us/step - loss: 5.3691\n",
      "Epoch 504/1000\n",
      "\u001b[1m2766/2766\u001b[0m \u001b[32m━━━━━━━━━━━━━━━━━━━━\u001b[0m\u001b[37m\u001b[0m \u001b[1m2s\u001b[0m 846us/step - loss: 5.3680\n",
      "Epoch 505/1000\n",
      "\u001b[1m2766/2766\u001b[0m \u001b[32m━━━━━━━━━━━━━━━━━━━━\u001b[0m\u001b[37m\u001b[0m \u001b[1m3s\u001b[0m 911us/step - loss: 5.3689\n",
      "Epoch 506/1000\n",
      "\u001b[1m2766/2766\u001b[0m \u001b[32m━━━━━━━━━━━━━━━━━━━━\u001b[0m\u001b[37m\u001b[0m \u001b[1m3s\u001b[0m 905us/step - loss: 5.3678\n",
      "Epoch 507/1000\n",
      "\u001b[1m2766/2766\u001b[0m \u001b[32m━━━━━━━━━━━━━━━━━━━━\u001b[0m\u001b[37m\u001b[0m \u001b[1m2s\u001b[0m 871us/step - loss: 5.3685\n",
      "Epoch 508/1000\n",
      "\u001b[1m2766/2766\u001b[0m \u001b[32m━━━━━━━━━━━━━━━━━━━━\u001b[0m\u001b[37m\u001b[0m \u001b[1m3s\u001b[0m 909us/step - loss: 5.3738\n",
      "Epoch 509/1000\n",
      "\u001b[1m2766/2766\u001b[0m \u001b[32m━━━━━━━━━━━━━━━━━━━━\u001b[0m\u001b[37m\u001b[0m \u001b[1m3s\u001b[0m 924us/step - loss: 5.3699\n",
      "Epoch 510/1000\n",
      "\u001b[1m2766/2766\u001b[0m \u001b[32m━━━━━━━━━━━━━━━━━━━━\u001b[0m\u001b[37m\u001b[0m \u001b[1m3s\u001b[0m 985us/step - loss: 5.3708\n",
      "Epoch 511/1000\n",
      "\u001b[1m2766/2766\u001b[0m \u001b[32m━━━━━━━━━━━━━━━━━━━━\u001b[0m\u001b[37m\u001b[0m \u001b[1m3s\u001b[0m 928us/step - loss: 5.3692\n",
      "Epoch 512/1000\n",
      "\u001b[1m2766/2766\u001b[0m \u001b[32m━━━━━━━━━━━━━━━━━━━━\u001b[0m\u001b[37m\u001b[0m \u001b[1m2s\u001b[0m 848us/step - loss: 5.3680\n",
      "Epoch 513/1000\n",
      "\u001b[1m2766/2766\u001b[0m \u001b[32m━━━━━━━━━━━━━━━━━━━━\u001b[0m\u001b[37m\u001b[0m \u001b[1m3s\u001b[0m 901us/step - loss: 5.3693\n",
      "Epoch 514/1000\n",
      "\u001b[1m2766/2766\u001b[0m \u001b[32m━━━━━━━━━━━━━━━━━━━━\u001b[0m\u001b[37m\u001b[0m \u001b[1m2s\u001b[0m 893us/step - loss: 5.3659\n",
      "Epoch 515/1000\n",
      "\u001b[1m2766/2766\u001b[0m \u001b[32m━━━━━━━━━━━━━━━━━━━━\u001b[0m\u001b[37m\u001b[0m \u001b[1m2s\u001b[0m 863us/step - loss: 5.3680\n",
      "Epoch 516/1000\n",
      "\u001b[1m2766/2766\u001b[0m \u001b[32m━━━━━━━━━━━━━━━━━━━━\u001b[0m\u001b[37m\u001b[0m \u001b[1m2s\u001b[0m 834us/step - loss: 5.3711\n",
      "Epoch 517/1000\n",
      "\u001b[1m2766/2766\u001b[0m \u001b[32m━━━━━━━━━━━━━━━━━━━━\u001b[0m\u001b[37m\u001b[0m \u001b[1m2s\u001b[0m 865us/step - loss: 5.3681\n",
      "Epoch 518/1000\n",
      "\u001b[1m2766/2766\u001b[0m \u001b[32m━━━━━━━━━━━━━━━━━━━━\u001b[0m\u001b[37m\u001b[0m \u001b[1m2s\u001b[0m 867us/step - loss: 5.3665\n",
      "Epoch 519/1000\n",
      "\u001b[1m2766/2766\u001b[0m \u001b[32m━━━━━━━━━━━━━━━━━━━━\u001b[0m\u001b[37m\u001b[0m \u001b[1m2s\u001b[0m 860us/step - loss: 5.3684\n",
      "Epoch 520/1000\n",
      "\u001b[1m2766/2766\u001b[0m \u001b[32m━━━━━━━━━━━━━━━━━━━━\u001b[0m\u001b[37m\u001b[0m \u001b[1m3s\u001b[0m 900us/step - loss: 5.3693\n",
      "Epoch 521/1000\n",
      "\u001b[1m2766/2766\u001b[0m \u001b[32m━━━━━━━━━━━━━━━━━━━━\u001b[0m\u001b[37m\u001b[0m \u001b[1m2s\u001b[0m 872us/step - loss: 5.3706\n",
      "Epoch 522/1000\n",
      "\u001b[1m2766/2766\u001b[0m \u001b[32m━━━━━━━━━━━━━━━━━━━━\u001b[0m\u001b[37m\u001b[0m \u001b[1m2s\u001b[0m 845us/step - loss: 5.3713\n",
      "Epoch 523/1000\n",
      "\u001b[1m2766/2766\u001b[0m \u001b[32m━━━━━━━━━━━━━━━━━━━━\u001b[0m\u001b[37m\u001b[0m \u001b[1m2s\u001b[0m 847us/step - loss: 5.3688\n",
      "Epoch 524/1000\n",
      "\u001b[1m2766/2766\u001b[0m \u001b[32m━━━━━━━━━━━━━━━━━━━━\u001b[0m\u001b[37m\u001b[0m \u001b[1m2s\u001b[0m 848us/step - loss: 5.3696\n",
      "Epoch 525/1000\n",
      "\u001b[1m2766/2766\u001b[0m \u001b[32m━━━━━━━━━━━━━━━━━━━━\u001b[0m\u001b[37m\u001b[0m \u001b[1m3s\u001b[0m 899us/step - loss: 5.3703\n",
      "Epoch 526/1000\n",
      "\u001b[1m2766/2766\u001b[0m \u001b[32m━━━━━━━━━━━━━━━━━━━━\u001b[0m\u001b[37m\u001b[0m \u001b[1m3s\u001b[0m 1ms/step - loss: 5.3714\n",
      "Epoch 527/1000\n",
      "\u001b[1m2766/2766\u001b[0m \u001b[32m━━━━━━━━━━━━━━━━━━━━\u001b[0m\u001b[37m\u001b[0m \u001b[1m3s\u001b[0m 960us/step - loss: 5.3685\n",
      "Epoch 528/1000\n",
      "\u001b[1m2766/2766\u001b[0m \u001b[32m━━━━━━━━━━━━━━━━━━━━\u001b[0m\u001b[37m\u001b[0m \u001b[1m3s\u001b[0m 947us/step - loss: 5.3706\n",
      "Epoch 529/1000\n",
      "\u001b[1m2766/2766\u001b[0m \u001b[32m━━━━━━━━━━━━━━━━━━━━\u001b[0m\u001b[37m\u001b[0m \u001b[1m3s\u001b[0m 950us/step - loss: 5.3676\n",
      "Epoch 530/1000\n",
      "\u001b[1m2766/2766\u001b[0m \u001b[32m━━━━━━━━━━━━━━━━━━━━\u001b[0m\u001b[37m\u001b[0m \u001b[1m3s\u001b[0m 997us/step - loss: 5.3705\n",
      "Epoch 531/1000\n",
      "\u001b[1m2766/2766\u001b[0m \u001b[32m━━━━━━━━━━━━━━━━━━━━\u001b[0m\u001b[37m\u001b[0m \u001b[1m3s\u001b[0m 1ms/step - loss: 5.3712\n",
      "Epoch 532/1000\n",
      "\u001b[1m2766/2766\u001b[0m \u001b[32m━━━━━━━━━━━━━━━━━━━━\u001b[0m\u001b[37m\u001b[0m \u001b[1m3s\u001b[0m 941us/step - loss: 5.3702\n",
      "Epoch 533/1000\n",
      "\u001b[1m2766/2766\u001b[0m \u001b[32m━━━━━━━━━━━━━━━━━━━━\u001b[0m\u001b[37m\u001b[0m \u001b[1m3s\u001b[0m 1ms/step - loss: 5.3711\n",
      "Epoch 534/1000\n",
      "\u001b[1m2766/2766\u001b[0m \u001b[32m━━━━━━━━━━━━━━━━━━━━\u001b[0m\u001b[37m\u001b[0m \u001b[1m3s\u001b[0m 940us/step - loss: 5.3715\n",
      "Epoch 535/1000\n",
      "\u001b[1m2766/2766\u001b[0m \u001b[32m━━━━━━━━━━━━━━━━━━━━\u001b[0m\u001b[37m\u001b[0m \u001b[1m3s\u001b[0m 932us/step - loss: 5.3674\n",
      "Epoch 536/1000\n",
      "\u001b[1m2766/2766\u001b[0m \u001b[32m━━━━━━━━━━━━━━━━━━━━\u001b[0m\u001b[37m\u001b[0m \u001b[1m3s\u001b[0m 958us/step - loss: 5.3701\n",
      "Epoch 537/1000\n",
      "\u001b[1m2766/2766\u001b[0m \u001b[32m━━━━━━━━━━━━━━━━━━━━\u001b[0m\u001b[37m\u001b[0m \u001b[1m3s\u001b[0m 925us/step - loss: 5.3719\n",
      "Epoch 538/1000\n",
      "\u001b[1m2766/2766\u001b[0m \u001b[32m━━━━━━━━━━━━━━━━━━━━\u001b[0m\u001b[37m\u001b[0m \u001b[1m3s\u001b[0m 968us/step - loss: 5.3687\n",
      "Epoch 539/1000\n",
      "\u001b[1m2766/2766\u001b[0m \u001b[32m━━━━━━━━━━━━━━━━━━━━\u001b[0m\u001b[37m\u001b[0m \u001b[1m3s\u001b[0m 986us/step - loss: 5.3695\n",
      "Epoch 540/1000\n",
      "\u001b[1m2766/2766\u001b[0m \u001b[32m━━━━━━━━━━━━━━━━━━━━\u001b[0m\u001b[37m\u001b[0m \u001b[1m3s\u001b[0m 938us/step - loss: 5.3641\n",
      "Epoch 541/1000\n",
      "\u001b[1m2766/2766\u001b[0m \u001b[32m━━━━━━━━━━━━━━━━━━━━\u001b[0m\u001b[37m\u001b[0m \u001b[1m3s\u001b[0m 959us/step - loss: 5.3679\n",
      "Epoch 542/1000\n",
      "\u001b[1m2766/2766\u001b[0m \u001b[32m━━━━━━━━━━━━━━━━━━━━\u001b[0m\u001b[37m\u001b[0m \u001b[1m3s\u001b[0m 989us/step - loss: 5.3697\n",
      "Epoch 543/1000\n",
      "\u001b[1m2766/2766\u001b[0m \u001b[32m━━━━━━━━━━━━━━━━━━━━\u001b[0m\u001b[37m\u001b[0m \u001b[1m3s\u001b[0m 1ms/step - loss: 5.3693\n",
      "Epoch 544/1000\n",
      "\u001b[1m2766/2766\u001b[0m \u001b[32m━━━━━━━━━━━━━━━━━━━━\u001b[0m\u001b[37m\u001b[0m \u001b[1m3s\u001b[0m 1ms/step - loss: 5.3698\n",
      "Epoch 545/1000\n",
      "\u001b[1m2766/2766\u001b[0m \u001b[32m━━━━━━━━━━━━━━━━━━━━\u001b[0m\u001b[37m\u001b[0m \u001b[1m3s\u001b[0m 1ms/step - loss: 5.3680\n",
      "Epoch 546/1000\n",
      "\u001b[1m2766/2766\u001b[0m \u001b[32m━━━━━━━━━━━━━━━━━━━━\u001b[0m\u001b[37m\u001b[0m \u001b[1m3s\u001b[0m 970us/step - loss: 5.3688\n",
      "Epoch 547/1000\n",
      "\u001b[1m2766/2766\u001b[0m \u001b[32m━━━━━━━━━━━━━━━━━━━━\u001b[0m\u001b[37m\u001b[0m \u001b[1m3s\u001b[0m 1ms/step - loss: 5.3666 \n",
      "Epoch 548/1000\n",
      "\u001b[1m2766/2766\u001b[0m \u001b[32m━━━━━━━━━━━━━━━━━━━━\u001b[0m\u001b[37m\u001b[0m \u001b[1m3s\u001b[0m 1ms/step - loss: 5.3700\n",
      "Epoch 549/1000\n",
      "\u001b[1m2766/2766\u001b[0m \u001b[32m━━━━━━━━━━━━━━━━━━━━\u001b[0m\u001b[37m\u001b[0m \u001b[1m3s\u001b[0m 1ms/step - loss: 5.3724\n",
      "Epoch 550/1000\n",
      "\u001b[1m2766/2766\u001b[0m \u001b[32m━━━━━━━━━━━━━━━━━━━━\u001b[0m\u001b[37m\u001b[0m \u001b[1m3s\u001b[0m 955us/step - loss: 5.3691\n",
      "Epoch 551/1000\n",
      "\u001b[1m2766/2766\u001b[0m \u001b[32m━━━━━━━━━━━━━━━━━━━━\u001b[0m\u001b[37m\u001b[0m \u001b[1m3s\u001b[0m 1ms/step - loss: 5.3709\n",
      "Epoch 552/1000\n",
      "\u001b[1m2766/2766\u001b[0m \u001b[32m━━━━━━━━━━━━━━━━━━━━\u001b[0m\u001b[37m\u001b[0m \u001b[1m4s\u001b[0m 744us/step - loss: 5.3666\n",
      "Epoch 553/1000\n",
      "\u001b[1m2766/2766\u001b[0m \u001b[32m━━━━━━━━━━━━━━━━━━━━\u001b[0m\u001b[37m\u001b[0m \u001b[1m3s\u001b[0m 976us/step - loss: 5.3691\n",
      "Epoch 554/1000\n",
      "\u001b[1m2766/2766\u001b[0m \u001b[32m━━━━━━━━━━━━━━━━━━━━\u001b[0m\u001b[37m\u001b[0m \u001b[1m3s\u001b[0m 1ms/step - loss: 5.3713\n",
      "Epoch 555/1000\n",
      "\u001b[1m2766/2766\u001b[0m \u001b[32m━━━━━━━━━━━━━━━━━━━━\u001b[0m\u001b[37m\u001b[0m \u001b[1m3s\u001b[0m 990us/step - loss: 5.3680\n",
      "Epoch 556/1000\n",
      "\u001b[1m2766/2766\u001b[0m \u001b[32m━━━━━━━━━━━━━━━━━━━━\u001b[0m\u001b[37m\u001b[0m \u001b[1m3s\u001b[0m 981us/step - loss: 5.3673\n",
      "Epoch 557/1000\n",
      "\u001b[1m2766/2766\u001b[0m \u001b[32m━━━━━━━━━━━━━━━━━━━━\u001b[0m\u001b[37m\u001b[0m \u001b[1m3s\u001b[0m 1ms/step - loss: 5.3702\n",
      "Epoch 558/1000\n",
      "\u001b[1m2766/2766\u001b[0m \u001b[32m━━━━━━━━━━━━━━━━━━━━\u001b[0m\u001b[37m\u001b[0m \u001b[1m3s\u001b[0m 971us/step - loss: 5.3706\n",
      "Epoch 559/1000\n",
      "\u001b[1m2766/2766\u001b[0m \u001b[32m━━━━━━━━━━━━━━━━━━━━\u001b[0m\u001b[37m\u001b[0m \u001b[1m3s\u001b[0m 985us/step - loss: 5.3722\n",
      "Epoch 560/1000\n",
      "\u001b[1m2766/2766\u001b[0m \u001b[32m━━━━━━━━━━━━━━━━━━━━\u001b[0m\u001b[37m\u001b[0m \u001b[1m3s\u001b[0m 979us/step - loss: 5.3658\n",
      "Epoch 561/1000\n",
      "\u001b[1m2766/2766\u001b[0m \u001b[32m━━━━━━━━━━━━━━━━━━━━\u001b[0m\u001b[37m\u001b[0m \u001b[1m3s\u001b[0m 968us/step - loss: 5.3727\n",
      "Epoch 562/1000\n",
      "\u001b[1m2766/2766\u001b[0m \u001b[32m━━━━━━━━━━━━━━━━━━━━\u001b[0m\u001b[37m\u001b[0m \u001b[1m3s\u001b[0m 1ms/step - loss: 5.3688\n",
      "Epoch 563/1000\n",
      "\u001b[1m2766/2766\u001b[0m \u001b[32m━━━━━━━━━━━━━━━━━━━━\u001b[0m\u001b[37m\u001b[0m \u001b[1m3s\u001b[0m 1ms/step - loss: 5.3697\n",
      "Epoch 564/1000\n",
      "\u001b[1m2766/2766\u001b[0m \u001b[32m━━━━━━━━━━━━━━━━━━━━\u001b[0m\u001b[37m\u001b[0m \u001b[1m3s\u001b[0m 972us/step - loss: 5.3664\n",
      "Epoch 565/1000\n",
      "\u001b[1m2766/2766\u001b[0m \u001b[32m━━━━━━━━━━━━━━━━━━━━\u001b[0m\u001b[37m\u001b[0m \u001b[1m3s\u001b[0m 978us/step - loss: 5.3644\n",
      "Epoch 566/1000\n",
      "\u001b[1m2766/2766\u001b[0m \u001b[32m━━━━━━━━━━━━━━━━━━━━\u001b[0m\u001b[37m\u001b[0m \u001b[1m3s\u001b[0m 1ms/step - loss: 5.3688\n",
      "Epoch 567/1000\n",
      "\u001b[1m2766/2766\u001b[0m \u001b[32m━━━━━━━━━━━━━━━━━━━━\u001b[0m\u001b[37m\u001b[0m \u001b[1m3s\u001b[0m 1ms/step - loss: 5.3712\n",
      "Epoch 568/1000\n",
      "\u001b[1m2766/2766\u001b[0m \u001b[32m━━━━━━━━━━━━━━━━━━━━\u001b[0m\u001b[37m\u001b[0m \u001b[1m3s\u001b[0m 1ms/step - loss: 5.3706\n",
      "Epoch 569/1000\n",
      "\u001b[1m2766/2766\u001b[0m \u001b[32m━━━━━━━━━━━━━━━━━━━━\u001b[0m\u001b[37m\u001b[0m \u001b[1m3s\u001b[0m 1ms/step - loss: 5.3701\n",
      "Epoch 570/1000\n",
      "\u001b[1m2766/2766\u001b[0m \u001b[32m━━━━━━━━━━━━━━━━━━━━\u001b[0m\u001b[37m\u001b[0m \u001b[1m3s\u001b[0m 983us/step - loss: 5.3698\n",
      "Epoch 571/1000\n",
      "\u001b[1m2766/2766\u001b[0m \u001b[32m━━━━━━━━━━━━━━━━━━━━\u001b[0m\u001b[37m\u001b[0m \u001b[1m3s\u001b[0m 1ms/step - loss: 5.3719\n",
      "Epoch 572/1000\n",
      "\u001b[1m2766/2766\u001b[0m \u001b[32m━━━━━━━━━━━━━━━━━━━━\u001b[0m\u001b[37m\u001b[0m \u001b[1m3s\u001b[0m 1ms/step - loss: 5.3710\n",
      "Epoch 573/1000\n",
      "\u001b[1m2766/2766\u001b[0m \u001b[32m━━━━━━━━━━━━━━━━━━━━\u001b[0m\u001b[37m\u001b[0m \u001b[1m3s\u001b[0m 1ms/step - loss: 5.3699\n",
      "Epoch 574/1000\n",
      "\u001b[1m2766/2766\u001b[0m \u001b[32m━━━━━━━━━━━━━━━━━━━━\u001b[0m\u001b[37m\u001b[0m \u001b[1m3s\u001b[0m 1ms/step - loss: 5.3698\n",
      "Epoch 575/1000\n",
      "\u001b[1m2766/2766\u001b[0m \u001b[32m━━━━━━━━━━━━━━━━━━━━\u001b[0m\u001b[37m\u001b[0m \u001b[1m3s\u001b[0m 1ms/step - loss: 5.3665\n",
      "Epoch 576/1000\n",
      "\u001b[1m2766/2766\u001b[0m \u001b[32m━━━━━━━━━━━━━━━━━━━━\u001b[0m\u001b[37m\u001b[0m \u001b[1m3s\u001b[0m 1ms/step - loss: 5.3715\n",
      "Epoch 577/1000\n",
      "\u001b[1m2766/2766\u001b[0m \u001b[32m━━━━━━━━━━━━━━━━━━━━\u001b[0m\u001b[37m\u001b[0m \u001b[1m3s\u001b[0m 1ms/step - loss: 5.3683\n",
      "Epoch 578/1000\n",
      "\u001b[1m2766/2766\u001b[0m \u001b[32m━━━━━━━━━━━━━━━━━━━━\u001b[0m\u001b[37m\u001b[0m \u001b[1m3s\u001b[0m 1ms/step - loss: 5.3700\n",
      "Epoch 579/1000\n",
      "\u001b[1m2766/2766\u001b[0m \u001b[32m━━━━━━━━━━━━━━━━━━━━\u001b[0m\u001b[37m\u001b[0m \u001b[1m4s\u001b[0m 1ms/step - loss: 5.3685\n",
      "Epoch 580/1000\n",
      "\u001b[1m2766/2766\u001b[0m \u001b[32m━━━━━━━━━━━━━━━━━━━━\u001b[0m\u001b[37m\u001b[0m \u001b[1m3s\u001b[0m 1ms/step - loss: 5.3685\n",
      "Epoch 581/1000\n",
      "\u001b[1m2766/2766\u001b[0m \u001b[32m━━━━━━━━━━━━━━━━━━━━\u001b[0m\u001b[37m\u001b[0m \u001b[1m4s\u001b[0m 1ms/step - loss: 5.3683\n",
      "Epoch 582/1000\n",
      "\u001b[1m2766/2766\u001b[0m \u001b[32m━━━━━━━━━━━━━━━━━━━━\u001b[0m\u001b[37m\u001b[0m \u001b[1m5s\u001b[0m 2ms/step - loss: 5.3670\n",
      "Epoch 583/1000\n",
      "\u001b[1m2766/2766\u001b[0m \u001b[32m━━━━━━━━━━━━━━━━━━━━\u001b[0m\u001b[37m\u001b[0m \u001b[1m3s\u001b[0m 1ms/step - loss: 5.3693\n",
      "Epoch 584/1000\n",
      "\u001b[1m2766/2766\u001b[0m \u001b[32m━━━━━━━━━━━━━━━━━━━━\u001b[0m\u001b[37m\u001b[0m \u001b[1m3s\u001b[0m 1ms/step - loss: 5.3711\n",
      "Epoch 585/1000\n",
      "\u001b[1m2766/2766\u001b[0m \u001b[32m━━━━━━━━━━━━━━━━━━━━\u001b[0m\u001b[37m\u001b[0m \u001b[1m3s\u001b[0m 1ms/step - loss: 5.3687\n",
      "Epoch 586/1000\n",
      "\u001b[1m2766/2766\u001b[0m \u001b[32m━━━━━━━━━━━━━━━━━━━━\u001b[0m\u001b[37m\u001b[0m \u001b[1m4s\u001b[0m 1ms/step - loss: 5.3672\n",
      "Epoch 587/1000\n",
      "\u001b[1m2766/2766\u001b[0m \u001b[32m━━━━━━━━━━━━━━━━━━━━\u001b[0m\u001b[37m\u001b[0m \u001b[1m4s\u001b[0m 1ms/step - loss: 5.3682\n",
      "Epoch 588/1000\n",
      "\u001b[1m2766/2766\u001b[0m \u001b[32m━━━━━━━━━━━━━━━━━━━━\u001b[0m\u001b[37m\u001b[0m \u001b[1m3s\u001b[0m 942us/step - loss: 5.3680\n",
      "Epoch 589/1000\n",
      "\u001b[1m2766/2766\u001b[0m \u001b[32m━━━━━━━━━━━━━━━━━━━━\u001b[0m\u001b[37m\u001b[0m \u001b[1m3s\u001b[0m 932us/step - loss: 5.3687\n",
      "Epoch 590/1000\n",
      "\u001b[1m2766/2766\u001b[0m \u001b[32m━━━━━━━━━━━━━━━━━━━━\u001b[0m\u001b[37m\u001b[0m \u001b[1m3s\u001b[0m 941us/step - loss: 5.3694\n",
      "Epoch 591/1000\n",
      "\u001b[1m2766/2766\u001b[0m \u001b[32m━━━━━━━━━━━━━━━━━━━━\u001b[0m\u001b[37m\u001b[0m \u001b[1m3s\u001b[0m 965us/step - loss: 5.3654\n",
      "Epoch 592/1000\n",
      "\u001b[1m2766/2766\u001b[0m \u001b[32m━━━━━━━━━━━━━━━━━━━━\u001b[0m\u001b[37m\u001b[0m \u001b[1m3s\u001b[0m 1ms/step - loss: 5.3679\n",
      "Epoch 593/1000\n",
      "\u001b[1m2766/2766\u001b[0m \u001b[32m━━━━━━━━━━━━━━━━━━━━\u001b[0m\u001b[37m\u001b[0m \u001b[1m3s\u001b[0m 958us/step - loss: 5.3678\n",
      "Epoch 594/1000\n",
      "\u001b[1m2766/2766\u001b[0m \u001b[32m━━━━━━━━━━━━━━━━━━━━\u001b[0m\u001b[37m\u001b[0m \u001b[1m5s\u001b[0m 1ms/step - loss: 5.3719\n",
      "Epoch 595/1000\n",
      "\u001b[1m2766/2766\u001b[0m \u001b[32m━━━━━━━━━━━━━━━━━━━━\u001b[0m\u001b[37m\u001b[0m \u001b[1m3s\u001b[0m 1ms/step - loss: 5.3659\n",
      "Epoch 596/1000\n",
      "\u001b[1m2766/2766\u001b[0m \u001b[32m━━━━━━━━━━━━━━━━━━━━\u001b[0m\u001b[37m\u001b[0m \u001b[1m3s\u001b[0m 1ms/step - loss: 5.3697\n",
      "Epoch 597/1000\n",
      "\u001b[1m2766/2766\u001b[0m \u001b[32m━━━━━━━━━━━━━━━━━━━━\u001b[0m\u001b[37m\u001b[0m \u001b[1m3s\u001b[0m 1ms/step - loss: 5.3673\n",
      "Epoch 598/1000\n",
      "\u001b[1m2766/2766\u001b[0m \u001b[32m━━━━━━━━━━━━━━━━━━━━\u001b[0m\u001b[37m\u001b[0m \u001b[1m3s\u001b[0m 953us/step - loss: 5.3693\n",
      "Epoch 599/1000\n",
      "\u001b[1m2766/2766\u001b[0m \u001b[32m━━━━━━━━━━━━━━━━━━━━\u001b[0m\u001b[37m\u001b[0m \u001b[1m3s\u001b[0m 1ms/step - loss: 5.3701\n",
      "Epoch 600/1000\n",
      "\u001b[1m2766/2766\u001b[0m \u001b[32m━━━━━━━━━━━━━━━━━━━━\u001b[0m\u001b[37m\u001b[0m \u001b[1m4s\u001b[0m 1ms/step - loss: 5.3690\n",
      "Epoch 601/1000\n",
      "\u001b[1m2766/2766\u001b[0m \u001b[32m━━━━━━━━━━━━━━━━━━━━\u001b[0m\u001b[37m\u001b[0m \u001b[1m3s\u001b[0m 995us/step - loss: 5.3690\n",
      "Epoch 602/1000\n",
      "\u001b[1m2766/2766\u001b[0m \u001b[32m━━━━━━━━━━━━━━━━━━━━\u001b[0m\u001b[37m\u001b[0m \u001b[1m3s\u001b[0m 964us/step - loss: 5.3687\n",
      "Epoch 603/1000\n",
      "\u001b[1m2766/2766\u001b[0m \u001b[32m━━━━━━━━━━━━━━━━━━━━\u001b[0m\u001b[37m\u001b[0m \u001b[1m3s\u001b[0m 965us/step - loss: 5.3683\n",
      "Epoch 604/1000\n",
      "\u001b[1m2766/2766\u001b[0m \u001b[32m━━━━━━━━━━━━━━━━━━━━\u001b[0m\u001b[37m\u001b[0m \u001b[1m3s\u001b[0m 967us/step - loss: 5.3694\n",
      "Epoch 605/1000\n",
      "\u001b[1m2766/2766\u001b[0m \u001b[32m━━━━━━━━━━━━━━━━━━━━\u001b[0m\u001b[37m\u001b[0m \u001b[1m3s\u001b[0m 970us/step - loss: 5.3694\n",
      "Epoch 606/1000\n",
      "\u001b[1m2766/2766\u001b[0m \u001b[32m━━━━━━━━━━━━━━━━━━━━\u001b[0m\u001b[37m\u001b[0m \u001b[1m3s\u001b[0m 1ms/step - loss: 5.3684\n",
      "Epoch 607/1000\n",
      "\u001b[1m2766/2766\u001b[0m \u001b[32m━━━━━━━━━━━━━━━━━━━━\u001b[0m\u001b[37m\u001b[0m \u001b[1m3s\u001b[0m 1ms/step - loss: 5.3675\n",
      "Epoch 608/1000\n",
      "\u001b[1m2766/2766\u001b[0m \u001b[32m━━━━━━━━━━━━━━━━━━━━\u001b[0m\u001b[37m\u001b[0m \u001b[1m5s\u001b[0m 891us/step - loss: 5.3709\n",
      "Epoch 609/1000\n",
      "\u001b[1m2766/2766\u001b[0m \u001b[32m━━━━━━━━━━━━━━━━━━━━\u001b[0m\u001b[37m\u001b[0m \u001b[1m3s\u001b[0m 1ms/step - loss: 5.3700\n",
      "Epoch 610/1000\n",
      "\u001b[1m2766/2766\u001b[0m \u001b[32m━━━━━━━━━━━━━━━━━━━━\u001b[0m\u001b[37m\u001b[0m \u001b[1m3s\u001b[0m 984us/step - loss: 5.3704\n",
      "Epoch 611/1000\n",
      "\u001b[1m2766/2766\u001b[0m \u001b[32m━━━━━━━━━━━━━━━━━━━━\u001b[0m\u001b[37m\u001b[0m \u001b[1m3s\u001b[0m 970us/step - loss: 5.3683\n",
      "Epoch 612/1000\n",
      "\u001b[1m2766/2766\u001b[0m \u001b[32m━━━━━━━━━━━━━━━━━━━━\u001b[0m\u001b[37m\u001b[0m \u001b[1m5s\u001b[0m 825us/step - loss: 5.3712\n",
      "Epoch 613/1000\n",
      "\u001b[1m2766/2766\u001b[0m \u001b[32m━━━━━━━━━━━━━━━━━━━━\u001b[0m\u001b[37m\u001b[0m \u001b[1m2s\u001b[0m 838us/step - loss: 5.3694\n",
      "Epoch 614/1000\n",
      "\u001b[1m2766/2766\u001b[0m \u001b[32m━━━━━━━━━━━━━━━━━━━━\u001b[0m\u001b[37m\u001b[0m \u001b[1m2s\u001b[0m 893us/step - loss: 5.3672\n",
      "Epoch 615/1000\n",
      "\u001b[1m2766/2766\u001b[0m \u001b[32m━━━━━━━━━━━━━━━━━━━━\u001b[0m\u001b[37m\u001b[0m \u001b[1m3s\u001b[0m 929us/step - loss: 5.3673\n",
      "Epoch 616/1000\n",
      "\u001b[1m2766/2766\u001b[0m \u001b[32m━━━━━━━━━━━━━━━━━━━━\u001b[0m\u001b[37m\u001b[0m \u001b[1m3s\u001b[0m 1ms/step - loss: 5.3718\n",
      "Epoch 617/1000\n",
      "\u001b[1m2766/2766\u001b[0m \u001b[32m━━━━━━━━━━━━━━━━━━━━\u001b[0m\u001b[37m\u001b[0m \u001b[1m3s\u001b[0m 1ms/step - loss: 5.3691\n",
      "Epoch 618/1000\n",
      "\u001b[1m2766/2766\u001b[0m \u001b[32m━━━━━━━━━━━━━━━━━━━━\u001b[0m\u001b[37m\u001b[0m \u001b[1m3s\u001b[0m 1ms/step - loss: 5.3710\n",
      "Epoch 619/1000\n",
      "\u001b[1m2766/2766\u001b[0m \u001b[32m━━━━━━━━━━━━━━━━━━━━\u001b[0m\u001b[37m\u001b[0m \u001b[1m3s\u001b[0m 976us/step - loss: 5.3701\n",
      "Epoch 620/1000\n",
      "\u001b[1m2766/2766\u001b[0m \u001b[32m━━━━━━━━━━━━━━━━━━━━\u001b[0m\u001b[37m\u001b[0m \u001b[1m3s\u001b[0m 1ms/step - loss: 5.3671\n",
      "Epoch 621/1000\n",
      "\u001b[1m2766/2766\u001b[0m \u001b[32m━━━━━━━━━━━━━━━━━━━━\u001b[0m\u001b[37m\u001b[0m \u001b[1m3s\u001b[0m 995us/step - loss: 5.3697\n",
      "Epoch 622/1000\n",
      "\u001b[1m2766/2766\u001b[0m \u001b[32m━━━━━━━━━━━━━━━━━━━━\u001b[0m\u001b[37m\u001b[0m \u001b[1m3s\u001b[0m 943us/step - loss: 5.3674\n",
      "Epoch 623/1000\n",
      "\u001b[1m2766/2766\u001b[0m \u001b[32m━━━━━━━━━━━━━━━━━━━━\u001b[0m\u001b[37m\u001b[0m \u001b[1m3s\u001b[0m 1ms/step - loss: 5.3676\n",
      "Epoch 624/1000\n",
      "\u001b[1m2766/2766\u001b[0m \u001b[32m━━━━━━━━━━━━━━━━━━━━\u001b[0m\u001b[37m\u001b[0m \u001b[1m3s\u001b[0m 1ms/step - loss: 5.3673\n",
      "Epoch 625/1000\n",
      "\u001b[1m2766/2766\u001b[0m \u001b[32m━━━━━━━━━━━━━━━━━━━━\u001b[0m\u001b[37m\u001b[0m \u001b[1m3s\u001b[0m 1ms/step - loss: 5.3695\n",
      "Epoch 626/1000\n",
      "\u001b[1m2766/2766\u001b[0m \u001b[32m━━━━━━━━━━━━━━━━━━━━\u001b[0m\u001b[37m\u001b[0m \u001b[1m3s\u001b[0m 963us/step - loss: 5.3672\n",
      "Epoch 627/1000\n",
      "\u001b[1m2766/2766\u001b[0m \u001b[32m━━━━━━━━━━━━━━━━━━━━\u001b[0m\u001b[37m\u001b[0m \u001b[1m3s\u001b[0m 991us/step - loss: 5.3670\n",
      "Epoch 628/1000\n",
      "\u001b[1m2766/2766\u001b[0m \u001b[32m━━━━━━━━━━━━━━━━━━━━\u001b[0m\u001b[37m\u001b[0m \u001b[1m3s\u001b[0m 986us/step - loss: 5.3689\n",
      "Epoch 629/1000\n",
      "\u001b[1m2766/2766\u001b[0m \u001b[32m━━━━━━━━━━━━━━━━━━━━\u001b[0m\u001b[37m\u001b[0m \u001b[1m3s\u001b[0m 952us/step - loss: 5.3673\n",
      "Epoch 630/1000\n",
      "\u001b[1m2766/2766\u001b[0m \u001b[32m━━━━━━━━━━━━━━━━━━━━\u001b[0m\u001b[37m\u001b[0m \u001b[1m3s\u001b[0m 995us/step - loss: 5.3699\n",
      "Epoch 631/1000\n",
      "\u001b[1m2766/2766\u001b[0m \u001b[32m━━━━━━━━━━━━━━━━━━━━\u001b[0m\u001b[37m\u001b[0m \u001b[1m3s\u001b[0m 969us/step - loss: 5.3669\n",
      "Epoch 632/1000\n",
      "\u001b[1m2766/2766\u001b[0m \u001b[32m━━━━━━━━━━━━━━━━━━━━\u001b[0m\u001b[37m\u001b[0m \u001b[1m5s\u001b[0m 901us/step - loss: 5.3667\n",
      "Epoch 633/1000\n",
      "\u001b[1m2766/2766\u001b[0m \u001b[32m━━━━━━━━━━━━━━━━━━━━\u001b[0m\u001b[37m\u001b[0m \u001b[1m2s\u001b[0m 883us/step - loss: 5.3665\n",
      "Epoch 634/1000\n",
      "\u001b[1m2766/2766\u001b[0m \u001b[32m━━━━━━━━━━━━━━━━━━━━\u001b[0m\u001b[37m\u001b[0m \u001b[1m3s\u001b[0m 891us/step - loss: 5.3693\n",
      "Epoch 635/1000\n",
      "\u001b[1m2766/2766\u001b[0m \u001b[32m━━━━━━━━━━━━━━━━━━━━\u001b[0m\u001b[37m\u001b[0m \u001b[1m3s\u001b[0m 990us/step - loss: 5.3678\n",
      "Epoch 636/1000\n",
      "\u001b[1m2766/2766\u001b[0m \u001b[32m━━━━━━━━━━━━━━━━━━━━\u001b[0m\u001b[37m\u001b[0m \u001b[1m3s\u001b[0m 995us/step - loss: 5.3677\n",
      "Epoch 637/1000\n",
      "\u001b[1m2766/2766\u001b[0m \u001b[32m━━━━━━━━━━━━━━━━━━━━\u001b[0m\u001b[37m\u001b[0m \u001b[1m3s\u001b[0m 996us/step - loss: 5.3683\n",
      "Epoch 638/1000\n",
      "\u001b[1m2766/2766\u001b[0m \u001b[32m━━━━━━━━━━━━━━━━━━━━\u001b[0m\u001b[37m\u001b[0m \u001b[1m3s\u001b[0m 1ms/step - loss: 5.3689\n",
      "Epoch 639/1000\n",
      "\u001b[1m2766/2766\u001b[0m \u001b[32m━━━━━━━━━━━━━━━━━━━━\u001b[0m\u001b[37m\u001b[0m \u001b[1m3s\u001b[0m 962us/step - loss: 5.3694\n",
      "Epoch 640/1000\n",
      "\u001b[1m2766/2766\u001b[0m \u001b[32m━━━━━━━━━━━━━━━━━━━━\u001b[0m\u001b[37m\u001b[0m \u001b[1m3s\u001b[0m 969us/step - loss: 5.3678\n",
      "Epoch 641/1000\n",
      "\u001b[1m2766/2766\u001b[0m \u001b[32m━━━━━━━━━━━━━━━━━━━━\u001b[0m\u001b[37m\u001b[0m \u001b[1m3s\u001b[0m 974us/step - loss: 5.3684\n",
      "Epoch 642/1000\n",
      "\u001b[1m2766/2766\u001b[0m \u001b[32m━━━━━━━━━━━━━━━━━━━━\u001b[0m\u001b[37m\u001b[0m \u001b[1m3s\u001b[0m 972us/step - loss: 5.3696\n",
      "Epoch 643/1000\n",
      "\u001b[1m2766/2766\u001b[0m \u001b[32m━━━━━━━━━━━━━━━━━━━━\u001b[0m\u001b[37m\u001b[0m \u001b[1m3s\u001b[0m 983us/step - loss: 5.3700\n",
      "Epoch 644/1000\n",
      "\u001b[1m2766/2766\u001b[0m \u001b[32m━━━━━━━━━━━━━━━━━━━━\u001b[0m\u001b[37m\u001b[0m \u001b[1m3s\u001b[0m 968us/step - loss: 5.3685\n",
      "Epoch 645/1000\n",
      "\u001b[1m2766/2766\u001b[0m \u001b[32m━━━━━━━━━━━━━━━━━━━━\u001b[0m\u001b[37m\u001b[0m \u001b[1m3s\u001b[0m 1ms/step - loss: 5.3691\n",
      "Epoch 646/1000\n",
      "\u001b[1m2766/2766\u001b[0m \u001b[32m━━━━━━━━━━━━━━━━━━━━\u001b[0m\u001b[37m\u001b[0m \u001b[1m3s\u001b[0m 1ms/step - loss: 5.3656\n",
      "Epoch 647/1000\n",
      "\u001b[1m2766/2766\u001b[0m \u001b[32m━━━━━━━━━━━━━━━━━━━━\u001b[0m\u001b[37m\u001b[0m \u001b[1m6s\u001b[0m 1ms/step - loss: 5.3671\n",
      "Epoch 648/1000\n",
      "\u001b[1m2766/2766\u001b[0m \u001b[32m━━━━━━━━━━━━━━━━━━━━\u001b[0m\u001b[37m\u001b[0m \u001b[1m4s\u001b[0m 1ms/step - loss: 5.3700\n",
      "Epoch 649/1000\n",
      "\u001b[1m2766/2766\u001b[0m \u001b[32m━━━━━━━━━━━━━━━━━━━━\u001b[0m\u001b[37m\u001b[0m \u001b[1m3s\u001b[0m 987us/step - loss: 5.3679\n",
      "Epoch 650/1000\n",
      "\u001b[1m2766/2766\u001b[0m \u001b[32m━━━━━━━━━━━━━━━━━━━━\u001b[0m\u001b[37m\u001b[0m \u001b[1m3s\u001b[0m 947us/step - loss: 5.3700\n",
      "Epoch 651/1000\n",
      "\u001b[1m2766/2766\u001b[0m \u001b[32m━━━━━━━━━━━━━━━━━━━━\u001b[0m\u001b[37m\u001b[0m \u001b[1m3s\u001b[0m 968us/step - loss: 5.3691\n",
      "Epoch 652/1000\n",
      "\u001b[1m2766/2766\u001b[0m \u001b[32m━━━━━━━━━━━━━━━━━━━━\u001b[0m\u001b[37m\u001b[0m \u001b[1m3s\u001b[0m 986us/step - loss: 5.3685\n",
      "Epoch 653/1000\n",
      "\u001b[1m2766/2766\u001b[0m \u001b[32m━━━━━━━━━━━━━━━━━━━━\u001b[0m\u001b[37m\u001b[0m \u001b[1m3s\u001b[0m 985us/step - loss: 5.3688\n",
      "Epoch 654/1000\n",
      "\u001b[1m2766/2766\u001b[0m \u001b[32m━━━━━━━━━━━━━━━━━━━━\u001b[0m\u001b[37m\u001b[0m \u001b[1m6s\u001b[0m 1ms/step - loss: 5.3689\n",
      "Epoch 655/1000\n",
      "\u001b[1m2766/2766\u001b[0m \u001b[32m━━━━━━━━━━━━━━━━━━━━\u001b[0m\u001b[37m\u001b[0m \u001b[1m3s\u001b[0m 958us/step - loss: 5.3721\n",
      "Epoch 656/1000\n",
      "\u001b[1m2766/2766\u001b[0m \u001b[32m━━━━━━━━━━━━━━━━━━━━\u001b[0m\u001b[37m\u001b[0m \u001b[1m3s\u001b[0m 946us/step - loss: 5.3679\n",
      "Epoch 657/1000\n",
      "\u001b[1m2766/2766\u001b[0m \u001b[32m━━━━━━━━━━━━━━━━━━━━\u001b[0m\u001b[37m\u001b[0m \u001b[1m3s\u001b[0m 1ms/step - loss: 5.3663\n",
      "Epoch 658/1000\n",
      "\u001b[1m2766/2766\u001b[0m \u001b[32m━━━━━━━━━━━━━━━━━━━━\u001b[0m\u001b[37m\u001b[0m \u001b[1m3s\u001b[0m 975us/step - loss: 5.3695\n",
      "Epoch 659/1000\n",
      "\u001b[1m2766/2766\u001b[0m \u001b[32m━━━━━━━━━━━━━━━━━━━━\u001b[0m\u001b[37m\u001b[0m \u001b[1m3s\u001b[0m 929us/step - loss: 5.3675\n",
      "Epoch 660/1000\n",
      "\u001b[1m2766/2766\u001b[0m \u001b[32m━━━━━━━━━━━━━━━━━━━━\u001b[0m\u001b[37m\u001b[0m \u001b[1m3s\u001b[0m 1ms/step - loss: 5.3680\n",
      "Epoch 661/1000\n",
      "\u001b[1m2766/2766\u001b[0m \u001b[32m━━━━━━━━━━━━━━━━━━━━\u001b[0m\u001b[37m\u001b[0m \u001b[1m3s\u001b[0m 1ms/step - loss: 5.3661\n",
      "Epoch 662/1000\n",
      "\u001b[1m2766/2766\u001b[0m \u001b[32m━━━━━━━━━━━━━━━━━━━━\u001b[0m\u001b[37m\u001b[0m \u001b[1m3s\u001b[0m 965us/step - loss: 5.3712\n",
      "Epoch 663/1000\n",
      "\u001b[1m2766/2766\u001b[0m \u001b[32m━━━━━━━━━━━━━━━━━━━━\u001b[0m\u001b[37m\u001b[0m \u001b[1m3s\u001b[0m 965us/step - loss: 5.3663\n",
      "Epoch 664/1000\n",
      "\u001b[1m2766/2766\u001b[0m \u001b[32m━━━━━━━━━━━━━━━━━━━━\u001b[0m\u001b[37m\u001b[0m \u001b[1m3s\u001b[0m 997us/step - loss: 5.3680\n",
      "Epoch 665/1000\n",
      "\u001b[1m2766/2766\u001b[0m \u001b[32m━━━━━━━━━━━━━━━━━━━━\u001b[0m\u001b[37m\u001b[0m \u001b[1m3s\u001b[0m 1ms/step - loss: 5.3683\n",
      "Epoch 666/1000\n",
      "\u001b[1m2766/2766\u001b[0m \u001b[32m━━━━━━━━━━━━━━━━━━━━\u001b[0m\u001b[37m\u001b[0m \u001b[1m3s\u001b[0m 1ms/step - loss: 5.3677\n",
      "Epoch 667/1000\n",
      "\u001b[1m2766/2766\u001b[0m \u001b[32m━━━━━━━━━━━━━━━━━━━━\u001b[0m\u001b[37m\u001b[0m \u001b[1m3s\u001b[0m 1ms/step - loss: 5.3691\n",
      "Epoch 668/1000\n",
      "\u001b[1m2766/2766\u001b[0m \u001b[32m━━━━━━━━━━━━━━━━━━━━\u001b[0m\u001b[37m\u001b[0m \u001b[1m3s\u001b[0m 1ms/step - loss: 5.3690\n",
      "Epoch 669/1000\n",
      "\u001b[1m2766/2766\u001b[0m \u001b[32m━━━━━━━━━━━━━━━━━━━━\u001b[0m\u001b[37m\u001b[0m \u001b[1m3s\u001b[0m 1ms/step - loss: 5.3706\n",
      "Epoch 670/1000\n",
      "\u001b[1m2766/2766\u001b[0m \u001b[32m━━━━━━━━━━━━━━━━━━━━\u001b[0m\u001b[37m\u001b[0m \u001b[1m3s\u001b[0m 1ms/step - loss: 5.3718\n",
      "Epoch 671/1000\n",
      "\u001b[1m2766/2766\u001b[0m \u001b[32m━━━━━━━━━━━━━━━━━━━━\u001b[0m\u001b[37m\u001b[0m \u001b[1m3s\u001b[0m 993us/step - loss: 5.3669\n",
      "Epoch 672/1000\n",
      "\u001b[1m2766/2766\u001b[0m \u001b[32m━━━━━━━━━━━━━━━━━━━━\u001b[0m\u001b[37m\u001b[0m \u001b[1m3s\u001b[0m 1ms/step - loss: 5.3674\n",
      "Epoch 673/1000\n",
      "\u001b[1m2766/2766\u001b[0m \u001b[32m━━━━━━━━━━━━━━━━━━━━\u001b[0m\u001b[37m\u001b[0m \u001b[1m3s\u001b[0m 972us/step - loss: 5.3716\n",
      "Epoch 674/1000\n",
      "\u001b[1m2766/2766\u001b[0m \u001b[32m━━━━━━━━━━━━━━━━━━━━\u001b[0m\u001b[37m\u001b[0m \u001b[1m5s\u001b[0m 897us/step - loss: 5.3673\n",
      "Epoch 675/1000\n",
      "\u001b[1m2766/2766\u001b[0m \u001b[32m━━━━━━━━━━━━━━━━━━━━\u001b[0m\u001b[37m\u001b[0m \u001b[1m2s\u001b[0m 861us/step - loss: 5.3718\n",
      "Epoch 676/1000\n",
      "\u001b[1m2766/2766\u001b[0m \u001b[32m━━━━━━━━━━━━━━━━━━━━\u001b[0m\u001b[37m\u001b[0m \u001b[1m3s\u001b[0m 1ms/step - loss: 5.3714\n",
      "Epoch 677/1000\n",
      "\u001b[1m2766/2766\u001b[0m \u001b[32m━━━━━━━━━━━━━━━━━━━━\u001b[0m\u001b[37m\u001b[0m \u001b[1m3s\u001b[0m 1ms/step - loss: 5.3684\n",
      "Epoch 678/1000\n",
      "\u001b[1m2766/2766\u001b[0m \u001b[32m━━━━━━━━━━━━━━━━━━━━\u001b[0m\u001b[37m\u001b[0m \u001b[1m3s\u001b[0m 1ms/step - loss: 5.3689\n",
      "Epoch 679/1000\n",
      "\u001b[1m2766/2766\u001b[0m \u001b[32m━━━━━━━━━━━━━━━━━━━━\u001b[0m\u001b[37m\u001b[0m \u001b[1m3s\u001b[0m 1ms/step - loss: 5.3675\n",
      "Epoch 680/1000\n",
      "\u001b[1m2766/2766\u001b[0m \u001b[32m━━━━━━━━━━━━━━━━━━━━\u001b[0m\u001b[37m\u001b[0m \u001b[1m3s\u001b[0m 1ms/step - loss: 5.3680\n",
      "Epoch 681/1000\n",
      "\u001b[1m2766/2766\u001b[0m \u001b[32m━━━━━━━━━━━━━━━━━━━━\u001b[0m\u001b[37m\u001b[0m \u001b[1m3s\u001b[0m 1ms/step - loss: 5.3653\n",
      "Epoch 682/1000\n",
      "\u001b[1m2766/2766\u001b[0m \u001b[32m━━━━━━━━━━━━━━━━━━━━\u001b[0m\u001b[37m\u001b[0m \u001b[1m3s\u001b[0m 1ms/step - loss: 5.3692\n",
      "Epoch 683/1000\n",
      "\u001b[1m2766/2766\u001b[0m \u001b[32m━━━━━━━━━━━━━━━━━━━━\u001b[0m\u001b[37m\u001b[0m \u001b[1m3s\u001b[0m 987us/step - loss: 5.3671\n",
      "Epoch 684/1000\n",
      "\u001b[1m2766/2766\u001b[0m \u001b[32m━━━━━━━━━━━━━━━━━━━━\u001b[0m\u001b[37m\u001b[0m \u001b[1m3s\u001b[0m 999us/step - loss: 5.3720 \n",
      "Epoch 685/1000\n",
      "\u001b[1m2766/2766\u001b[0m \u001b[32m━━━━━━━━━━━━━━━━━━━━\u001b[0m\u001b[37m\u001b[0m \u001b[1m3s\u001b[0m 969us/step - loss: 5.3723\n",
      "Epoch 686/1000\n",
      "\u001b[1m2766/2766\u001b[0m \u001b[32m━━━━━━━━━━━━━━━━━━━━\u001b[0m\u001b[37m\u001b[0m \u001b[1m3s\u001b[0m 1ms/step - loss: 5.3672\n",
      "Epoch 687/1000\n",
      "\u001b[1m2766/2766\u001b[0m \u001b[32m━━━━━━━━━━━━━━━━━━━━\u001b[0m\u001b[37m\u001b[0m \u001b[1m3s\u001b[0m 1ms/step - loss: 5.3693\n",
      "Epoch 688/1000\n",
      "\u001b[1m2766/2766\u001b[0m \u001b[32m━━━━━━━━━━━━━━━━━━━━\u001b[0m\u001b[37m\u001b[0m \u001b[1m3s\u001b[0m 1ms/step - loss: 5.3661\n",
      "Epoch 689/1000\n",
      "\u001b[1m2766/2766\u001b[0m \u001b[32m━━━━━━━━━━━━━━━━━━━━\u001b[0m\u001b[37m\u001b[0m \u001b[1m4s\u001b[0m 1ms/step - loss: 5.3696\n",
      "Epoch 690/1000\n",
      "\u001b[1m2766/2766\u001b[0m \u001b[32m━━━━━━━━━━━━━━━━━━━━\u001b[0m\u001b[37m\u001b[0m \u001b[1m3s\u001b[0m 1ms/step - loss: 5.3684\n",
      "Epoch 691/1000\n",
      "\u001b[1m2766/2766\u001b[0m \u001b[32m━━━━━━━━━━━━━━━━━━━━\u001b[0m\u001b[37m\u001b[0m \u001b[1m3s\u001b[0m 993us/step - loss: 5.3685\n",
      "Epoch 692/1000\n",
      "\u001b[1m2766/2766\u001b[0m \u001b[32m━━━━━━━━━━━━━━━━━━━━\u001b[0m\u001b[37m\u001b[0m \u001b[1m3s\u001b[0m 1ms/step - loss: 5.3667\n",
      "Epoch 693/1000\n",
      "\u001b[1m2766/2766\u001b[0m \u001b[32m━━━━━━━━━━━━━━━━━━━━\u001b[0m\u001b[37m\u001b[0m \u001b[1m4s\u001b[0m 840us/step - loss: 5.3685\n",
      "Epoch 694/1000\n",
      "\u001b[1m2766/2766\u001b[0m \u001b[32m━━━━━━━━━━━━━━━━━━━━\u001b[0m\u001b[37m\u001b[0m \u001b[1m3s\u001b[0m 1ms/step - loss: 5.3681\n",
      "Epoch 695/1000\n",
      "\u001b[1m2766/2766\u001b[0m \u001b[32m━━━━━━━━━━━━━━━━━━━━\u001b[0m\u001b[37m\u001b[0m \u001b[1m3s\u001b[0m 1ms/step - loss: 5.3679\n",
      "Epoch 696/1000\n",
      "\u001b[1m2766/2766\u001b[0m \u001b[32m━━━━━━━━━━━━━━━━━━━━\u001b[0m\u001b[37m\u001b[0m \u001b[1m5s\u001b[0m 940us/step - loss: 5.3702\n",
      "Epoch 697/1000\n",
      "\u001b[1m2766/2766\u001b[0m \u001b[32m━━━━━━━━━━━━━━━━━━━━\u001b[0m\u001b[37m\u001b[0m \u001b[1m5s\u001b[0m 888us/step - loss: 5.3696\n",
      "Epoch 698/1000\n",
      "\u001b[1m2766/2766\u001b[0m \u001b[32m━━━━━━━━━━━━━━━━━━━━\u001b[0m\u001b[37m\u001b[0m \u001b[1m3s\u001b[0m 961us/step - loss: 5.3695\n",
      "Epoch 699/1000\n",
      "\u001b[1m2766/2766\u001b[0m \u001b[32m━━━━━━━━━━━━━━━━━━━━\u001b[0m\u001b[37m\u001b[0m \u001b[1m3s\u001b[0m 1ms/step - loss: 5.3676\n",
      "Epoch 700/1000\n",
      "\u001b[1m2766/2766\u001b[0m \u001b[32m━━━━━━━━━━━━━━━━━━━━\u001b[0m\u001b[37m\u001b[0m \u001b[1m3s\u001b[0m 1ms/step - loss: 5.3686\n",
      "Epoch 701/1000\n",
      "\u001b[1m2766/2766\u001b[0m \u001b[32m━━━━━━━━━━━━━━━━━━━━\u001b[0m\u001b[37m\u001b[0m \u001b[1m3s\u001b[0m 1ms/step - loss: 5.3667\n",
      "Epoch 702/1000\n",
      "\u001b[1m2766/2766\u001b[0m \u001b[32m━━━━━━━━━━━━━━━━━━━━\u001b[0m\u001b[37m\u001b[0m \u001b[1m4s\u001b[0m 1ms/step - loss: 5.3688\n",
      "Epoch 703/1000\n",
      "\u001b[1m2766/2766\u001b[0m \u001b[32m━━━━━━━━━━━━━━━━━━━━\u001b[0m\u001b[37m\u001b[0m \u001b[1m3s\u001b[0m 1ms/step - loss: 5.3686\n",
      "Epoch 704/1000\n",
      "\u001b[1m2766/2766\u001b[0m \u001b[32m━━━━━━━━━━━━━━━━━━━━\u001b[0m\u001b[37m\u001b[0m \u001b[1m3s\u001b[0m 1ms/step - loss: 5.3703\n",
      "Epoch 705/1000\n",
      "\u001b[1m2766/2766\u001b[0m \u001b[32m━━━━━━━━━━━━━━━━━━━━\u001b[0m\u001b[37m\u001b[0m \u001b[1m3s\u001b[0m 976us/step - loss: 5.3688\n",
      "Epoch 706/1000\n",
      "\u001b[1m2766/2766\u001b[0m \u001b[32m━━━━━━━━━━━━━━━━━━━━\u001b[0m\u001b[37m\u001b[0m \u001b[1m5s\u001b[0m 978us/step - loss: 5.3679\n",
      "Epoch 707/1000\n",
      "\u001b[1m2766/2766\u001b[0m \u001b[32m━━━━━━━━━━━━━━━━━━━━\u001b[0m\u001b[37m\u001b[0m \u001b[1m2s\u001b[0m 863us/step - loss: 5.3696\n",
      "Epoch 708/1000\n",
      "\u001b[1m2766/2766\u001b[0m \u001b[32m━━━━━━━━━━━━━━━━━━━━\u001b[0m\u001b[37m\u001b[0m \u001b[1m3s\u001b[0m 1ms/step - loss: 5.3694\n",
      "Epoch 709/1000\n",
      "\u001b[1m2766/2766\u001b[0m \u001b[32m━━━━━━━━━━━━━━━━━━━━\u001b[0m\u001b[37m\u001b[0m \u001b[1m3s\u001b[0m 1ms/step - loss: 5.3682\n",
      "Epoch 710/1000\n",
      "\u001b[1m2766/2766\u001b[0m \u001b[32m━━━━━━━━━━━━━━━━━━━━\u001b[0m\u001b[37m\u001b[0m \u001b[1m3s\u001b[0m 1ms/step - loss: 5.3700\n",
      "Epoch 711/1000\n",
      "\u001b[1m2766/2766\u001b[0m \u001b[32m━━━━━━━━━━━━━━━━━━━━\u001b[0m\u001b[37m\u001b[0m \u001b[1m3s\u001b[0m 1ms/step - loss: 5.3683\n",
      "Epoch 712/1000\n",
      "\u001b[1m2766/2766\u001b[0m \u001b[32m━━━━━━━━━━━━━━━━━━━━\u001b[0m\u001b[37m\u001b[0m \u001b[1m3s\u001b[0m 1ms/step - loss: 5.3658\n",
      "Epoch 713/1000\n",
      "\u001b[1m2766/2766\u001b[0m \u001b[32m━━━━━━━━━━━━━━━━━━━━\u001b[0m\u001b[37m\u001b[0m \u001b[1m3s\u001b[0m 1ms/step - loss: 5.3711\n",
      "Epoch 714/1000\n",
      "\u001b[1m2766/2766\u001b[0m \u001b[32m━━━━━━━━━━━━━━━━━━━━\u001b[0m\u001b[37m\u001b[0m \u001b[1m3s\u001b[0m 1ms/step - loss: 5.3671\n",
      "Epoch 715/1000\n",
      "\u001b[1m2766/2766\u001b[0m \u001b[32m━━━━━━━━━━━━━━━━━━━━\u001b[0m\u001b[37m\u001b[0m \u001b[1m3s\u001b[0m 1ms/step - loss: 5.3699\n",
      "Epoch 716/1000\n",
      "\u001b[1m2766/2766\u001b[0m \u001b[32m━━━━━━━━━━━━━━━━━━━━\u001b[0m\u001b[37m\u001b[0m \u001b[1m3s\u001b[0m 1ms/step - loss: 5.3678\n",
      "Epoch 717/1000\n",
      "\u001b[1m2766/2766\u001b[0m \u001b[32m━━━━━━━━━━━━━━━━━━━━\u001b[0m\u001b[37m\u001b[0m \u001b[1m3s\u001b[0m 1ms/step - loss: 5.3691\n",
      "Epoch 718/1000\n",
      "\u001b[1m2766/2766\u001b[0m \u001b[32m━━━━━━━━━━━━━━━━━━━━\u001b[0m\u001b[37m\u001b[0m \u001b[1m3s\u001b[0m 1ms/step - loss: 5.3705\n",
      "Epoch 719/1000\n",
      "\u001b[1m2766/2766\u001b[0m \u001b[32m━━━━━━━━━━━━━━━━━━━━\u001b[0m\u001b[37m\u001b[0m \u001b[1m3s\u001b[0m 1ms/step - loss: 5.3664\n",
      "Epoch 720/1000\n",
      "\u001b[1m2766/2766\u001b[0m \u001b[32m━━━━━━━━━━━━━━━━━━━━\u001b[0m\u001b[37m\u001b[0m \u001b[1m3s\u001b[0m 1ms/step - loss: 5.3699\n",
      "Epoch 721/1000\n",
      "\u001b[1m2766/2766\u001b[0m \u001b[32m━━━━━━━━━━━━━━━━━━━━\u001b[0m\u001b[37m\u001b[0m \u001b[1m3s\u001b[0m 1ms/step - loss: 5.3689\n",
      "Epoch 722/1000\n",
      "\u001b[1m2766/2766\u001b[0m \u001b[32m━━━━━━━━━━━━━━━━━━━━\u001b[0m\u001b[37m\u001b[0m \u001b[1m4s\u001b[0m 1ms/step - loss: 5.3677\n",
      "Epoch 723/1000\n",
      "\u001b[1m2766/2766\u001b[0m \u001b[32m━━━━━━━━━━━━━━━━━━━━\u001b[0m\u001b[37m\u001b[0m \u001b[1m3s\u001b[0m 1ms/step - loss: 5.3692\n",
      "Epoch 724/1000\n",
      "\u001b[1m2766/2766\u001b[0m \u001b[32m━━━━━━━━━━━━━━━━━━━━\u001b[0m\u001b[37m\u001b[0m \u001b[1m3s\u001b[0m 1ms/step - loss: 5.3675\n",
      "Epoch 725/1000\n",
      "\u001b[1m2766/2766\u001b[0m \u001b[32m━━━━━━━━━━━━━━━━━━━━\u001b[0m\u001b[37m\u001b[0m \u001b[1m3s\u001b[0m 1ms/step - loss: 5.3709\n",
      "Epoch 726/1000\n",
      "\u001b[1m2766/2766\u001b[0m \u001b[32m━━━━━━━━━━━━━━━━━━━━\u001b[0m\u001b[37m\u001b[0m \u001b[1m3s\u001b[0m 1ms/step - loss: 5.3697\n",
      "Epoch 727/1000\n",
      "\u001b[1m2766/2766\u001b[0m \u001b[32m━━━━━━━━━━━━━━━━━━━━\u001b[0m\u001b[37m\u001b[0m \u001b[1m3s\u001b[0m 1ms/step - loss: 5.3695\n",
      "Epoch 728/1000\n",
      "\u001b[1m2766/2766\u001b[0m \u001b[32m━━━━━━━━━━━━━━━━━━━━\u001b[0m\u001b[37m\u001b[0m \u001b[1m3s\u001b[0m 1ms/step - loss: 5.3675\n",
      "Epoch 729/1000\n",
      "\u001b[1m2766/2766\u001b[0m \u001b[32m━━━━━━━━━━━━━━━━━━━━\u001b[0m\u001b[37m\u001b[0m \u001b[1m3s\u001b[0m 1ms/step - loss: 5.3624\n",
      "Epoch 730/1000\n",
      "\u001b[1m2766/2766\u001b[0m \u001b[32m━━━━━━━━━━━━━━━━━━━━\u001b[0m\u001b[37m\u001b[0m \u001b[1m3s\u001b[0m 1ms/step - loss: 5.3674\n",
      "Epoch 731/1000\n",
      "\u001b[1m2766/2766\u001b[0m \u001b[32m━━━━━━━━━━━━━━━━━━━━\u001b[0m\u001b[37m\u001b[0m \u001b[1m3s\u001b[0m 1ms/step - loss: 5.3672\n",
      "Epoch 732/1000\n",
      "\u001b[1m2766/2766\u001b[0m \u001b[32m━━━━━━━━━━━━━━━━━━━━\u001b[0m\u001b[37m\u001b[0m \u001b[1m4s\u001b[0m 1ms/step - loss: 5.3693\n",
      "Epoch 733/1000\n",
      "\u001b[1m2766/2766\u001b[0m \u001b[32m━━━━━━━━━━━━━━━━━━━━\u001b[0m\u001b[37m\u001b[0m \u001b[1m3s\u001b[0m 1ms/step - loss: 5.3705\n",
      "Epoch 734/1000\n",
      "\u001b[1m2766/2766\u001b[0m \u001b[32m━━━━━━━━━━━━━━━━━━━━\u001b[0m\u001b[37m\u001b[0m \u001b[1m3s\u001b[0m 1ms/step - loss: 5.3704\n",
      "Epoch 735/1000\n",
      "\u001b[1m2766/2766\u001b[0m \u001b[32m━━━━━━━━━━━━━━━━━━━━\u001b[0m\u001b[37m\u001b[0m \u001b[1m3s\u001b[0m 1ms/step - loss: 5.3679\n",
      "Epoch 736/1000\n",
      "\u001b[1m2766/2766\u001b[0m \u001b[32m━━━━━━━━━━━━━━━━━━━━\u001b[0m\u001b[37m\u001b[0m \u001b[1m4s\u001b[0m 1ms/step - loss: 5.3699\n",
      "Epoch 737/1000\n",
      "\u001b[1m2766/2766\u001b[0m \u001b[32m━━━━━━━━━━━━━━━━━━━━\u001b[0m\u001b[37m\u001b[0m \u001b[1m4s\u001b[0m 1ms/step - loss: 5.3693\n",
      "Epoch 738/1000\n",
      "\u001b[1m2766/2766\u001b[0m \u001b[32m━━━━━━━━━━━━━━━━━━━━\u001b[0m\u001b[37m\u001b[0m \u001b[1m3s\u001b[0m 1ms/step - loss: 5.3685\n",
      "Epoch 739/1000\n",
      "\u001b[1m2766/2766\u001b[0m \u001b[32m━━━━━━━━━━━━━━━━━━━━\u001b[0m\u001b[37m\u001b[0m \u001b[1m3s\u001b[0m 1ms/step - loss: 5.3679\n",
      "Epoch 740/1000\n",
      "\u001b[1m2766/2766\u001b[0m \u001b[32m━━━━━━━━━━━━━━━━━━━━\u001b[0m\u001b[37m\u001b[0m \u001b[1m3s\u001b[0m 1ms/step - loss: 5.3685\n",
      "Epoch 741/1000\n",
      "\u001b[1m2766/2766\u001b[0m \u001b[32m━━━━━━━━━━━━━━━━━━━━\u001b[0m\u001b[37m\u001b[0m \u001b[1m3s\u001b[0m 1ms/step - loss: 5.3697\n",
      "Epoch 742/1000\n",
      "\u001b[1m2766/2766\u001b[0m \u001b[32m━━━━━━━━━━━━━━━━━━━━\u001b[0m\u001b[37m\u001b[0m \u001b[1m6s\u001b[0m 2ms/step - loss: 5.3687\n",
      "Epoch 743/1000\n",
      "\u001b[1m2766/2766\u001b[0m \u001b[32m━━━━━━━━━━━━━━━━━━━━\u001b[0m\u001b[37m\u001b[0m \u001b[1m8s\u001b[0m 3ms/step - loss: 5.3698\n",
      "Epoch 744/1000\n",
      "\u001b[1m2766/2766\u001b[0m \u001b[32m━━━━━━━━━━━━━━━━━━━━\u001b[0m\u001b[37m\u001b[0m \u001b[1m8s\u001b[0m 3ms/step - loss: 5.3686\n",
      "Epoch 745/1000\n",
      "\u001b[1m2766/2766\u001b[0m \u001b[32m━━━━━━━━━━━━━━━━━━━━\u001b[0m\u001b[37m\u001b[0m \u001b[1m8s\u001b[0m 3ms/step - loss: 5.3709\n",
      "Epoch 746/1000\n",
      "\u001b[1m2766/2766\u001b[0m \u001b[32m━━━━━━━━━━━━━━━━━━━━\u001b[0m\u001b[37m\u001b[0m \u001b[1m7s\u001b[0m 3ms/step - loss: 5.3698\n",
      "Epoch 747/1000\n",
      "\u001b[1m2766/2766\u001b[0m \u001b[32m━━━━━━━━━━━━━━━━━━━━\u001b[0m\u001b[37m\u001b[0m \u001b[1m8s\u001b[0m 3ms/step - loss: 5.3673\n",
      "Epoch 748/1000\n",
      "\u001b[1m2766/2766\u001b[0m \u001b[32m━━━━━━━━━━━━━━━━━━━━\u001b[0m\u001b[37m\u001b[0m \u001b[1m7s\u001b[0m 3ms/step - loss: 5.3667\n",
      "Epoch 749/1000\n",
      "\u001b[1m2766/2766\u001b[0m \u001b[32m━━━━━━━━━━━━━━━━━━━━\u001b[0m\u001b[37m\u001b[0m \u001b[1m8s\u001b[0m 3ms/step - loss: 5.3679\n",
      "Epoch 750/1000\n",
      "\u001b[1m2766/2766\u001b[0m \u001b[32m━━━━━━━━━━━━━━━━━━━━\u001b[0m\u001b[37m\u001b[0m \u001b[1m8s\u001b[0m 3ms/step - loss: 5.3725\n",
      "Epoch 751/1000\n",
      "\u001b[1m2766/2766\u001b[0m \u001b[32m━━━━━━━━━━━━━━━━━━━━\u001b[0m\u001b[37m\u001b[0m \u001b[1m8s\u001b[0m 3ms/step - loss: 5.3698\n",
      "Epoch 752/1000\n",
      "\u001b[1m2766/2766\u001b[0m \u001b[32m━━━━━━━━━━━━━━━━━━━━\u001b[0m\u001b[37m\u001b[0m \u001b[1m8s\u001b[0m 3ms/step - loss: 5.3706\n",
      "Epoch 753/1000\n",
      "\u001b[1m2766/2766\u001b[0m \u001b[32m━━━━━━━━━━━━━━━━━━━━\u001b[0m\u001b[37m\u001b[0m \u001b[1m8s\u001b[0m 3ms/step - loss: 5.3708\n",
      "Epoch 754/1000\n",
      "\u001b[1m2766/2766\u001b[0m \u001b[32m━━━━━━━━━━━━━━━━━━━━\u001b[0m\u001b[37m\u001b[0m \u001b[1m8s\u001b[0m 3ms/step - loss: 5.3696\n",
      "Epoch 755/1000\n",
      "\u001b[1m2766/2766\u001b[0m \u001b[32m━━━━━━━━━━━━━━━━━━━━\u001b[0m\u001b[37m\u001b[0m \u001b[1m8s\u001b[0m 3ms/step - loss: 5.3716\n",
      "Epoch 756/1000\n",
      "\u001b[1m2766/2766\u001b[0m \u001b[32m━━━━━━━━━━━━━━━━━━━━\u001b[0m\u001b[37m\u001b[0m \u001b[1m8s\u001b[0m 3ms/step - loss: 5.3673\n",
      "Epoch 757/1000\n",
      "\u001b[1m2766/2766\u001b[0m \u001b[32m━━━━━━━━━━━━━━━━━━━━\u001b[0m\u001b[37m\u001b[0m \u001b[1m8s\u001b[0m 3ms/step - loss: 5.3678\n",
      "Epoch 758/1000\n",
      "\u001b[1m2766/2766\u001b[0m \u001b[32m━━━━━━━━━━━━━━━━━━━━\u001b[0m\u001b[37m\u001b[0m \u001b[1m7s\u001b[0m 3ms/step - loss: 5.3694\n",
      "Epoch 759/1000\n",
      "\u001b[1m2766/2766\u001b[0m \u001b[32m━━━━━━━━━━━━━━━━━━━━\u001b[0m\u001b[37m\u001b[0m \u001b[1m7s\u001b[0m 3ms/step - loss: 5.3697\n",
      "Epoch 760/1000\n",
      "\u001b[1m2766/2766\u001b[0m \u001b[32m━━━━━━━━━━━━━━━━━━━━\u001b[0m\u001b[37m\u001b[0m \u001b[1m10s\u001b[0m 3ms/step - loss: 5.3697\n",
      "Epoch 761/1000\n",
      "\u001b[1m2766/2766\u001b[0m \u001b[32m━━━━━━━━━━━━━━━━━━━━\u001b[0m\u001b[37m\u001b[0m \u001b[1m7s\u001b[0m 3ms/step - loss: 5.3659\n",
      "Epoch 762/1000\n",
      "\u001b[1m2766/2766\u001b[0m \u001b[32m━━━━━━━━━━━━━━━━━━━━\u001b[0m\u001b[37m\u001b[0m \u001b[1m7s\u001b[0m 3ms/step - loss: 5.3681\n",
      "Epoch 763/1000\n",
      "\u001b[1m2766/2766\u001b[0m \u001b[32m━━━━━━━━━━━━━━━━━━━━\u001b[0m\u001b[37m\u001b[0m \u001b[1m7s\u001b[0m 3ms/step - loss: 5.3685\n",
      "Epoch 764/1000\n",
      "\u001b[1m2766/2766\u001b[0m \u001b[32m━━━━━━━━━━━━━━━━━━━━\u001b[0m\u001b[37m\u001b[0m \u001b[1m7s\u001b[0m 3ms/step - loss: 5.3713\n",
      "Epoch 765/1000\n",
      "\u001b[1m2766/2766\u001b[0m \u001b[32m━━━━━━━━━━━━━━━━━━━━\u001b[0m\u001b[37m\u001b[0m \u001b[1m7s\u001b[0m 3ms/step - loss: 5.3710\n",
      "Epoch 766/1000\n",
      "\u001b[1m2766/2766\u001b[0m \u001b[32m━━━━━━━━━━━━━━━━━━━━\u001b[0m\u001b[37m\u001b[0m \u001b[1m7s\u001b[0m 3ms/step - loss: 5.3716\n",
      "Epoch 767/1000\n",
      "\u001b[1m2766/2766\u001b[0m \u001b[32m━━━━━━━━━━━━━━━━━━━━\u001b[0m\u001b[37m\u001b[0m \u001b[1m10s\u001b[0m 3ms/step - loss: 5.3690\n",
      "Epoch 768/1000\n",
      "\u001b[1m2766/2766\u001b[0m \u001b[32m━━━━━━━━━━━━━━━━━━━━\u001b[0m\u001b[37m\u001b[0m \u001b[1m7s\u001b[0m 3ms/step - loss: 5.3645\n",
      "Epoch 769/1000\n",
      "\u001b[1m2766/2766\u001b[0m \u001b[32m━━━━━━━━━━━━━━━━━━━━\u001b[0m\u001b[37m\u001b[0m \u001b[1m7s\u001b[0m 3ms/step - loss: 5.3668\n",
      "Epoch 770/1000\n",
      "\u001b[1m2766/2766\u001b[0m \u001b[32m━━━━━━━━━━━━━━━━━━━━\u001b[0m\u001b[37m\u001b[0m \u001b[1m7s\u001b[0m 3ms/step - loss: 5.3675\n",
      "Epoch 771/1000\n",
      "\u001b[1m2766/2766\u001b[0m \u001b[32m━━━━━━━━━━━━━━━━━━━━\u001b[0m\u001b[37m\u001b[0m \u001b[1m7s\u001b[0m 3ms/step - loss: 5.3709\n",
      "Epoch 772/1000\n",
      "\u001b[1m2766/2766\u001b[0m \u001b[32m━━━━━━━━━━━━━━━━━━━━\u001b[0m\u001b[37m\u001b[0m \u001b[1m7s\u001b[0m 3ms/step - loss: 5.3675\n",
      "Epoch 773/1000\n",
      "\u001b[1m2766/2766\u001b[0m \u001b[32m━━━━━━━━━━━━━━━━━━━━\u001b[0m\u001b[37m\u001b[0m \u001b[1m7s\u001b[0m 3ms/step - loss: 5.3704\n",
      "Epoch 774/1000\n",
      "\u001b[1m2766/2766\u001b[0m \u001b[32m━━━━━━━━━━━━━━━━━━━━\u001b[0m\u001b[37m\u001b[0m \u001b[1m10s\u001b[0m 3ms/step - loss: 5.3674\n",
      "Epoch 775/1000\n",
      "\u001b[1m2766/2766\u001b[0m \u001b[32m━━━━━━━━━━━━━━━━━━━━\u001b[0m\u001b[37m\u001b[0m \u001b[1m7s\u001b[0m 3ms/step - loss: 5.3656\n",
      "Epoch 776/1000\n",
      "\u001b[1m2766/2766\u001b[0m \u001b[32m━━━━━━━━━━━━━━━━━━━━\u001b[0m\u001b[37m\u001b[0m \u001b[1m7s\u001b[0m 3ms/step - loss: 5.3673\n",
      "Epoch 777/1000\n",
      "\u001b[1m2766/2766\u001b[0m \u001b[32m━━━━━━━━━━━━━━━━━━━━\u001b[0m\u001b[37m\u001b[0m \u001b[1m7s\u001b[0m 3ms/step - loss: 5.3701\n",
      "Epoch 778/1000\n",
      "\u001b[1m2766/2766\u001b[0m \u001b[32m━━━━━━━━━━━━━━━━━━━━\u001b[0m\u001b[37m\u001b[0m \u001b[1m7s\u001b[0m 3ms/step - loss: 5.3670\n",
      "Epoch 779/1000\n",
      "\u001b[1m2766/2766\u001b[0m \u001b[32m━━━━━━━━━━━━━━━━━━━━\u001b[0m\u001b[37m\u001b[0m \u001b[1m7s\u001b[0m 3ms/step - loss: 5.3675\n",
      "Epoch 780/1000\n",
      "\u001b[1m2766/2766\u001b[0m \u001b[32m━━━━━━━━━━━━━━━━━━━━\u001b[0m\u001b[37m\u001b[0m \u001b[1m7s\u001b[0m 3ms/step - loss: 5.3713\n",
      "Epoch 781/1000\n",
      "\u001b[1m2766/2766\u001b[0m \u001b[32m━━━━━━━━━━━━━━━━━━━━\u001b[0m\u001b[37m\u001b[0m \u001b[1m7s\u001b[0m 3ms/step - loss: 5.3683\n",
      "Epoch 782/1000\n",
      "\u001b[1m2766/2766\u001b[0m \u001b[32m━━━━━━━━━━━━━━━━━━━━\u001b[0m\u001b[37m\u001b[0m \u001b[1m11s\u001b[0m 3ms/step - loss: 5.3688\n",
      "Epoch 783/1000\n",
      "\u001b[1m2766/2766\u001b[0m \u001b[32m━━━━━━━━━━━━━━━━━━━━\u001b[0m\u001b[37m\u001b[0m \u001b[1m10s\u001b[0m 3ms/step - loss: 5.3681\n",
      "Epoch 784/1000\n",
      "\u001b[1m2766/2766\u001b[0m \u001b[32m━━━━━━━━━━━━━━━━━━━━\u001b[0m\u001b[37m\u001b[0m \u001b[1m10s\u001b[0m 3ms/step - loss: 5.3676\n",
      "Epoch 785/1000\n",
      "\u001b[1m2766/2766\u001b[0m \u001b[32m━━━━━━━━━━━━━━━━━━━━\u001b[0m\u001b[37m\u001b[0m \u001b[1m7s\u001b[0m 3ms/step - loss: 5.3713\n",
      "Epoch 786/1000\n",
      "\u001b[1m2766/2766\u001b[0m \u001b[32m━━━━━━━━━━━━━━━━━━━━\u001b[0m\u001b[37m\u001b[0m \u001b[1m7s\u001b[0m 2ms/step - loss: 5.3681\n",
      "Epoch 787/1000\n",
      "\u001b[1m2766/2766\u001b[0m \u001b[32m━━━━━━━━━━━━━━━━━━━━\u001b[0m\u001b[37m\u001b[0m \u001b[1m7s\u001b[0m 3ms/step - loss: 5.3731\n",
      "Epoch 788/1000\n",
      "\u001b[1m2766/2766\u001b[0m \u001b[32m━━━━━━━━━━━━━━━━━━━━\u001b[0m\u001b[37m\u001b[0m \u001b[1m7s\u001b[0m 3ms/step - loss: 5.3673\n",
      "Epoch 789/1000\n",
      "\u001b[1m2766/2766\u001b[0m \u001b[32m━━━━━━━━━━━━━━━━━━━━\u001b[0m\u001b[37m\u001b[0m \u001b[1m7s\u001b[0m 3ms/step - loss: 5.3689\n",
      "Epoch 790/1000\n",
      "\u001b[1m2766/2766\u001b[0m \u001b[32m━━━━━━━━━━━━━━━━━━━━\u001b[0m\u001b[37m\u001b[0m \u001b[1m8s\u001b[0m 3ms/step - loss: 5.3704\n",
      "Epoch 791/1000\n",
      "\u001b[1m2766/2766\u001b[0m \u001b[32m━━━━━━━━━━━━━━━━━━━━\u001b[0m\u001b[37m\u001b[0m \u001b[1m7s\u001b[0m 3ms/step - loss: 5.3715\n",
      "Epoch 792/1000\n",
      "\u001b[1m2766/2766\u001b[0m \u001b[32m━━━━━━━━━━━━━━━━━━━━\u001b[0m\u001b[37m\u001b[0m \u001b[1m8s\u001b[0m 3ms/step - loss: 5.3678\n",
      "Epoch 793/1000\n",
      "\u001b[1m2766/2766\u001b[0m \u001b[32m━━━━━━━━━━━━━━━━━━━━\u001b[0m\u001b[37m\u001b[0m \u001b[1m10s\u001b[0m 3ms/step - loss: 5.3667\n",
      "Epoch 794/1000\n",
      "\u001b[1m2766/2766\u001b[0m \u001b[32m━━━━━━━━━━━━━━━━━━━━\u001b[0m\u001b[37m\u001b[0m \u001b[1m8s\u001b[0m 3ms/step - loss: 5.3710\n",
      "Epoch 795/1000\n",
      "\u001b[1m2766/2766\u001b[0m \u001b[32m━━━━━━━━━━━━━━━━━━━━\u001b[0m\u001b[37m\u001b[0m \u001b[1m8s\u001b[0m 3ms/step - loss: 5.3659\n",
      "Epoch 796/1000\n",
      "\u001b[1m2766/2766\u001b[0m \u001b[32m━━━━━━━━━━━━━━━━━━━━\u001b[0m\u001b[37m\u001b[0m \u001b[1m7s\u001b[0m 3ms/step - loss: 5.3694\n",
      "Epoch 797/1000\n",
      "\u001b[1m2766/2766\u001b[0m \u001b[32m━━━━━━━━━━━━━━━━━━━━\u001b[0m\u001b[37m\u001b[0m \u001b[1m7s\u001b[0m 3ms/step - loss: 5.3689\n",
      "Epoch 798/1000\n",
      "\u001b[1m2766/2766\u001b[0m \u001b[32m━━━━━━━━━━━━━━━━━━━━\u001b[0m\u001b[37m\u001b[0m \u001b[1m7s\u001b[0m 3ms/step - loss: 5.3694\n",
      "Epoch 799/1000\n",
      "\u001b[1m2766/2766\u001b[0m \u001b[32m━━━━━━━━━━━━━━━━━━━━\u001b[0m\u001b[37m\u001b[0m \u001b[1m7s\u001b[0m 3ms/step - loss: 5.3677\n",
      "Epoch 800/1000\n",
      "\u001b[1m2766/2766\u001b[0m \u001b[32m━━━━━━━━━━━━━━━━━━━━\u001b[0m\u001b[37m\u001b[0m \u001b[1m8s\u001b[0m 3ms/step - loss: 5.3682\n",
      "Epoch 801/1000\n",
      "\u001b[1m2766/2766\u001b[0m \u001b[32m━━━━━━━━━━━━━━━━━━━━\u001b[0m\u001b[37m\u001b[0m \u001b[1m8s\u001b[0m 3ms/step - loss: 5.3691\n",
      "Epoch 802/1000\n",
      "\u001b[1m2766/2766\u001b[0m \u001b[32m━━━━━━━━━━━━━━━━━━━━\u001b[0m\u001b[37m\u001b[0m \u001b[1m10s\u001b[0m 3ms/step - loss: 5.3710\n",
      "Epoch 803/1000\n",
      "\u001b[1m2766/2766\u001b[0m \u001b[32m━━━━━━━━━━━━━━━━━━━━\u001b[0m\u001b[37m\u001b[0m \u001b[1m8s\u001b[0m 3ms/step - loss: 5.3697\n",
      "Epoch 804/1000\n",
      "\u001b[1m2766/2766\u001b[0m \u001b[32m━━━━━━━━━━━━━━━━━━━━\u001b[0m\u001b[37m\u001b[0m \u001b[1m8s\u001b[0m 3ms/step - loss: 5.3658\n",
      "Epoch 805/1000\n",
      "\u001b[1m2766/2766\u001b[0m \u001b[32m━━━━━━━━━━━━━━━━━━━━\u001b[0m\u001b[37m\u001b[0m \u001b[1m8s\u001b[0m 3ms/step - loss: 5.3676\n",
      "Epoch 806/1000\n",
      "\u001b[1m2766/2766\u001b[0m \u001b[32m━━━━━━━━━━━━━━━━━━━━\u001b[0m\u001b[37m\u001b[0m \u001b[1m8s\u001b[0m 3ms/step - loss: 5.3674\n",
      "Epoch 807/1000\n",
      "\u001b[1m2766/2766\u001b[0m \u001b[32m━━━━━━━━━━━━━━━━━━━━\u001b[0m\u001b[37m\u001b[0m \u001b[1m7s\u001b[0m 3ms/step - loss: 5.3692\n",
      "Epoch 808/1000\n",
      "\u001b[1m2766/2766\u001b[0m \u001b[32m━━━━━━━━━━━━━━━━━━━━\u001b[0m\u001b[37m\u001b[0m \u001b[1m8s\u001b[0m 3ms/step - loss: 5.3689\n",
      "Epoch 809/1000\n",
      "\u001b[1m2766/2766\u001b[0m \u001b[32m━━━━━━━━━━━━━━━━━━━━\u001b[0m\u001b[37m\u001b[0m \u001b[1m7s\u001b[0m 3ms/step - loss: 5.3703\n",
      "Epoch 810/1000\n",
      "\u001b[1m2766/2766\u001b[0m \u001b[32m━━━━━━━━━━━━━━━━━━━━\u001b[0m\u001b[37m\u001b[0m \u001b[1m10s\u001b[0m 3ms/step - loss: 5.3705\n",
      "Epoch 811/1000\n",
      "\u001b[1m2766/2766\u001b[0m \u001b[32m━━━━━━━━━━━━━━━━━━━━\u001b[0m\u001b[37m\u001b[0m \u001b[1m10s\u001b[0m 3ms/step - loss: 5.3677\n",
      "Epoch 812/1000\n",
      "\u001b[1m2766/2766\u001b[0m \u001b[32m━━━━━━━━━━━━━━━━━━━━\u001b[0m\u001b[37m\u001b[0m \u001b[1m7s\u001b[0m 3ms/step - loss: 5.3695\n",
      "Epoch 813/1000\n",
      "\u001b[1m2766/2766\u001b[0m \u001b[32m━━━━━━━━━━━━━━━━━━━━\u001b[0m\u001b[37m\u001b[0m \u001b[1m7s\u001b[0m 3ms/step - loss: 5.3669\n",
      "Epoch 814/1000\n",
      "\u001b[1m2766/2766\u001b[0m \u001b[32m━━━━━━━━━━━━━━━━━━━━\u001b[0m\u001b[37m\u001b[0m \u001b[1m7s\u001b[0m 3ms/step - loss: 5.3690\n",
      "Epoch 815/1000\n",
      "\u001b[1m2766/2766\u001b[0m \u001b[32m━━━━━━━━━━━━━━━━━━━━\u001b[0m\u001b[37m\u001b[0m \u001b[1m7s\u001b[0m 3ms/step - loss: 5.3680\n",
      "Epoch 816/1000\n",
      "\u001b[1m2766/2766\u001b[0m \u001b[32m━━━━━━━━━━━━━━━━━━━━\u001b[0m\u001b[37m\u001b[0m \u001b[1m7s\u001b[0m 3ms/step - loss: 5.3720\n",
      "Epoch 817/1000\n",
      "\u001b[1m2766/2766\u001b[0m \u001b[32m━━━━━━━━━━━━━━━━━━━━\u001b[0m\u001b[37m\u001b[0m \u001b[1m7s\u001b[0m 3ms/step - loss: 5.3694\n",
      "Epoch 818/1000\n",
      "\u001b[1m2766/2766\u001b[0m \u001b[32m━━━━━━━━━━━━━━━━━━━━\u001b[0m\u001b[37m\u001b[0m \u001b[1m7s\u001b[0m 3ms/step - loss: 5.3704\n",
      "Epoch 819/1000\n",
      "\u001b[1m2766/2766\u001b[0m \u001b[32m━━━━━━━━━━━━━━━━━━━━\u001b[0m\u001b[37m\u001b[0m \u001b[1m7s\u001b[0m 3ms/step - loss: 5.3673\n",
      "Epoch 820/1000\n",
      "\u001b[1m2766/2766\u001b[0m \u001b[32m━━━━━━━━━━━━━━━━━━━━\u001b[0m\u001b[37m\u001b[0m \u001b[1m7s\u001b[0m 3ms/step - loss: 5.3680\n",
      "Epoch 821/1000\n",
      "\u001b[1m2766/2766\u001b[0m \u001b[32m━━━━━━━━━━━━━━━━━━━━\u001b[0m\u001b[37m\u001b[0m \u001b[1m7s\u001b[0m 3ms/step - loss: 5.3706\n",
      "Epoch 822/1000\n",
      "\u001b[1m2766/2766\u001b[0m \u001b[32m━━━━━━━━━━━━━━━━━━━━\u001b[0m\u001b[37m\u001b[0m \u001b[1m7s\u001b[0m 3ms/step - loss: 5.3696\n",
      "Epoch 823/1000\n",
      "\u001b[1m2766/2766\u001b[0m \u001b[32m━━━━━━━━━━━━━━━━━━━━\u001b[0m\u001b[37m\u001b[0m \u001b[1m7s\u001b[0m 3ms/step - loss: 5.3676\n",
      "Epoch 824/1000\n",
      "\u001b[1m2766/2766\u001b[0m \u001b[32m━━━━━━━━━━━━━━━━━━━━\u001b[0m\u001b[37m\u001b[0m \u001b[1m7s\u001b[0m 3ms/step - loss: 5.3695\n",
      "Epoch 825/1000\n",
      "\u001b[1m2766/2766\u001b[0m \u001b[32m━━━━━━━━━━━━━━━━━━━━\u001b[0m\u001b[37m\u001b[0m \u001b[1m7s\u001b[0m 3ms/step - loss: 5.3680\n",
      "Epoch 826/1000\n",
      "\u001b[1m2766/2766\u001b[0m \u001b[32m━━━━━━━━━━━━━━━━━━━━\u001b[0m\u001b[37m\u001b[0m \u001b[1m7s\u001b[0m 3ms/step - loss: 5.3667\n",
      "Epoch 827/1000\n",
      "\u001b[1m2766/2766\u001b[0m \u001b[32m━━━━━━━━━━━━━━━━━━━━\u001b[0m\u001b[37m\u001b[0m \u001b[1m7s\u001b[0m 3ms/step - loss: 5.3680\n",
      "Epoch 828/1000\n",
      "\u001b[1m2766/2766\u001b[0m \u001b[32m━━━━━━━━━━━━━━━━━━━━\u001b[0m\u001b[37m\u001b[0m \u001b[1m7s\u001b[0m 3ms/step - loss: 5.3702\n",
      "Epoch 829/1000\n",
      "\u001b[1m2766/2766\u001b[0m \u001b[32m━━━━━━━━━━━━━━━━━━━━\u001b[0m\u001b[37m\u001b[0m \u001b[1m7s\u001b[0m 3ms/step - loss: 5.3692\n",
      "Epoch 830/1000\n",
      "\u001b[1m2766/2766\u001b[0m \u001b[32m━━━━━━━━━━━━━━━━━━━━\u001b[0m\u001b[37m\u001b[0m \u001b[1m7s\u001b[0m 3ms/step - loss: 5.3699\n",
      "Epoch 831/1000\n",
      "\u001b[1m2766/2766\u001b[0m \u001b[32m━━━━━━━━━━━━━━━━━━━━\u001b[0m\u001b[37m\u001b[0m \u001b[1m7s\u001b[0m 3ms/step - loss: 5.3684\n",
      "Epoch 832/1000\n",
      "\u001b[1m2766/2766\u001b[0m \u001b[32m━━━━━━━━━━━━━━━━━━━━\u001b[0m\u001b[37m\u001b[0m \u001b[1m7s\u001b[0m 3ms/step - loss: 5.3682\n",
      "Epoch 833/1000\n",
      "\u001b[1m2766/2766\u001b[0m \u001b[32m━━━━━━━━━━━━━━━━━━━━\u001b[0m\u001b[37m\u001b[0m \u001b[1m7s\u001b[0m 3ms/step - loss: 5.3686\n",
      "Epoch 834/1000\n",
      "\u001b[1m2766/2766\u001b[0m \u001b[32m━━━━━━━━━━━━━━━━━━━━\u001b[0m\u001b[37m\u001b[0m \u001b[1m7s\u001b[0m 3ms/step - loss: 5.3695\n",
      "Epoch 835/1000\n",
      "\u001b[1m2766/2766\u001b[0m \u001b[32m━━━━━━━━━━━━━━━━━━━━\u001b[0m\u001b[37m\u001b[0m \u001b[1m7s\u001b[0m 3ms/step - loss: 5.3666\n",
      "Epoch 836/1000\n",
      "\u001b[1m2766/2766\u001b[0m \u001b[32m━━━━━━━━━━━━━━━━━━━━\u001b[0m\u001b[37m\u001b[0m \u001b[1m7s\u001b[0m 3ms/step - loss: 5.3678\n",
      "Epoch 837/1000\n",
      "\u001b[1m2766/2766\u001b[0m \u001b[32m━━━━━━━━━━━━━━━━━━━━\u001b[0m\u001b[37m\u001b[0m \u001b[1m7s\u001b[0m 3ms/step - loss: 5.3661\n",
      "Epoch 838/1000\n",
      "\u001b[1m2766/2766\u001b[0m \u001b[32m━━━━━━━━━━━━━━━━━━━━\u001b[0m\u001b[37m\u001b[0m \u001b[1m7s\u001b[0m 3ms/step - loss: 5.3683\n",
      "Epoch 839/1000\n",
      "\u001b[1m2766/2766\u001b[0m \u001b[32m━━━━━━━━━━━━━━━━━━━━\u001b[0m\u001b[37m\u001b[0m \u001b[1m8s\u001b[0m 3ms/step - loss: 5.3680\n",
      "Epoch 840/1000\n",
      "\u001b[1m2766/2766\u001b[0m \u001b[32m━━━━━━━━━━━━━━━━━━━━\u001b[0m\u001b[37m\u001b[0m \u001b[1m8s\u001b[0m 3ms/step - loss: 5.3707\n",
      "Epoch 841/1000\n",
      "\u001b[1m2766/2766\u001b[0m \u001b[32m━━━━━━━━━━━━━━━━━━━━\u001b[0m\u001b[37m\u001b[0m \u001b[1m3s\u001b[0m 1ms/step - loss: 5.3696\n",
      "Epoch 842/1000\n",
      "\u001b[1m2766/2766\u001b[0m \u001b[32m━━━━━━━━━━━━━━━━━━━━\u001b[0m\u001b[37m\u001b[0m \u001b[1m3s\u001b[0m 1ms/step - loss: 5.3717\n",
      "Epoch 843/1000\n",
      "\u001b[1m2766/2766\u001b[0m \u001b[32m━━━━━━━━━━━━━━━━━━━━\u001b[0m\u001b[37m\u001b[0m \u001b[1m3s\u001b[0m 918us/step - loss: 5.3668\n",
      "Epoch 844/1000\n",
      "\u001b[1m2766/2766\u001b[0m \u001b[32m━━━━━━━━━━━━━━━━━━━━\u001b[0m\u001b[37m\u001b[0m \u001b[1m3s\u001b[0m 1ms/step - loss: 5.3710\n",
      "Epoch 845/1000\n",
      "\u001b[1m2766/2766\u001b[0m \u001b[32m━━━━━━━━━━━━━━━━━━━━\u001b[0m\u001b[37m\u001b[0m \u001b[1m2s\u001b[0m 879us/step - loss: 5.3704\n",
      "Epoch 846/1000\n",
      "\u001b[1m2766/2766\u001b[0m \u001b[32m━━━━━━━━━━━━━━━━━━━━\u001b[0m\u001b[37m\u001b[0m \u001b[1m2s\u001b[0m 840us/step - loss: 5.3682\n",
      "Epoch 847/1000\n",
      "\u001b[1m2766/2766\u001b[0m \u001b[32m━━━━━━━━━━━━━━━━━━━━\u001b[0m\u001b[37m\u001b[0m \u001b[1m2s\u001b[0m 865us/step - loss: 5.3718\n",
      "Epoch 848/1000\n",
      "\u001b[1m2766/2766\u001b[0m \u001b[32m━━━━━━━━━━━━━━━━━━━━\u001b[0m\u001b[37m\u001b[0m \u001b[1m2s\u001b[0m 800us/step - loss: 5.3678\n",
      "Epoch 849/1000\n",
      "\u001b[1m2766/2766\u001b[0m \u001b[32m━━━━━━━━━━━━━━━━━━━━\u001b[0m\u001b[37m\u001b[0m \u001b[1m2s\u001b[0m 840us/step - loss: 5.3676\n",
      "Epoch 850/1000\n",
      "\u001b[1m2766/2766\u001b[0m \u001b[32m━━━━━━━━━━━━━━━━━━━━\u001b[0m\u001b[37m\u001b[0m \u001b[1m2s\u001b[0m 802us/step - loss: 5.3675\n",
      "Epoch 851/1000\n",
      "\u001b[1m2766/2766\u001b[0m \u001b[32m━━━━━━━━━━━━━━━━━━━━\u001b[0m\u001b[37m\u001b[0m \u001b[1m3s\u001b[0m 927us/step - loss: 5.3695\n",
      "Epoch 852/1000\n",
      "\u001b[1m2766/2766\u001b[0m \u001b[32m━━━━━━━━━━━━━━━━━━━━\u001b[0m\u001b[37m\u001b[0m \u001b[1m3s\u001b[0m 994us/step - loss: 5.3661\n",
      "Epoch 853/1000\n",
      "\u001b[1m2766/2766\u001b[0m \u001b[32m━━━━━━━━━━━━━━━━━━━━\u001b[0m\u001b[37m\u001b[0m \u001b[1m3s\u001b[0m 913us/step - loss: 5.3680\n",
      "Epoch 854/1000\n",
      "\u001b[1m2766/2766\u001b[0m \u001b[32m━━━━━━━━━━━━━━━━━━━━\u001b[0m\u001b[37m\u001b[0m \u001b[1m2s\u001b[0m 840us/step - loss: 5.3701\n",
      "Epoch 855/1000\n",
      "\u001b[1m2766/2766\u001b[0m \u001b[32m━━━━━━━━━━━━━━━━━━━━\u001b[0m\u001b[37m\u001b[0m \u001b[1m2s\u001b[0m 806us/step - loss: 5.3662\n",
      "Epoch 856/1000\n",
      "\u001b[1m2766/2766\u001b[0m \u001b[32m━━━━━━━━━━━━━━━━━━━━\u001b[0m\u001b[37m\u001b[0m \u001b[1m2s\u001b[0m 872us/step - loss: 5.3704\n",
      "Epoch 857/1000\n",
      "\u001b[1m2766/2766\u001b[0m \u001b[32m━━━━━━━━━━━━━━━━━━━━\u001b[0m\u001b[37m\u001b[0m \u001b[1m2s\u001b[0m 847us/step - loss: 5.3700\n",
      "Epoch 858/1000\n",
      "\u001b[1m2766/2766\u001b[0m \u001b[32m━━━━━━━━━━━━━━━━━━━━\u001b[0m\u001b[37m\u001b[0m \u001b[1m2s\u001b[0m 877us/step - loss: 5.3702\n",
      "Epoch 859/1000\n",
      "\u001b[1m2766/2766\u001b[0m \u001b[32m━━━━━━━━━━━━━━━━━━━━\u001b[0m\u001b[37m\u001b[0m \u001b[1m2s\u001b[0m 867us/step - loss: 5.3690\n",
      "Epoch 860/1000\n",
      "\u001b[1m2766/2766\u001b[0m \u001b[32m━━━━━━━━━━━━━━━━━━━━\u001b[0m\u001b[37m\u001b[0m \u001b[1m2s\u001b[0m 840us/step - loss: 5.3717\n",
      "Epoch 861/1000\n",
      "\u001b[1m2766/2766\u001b[0m \u001b[32m━━━━━━━━━━━━━━━━━━━━\u001b[0m\u001b[37m\u001b[0m \u001b[1m2s\u001b[0m 809us/step - loss: 5.3691\n",
      "Epoch 862/1000\n",
      "\u001b[1m2766/2766\u001b[0m \u001b[32m━━━━━━━━━━━━━━━━━━━━\u001b[0m\u001b[37m\u001b[0m \u001b[1m2s\u001b[0m 832us/step - loss: 5.3685\n",
      "Epoch 863/1000\n",
      "\u001b[1m2766/2766\u001b[0m \u001b[32m━━━━━━━━━━━━━━━━━━━━\u001b[0m\u001b[37m\u001b[0m \u001b[1m3s\u001b[0m 934us/step - loss: 5.3702\n",
      "Epoch 864/1000\n",
      "\u001b[1m2766/2766\u001b[0m \u001b[32m━━━━━━━━━━━━━━━━━━━━\u001b[0m\u001b[37m\u001b[0m \u001b[1m2s\u001b[0m 879us/step - loss: 5.3663\n",
      "Epoch 865/1000\n",
      "\u001b[1m2766/2766\u001b[0m \u001b[32m━━━━━━━━━━━━━━━━━━━━\u001b[0m\u001b[37m\u001b[0m \u001b[1m2s\u001b[0m 849us/step - loss: 5.3672\n",
      "Epoch 866/1000\n",
      "\u001b[1m2766/2766\u001b[0m \u001b[32m━━━━━━━━━━━━━━━━━━━━\u001b[0m\u001b[37m\u001b[0m \u001b[1m2s\u001b[0m 859us/step - loss: 5.3692\n",
      "Epoch 867/1000\n",
      "\u001b[1m2766/2766\u001b[0m \u001b[32m━━━━━━━━━━━━━━━━━━━━\u001b[0m\u001b[37m\u001b[0m \u001b[1m3s\u001b[0m 1ms/step - loss: 5.3676\n",
      "Epoch 868/1000\n",
      "\u001b[1m2766/2766\u001b[0m \u001b[32m━━━━━━━━━━━━━━━━━━━━\u001b[0m\u001b[37m\u001b[0m \u001b[1m2s\u001b[0m 870us/step - loss: 5.3695\n",
      "Epoch 869/1000\n",
      "\u001b[1m2766/2766\u001b[0m \u001b[32m━━━━━━━━━━━━━━━━━━━━\u001b[0m\u001b[37m\u001b[0m \u001b[1m3s\u001b[0m 935us/step - loss: 5.3680\n",
      "Epoch 870/1000\n",
      "\u001b[1m2766/2766\u001b[0m \u001b[32m━━━━━━━━━━━━━━━━━━━━\u001b[0m\u001b[37m\u001b[0m \u001b[1m2s\u001b[0m 872us/step - loss: 5.3692\n",
      "Epoch 871/1000\n",
      "\u001b[1m2766/2766\u001b[0m \u001b[32m━━━━━━━━━━━━━━━━━━━━\u001b[0m\u001b[37m\u001b[0m \u001b[1m2s\u001b[0m 853us/step - loss: 5.3691\n",
      "Epoch 872/1000\n",
      "\u001b[1m2766/2766\u001b[0m \u001b[32m━━━━━━━━━━━━━━━━━━━━\u001b[0m\u001b[37m\u001b[0m \u001b[1m2s\u001b[0m 848us/step - loss: 5.3695\n",
      "Epoch 873/1000\n",
      "\u001b[1m2766/2766\u001b[0m \u001b[32m━━━━━━━━━━━━━━━━━━━━\u001b[0m\u001b[37m\u001b[0m \u001b[1m2s\u001b[0m 889us/step - loss: 5.3689\n",
      "Epoch 874/1000\n",
      "\u001b[1m2766/2766\u001b[0m \u001b[32m━━━━━━━━━━━━━━━━━━━━\u001b[0m\u001b[37m\u001b[0m \u001b[1m3s\u001b[0m 903us/step - loss: 5.3702\n",
      "Epoch 875/1000\n",
      "\u001b[1m2766/2766\u001b[0m \u001b[32m━━━━━━━━━━━━━━━━━━━━\u001b[0m\u001b[37m\u001b[0m \u001b[1m2s\u001b[0m 873us/step - loss: 5.3679\n",
      "Epoch 876/1000\n",
      "\u001b[1m2766/2766\u001b[0m \u001b[32m━━━━━━━━━━━━━━━━━━━━\u001b[0m\u001b[37m\u001b[0m \u001b[1m3s\u001b[0m 934us/step - loss: 5.3697\n",
      "Epoch 877/1000\n",
      "\u001b[1m2766/2766\u001b[0m \u001b[32m━━━━━━━━━━━━━━━━━━━━\u001b[0m\u001b[37m\u001b[0m \u001b[1m3s\u001b[0m 882us/step - loss: 5.3659\n",
      "Epoch 878/1000\n",
      "\u001b[1m2766/2766\u001b[0m \u001b[32m━━━━━━━━━━━━━━━━━━━━\u001b[0m\u001b[37m\u001b[0m \u001b[1m3s\u001b[0m 940us/step - loss: 5.3699\n",
      "Epoch 879/1000\n",
      "\u001b[1m2766/2766\u001b[0m \u001b[32m━━━━━━━━━━━━━━━━━━━━\u001b[0m\u001b[37m\u001b[0m \u001b[1m3s\u001b[0m 915us/step - loss: 5.3730\n",
      "Epoch 880/1000\n",
      "\u001b[1m2766/2766\u001b[0m \u001b[32m━━━━━━━━━━━━━━━━━━━━\u001b[0m\u001b[37m\u001b[0m \u001b[1m3s\u001b[0m 927us/step - loss: 5.3685\n",
      "Epoch 881/1000\n",
      "\u001b[1m2766/2766\u001b[0m \u001b[32m━━━━━━━━━━━━━━━━━━━━\u001b[0m\u001b[37m\u001b[0m \u001b[1m3s\u001b[0m 931us/step - loss: 5.3685\n",
      "Epoch 882/1000\n",
      "\u001b[1m2766/2766\u001b[0m \u001b[32m━━━━━━━━━━━━━━━━━━━━\u001b[0m\u001b[37m\u001b[0m \u001b[1m3s\u001b[0m 919us/step - loss: 5.3662\n",
      "Epoch 883/1000\n",
      "\u001b[1m2766/2766\u001b[0m \u001b[32m━━━━━━━━━━━━━━━━━━━━\u001b[0m\u001b[37m\u001b[0m \u001b[1m3s\u001b[0m 938us/step - loss: 5.3697\n",
      "Epoch 884/1000\n",
      "\u001b[1m2766/2766\u001b[0m \u001b[32m━━━━━━━━━━━━━━━━━━━━\u001b[0m\u001b[37m\u001b[0m \u001b[1m3s\u001b[0m 959us/step - loss: 5.3669\n",
      "Epoch 885/1000\n",
      "\u001b[1m2766/2766\u001b[0m \u001b[32m━━━━━━━━━━━━━━━━━━━━\u001b[0m\u001b[37m\u001b[0m \u001b[1m3s\u001b[0m 982us/step - loss: 5.3673\n",
      "Epoch 886/1000\n",
      "\u001b[1m2766/2766\u001b[0m \u001b[32m━━━━━━━━━━━━━━━━━━━━\u001b[0m\u001b[37m\u001b[0m \u001b[1m3s\u001b[0m 944us/step - loss: 5.3658\n",
      "Epoch 887/1000\n",
      "\u001b[1m2766/2766\u001b[0m \u001b[32m━━━━━━━━━━━━━━━━━━━━\u001b[0m\u001b[37m\u001b[0m \u001b[1m3s\u001b[0m 975us/step - loss: 5.3684\n",
      "Epoch 888/1000\n",
      "\u001b[1m2766/2766\u001b[0m \u001b[32m━━━━━━━━━━━━━━━━━━━━\u001b[0m\u001b[37m\u001b[0m \u001b[1m3s\u001b[0m 997us/step - loss: 5.3680\n",
      "Epoch 889/1000\n",
      "\u001b[1m2766/2766\u001b[0m \u001b[32m━━━━━━━━━━━━━━━━━━━━\u001b[0m\u001b[37m\u001b[0m \u001b[1m3s\u001b[0m 974us/step - loss: 5.3704\n",
      "Epoch 890/1000\n",
      "\u001b[1m2766/2766\u001b[0m \u001b[32m━━━━━━━━━━━━━━━━━━━━\u001b[0m\u001b[37m\u001b[0m \u001b[1m3s\u001b[0m 966us/step - loss: 5.3697\n",
      "Epoch 891/1000\n",
      "\u001b[1m2766/2766\u001b[0m \u001b[32m━━━━━━━━━━━━━━━━━━━━\u001b[0m\u001b[37m\u001b[0m \u001b[1m3s\u001b[0m 1ms/step - loss: 5.3710\n",
      "Epoch 892/1000\n",
      "\u001b[1m2766/2766\u001b[0m \u001b[32m━━━━━━━━━━━━━━━━━━━━\u001b[0m\u001b[37m\u001b[0m \u001b[1m3s\u001b[0m 970us/step - loss: 5.3678\n",
      "Epoch 893/1000\n",
      "\u001b[1m2766/2766\u001b[0m \u001b[32m━━━━━━━━━━━━━━━━━━━━\u001b[0m\u001b[37m\u001b[0m \u001b[1m3s\u001b[0m 1ms/step - loss: 5.3700\n",
      "Epoch 894/1000\n",
      "\u001b[1m2766/2766\u001b[0m \u001b[32m━━━━━━━━━━━━━━━━━━━━\u001b[0m\u001b[37m\u001b[0m \u001b[1m3s\u001b[0m 1ms/step - loss: 5.3711\n",
      "Epoch 895/1000\n",
      "\u001b[1m2766/2766\u001b[0m \u001b[32m━━━━━━━━━━━━━━━━━━━━\u001b[0m\u001b[37m\u001b[0m \u001b[1m3s\u001b[0m 967us/step - loss: 5.3674\n",
      "Epoch 896/1000\n",
      "\u001b[1m2766/2766\u001b[0m \u001b[32m━━━━━━━━━━━━━━━━━━━━\u001b[0m\u001b[37m\u001b[0m \u001b[1m3s\u001b[0m 1ms/step - loss: 5.3697\n",
      "Epoch 897/1000\n",
      "\u001b[1m2766/2766\u001b[0m \u001b[32m━━━━━━━━━━━━━━━━━━━━\u001b[0m\u001b[37m\u001b[0m \u001b[1m3s\u001b[0m 1ms/step - loss: 5.3695\n",
      "Epoch 898/1000\n",
      "\u001b[1m2766/2766\u001b[0m \u001b[32m━━━━━━━━━━━━━━━━━━━━\u001b[0m\u001b[37m\u001b[0m \u001b[1m3s\u001b[0m 1ms/step - loss: 5.3683\n",
      "Epoch 899/1000\n",
      "\u001b[1m2766/2766\u001b[0m \u001b[32m━━━━━━━━━━━━━━━━━━━━\u001b[0m\u001b[37m\u001b[0m \u001b[1m3s\u001b[0m 1ms/step - loss: 5.3690\n",
      "Epoch 900/1000\n",
      "\u001b[1m2766/2766\u001b[0m \u001b[32m━━━━━━━━━━━━━━━━━━━━\u001b[0m\u001b[37m\u001b[0m \u001b[1m3s\u001b[0m 1ms/step - loss: 5.3701\n",
      "Epoch 901/1000\n",
      "\u001b[1m2766/2766\u001b[0m \u001b[32m━━━━━━━━━━━━━━━━━━━━\u001b[0m\u001b[37m\u001b[0m \u001b[1m3s\u001b[0m 984us/step - loss: 5.3688\n",
      "Epoch 902/1000\n",
      "\u001b[1m2766/2766\u001b[0m \u001b[32m━━━━━━━━━━━━━━━━━━━━\u001b[0m\u001b[37m\u001b[0m \u001b[1m3s\u001b[0m 1ms/step - loss: 5.3720\n",
      "Epoch 903/1000\n",
      "\u001b[1m2766/2766\u001b[0m \u001b[32m━━━━━━━━━━━━━━━━━━━━\u001b[0m\u001b[37m\u001b[0m \u001b[1m3s\u001b[0m 1ms/step - loss: 5.3677\n",
      "Epoch 904/1000\n",
      "\u001b[1m2766/2766\u001b[0m \u001b[32m━━━━━━━━━━━━━━━━━━━━\u001b[0m\u001b[37m\u001b[0m \u001b[1m3s\u001b[0m 1ms/step - loss: 5.3687\n",
      "Epoch 905/1000\n",
      "\u001b[1m2766/2766\u001b[0m \u001b[32m━━━━━━━━━━━━━━━━━━━━\u001b[0m\u001b[37m\u001b[0m \u001b[1m3s\u001b[0m 992us/step - loss: 5.3676\n",
      "Epoch 906/1000\n",
      "\u001b[1m2766/2766\u001b[0m \u001b[32m━━━━━━━━━━━━━━━━━━━━\u001b[0m\u001b[37m\u001b[0m \u001b[1m3s\u001b[0m 1ms/step - loss: 5.3689\n",
      "Epoch 907/1000\n",
      "\u001b[1m2766/2766\u001b[0m \u001b[32m━━━━━━━━━━━━━━━━━━━━\u001b[0m\u001b[37m\u001b[0m \u001b[1m3s\u001b[0m 1ms/step - loss: 5.3666\n",
      "Epoch 908/1000\n",
      "\u001b[1m2766/2766\u001b[0m \u001b[32m━━━━━━━━━━━━━━━━━━━━\u001b[0m\u001b[37m\u001b[0m \u001b[1m3s\u001b[0m 1ms/step - loss: 5.3702\n",
      "Epoch 909/1000\n",
      "\u001b[1m2766/2766\u001b[0m \u001b[32m━━━━━━━━━━━━━━━━━━━━\u001b[0m\u001b[37m\u001b[0m \u001b[1m3s\u001b[0m 1ms/step - loss: 5.3658\n",
      "Epoch 910/1000\n",
      "\u001b[1m2766/2766\u001b[0m \u001b[32m━━━━━━━━━━━━━━━━━━━━\u001b[0m\u001b[37m\u001b[0m \u001b[1m3s\u001b[0m 994us/step - loss: 5.3683\n",
      "Epoch 911/1000\n",
      "\u001b[1m2766/2766\u001b[0m \u001b[32m━━━━━━━━━━━━━━━━━━━━\u001b[0m\u001b[37m\u001b[0m \u001b[1m3s\u001b[0m 1ms/step - loss: 5.3657\n",
      "Epoch 912/1000\n",
      "\u001b[1m2766/2766\u001b[0m \u001b[32m━━━━━━━━━━━━━━━━━━━━\u001b[0m\u001b[37m\u001b[0m \u001b[1m3s\u001b[0m 1ms/step - loss: 5.3724\n",
      "Epoch 913/1000\n",
      "\u001b[1m2766/2766\u001b[0m \u001b[32m━━━━━━━━━━━━━━━━━━━━\u001b[0m\u001b[37m\u001b[0m \u001b[1m3s\u001b[0m 944us/step - loss: 5.3702\n",
      "Epoch 914/1000\n",
      "\u001b[1m2766/2766\u001b[0m \u001b[32m━━━━━━━━━━━━━━━━━━━━\u001b[0m\u001b[37m\u001b[0m \u001b[1m3s\u001b[0m 1ms/step - loss: 5.3703\n",
      "Epoch 915/1000\n",
      "\u001b[1m2766/2766\u001b[0m \u001b[32m━━━━━━━━━━━━━━━━━━━━\u001b[0m\u001b[37m\u001b[0m \u001b[1m3s\u001b[0m 1ms/step - loss: 5.3669\n",
      "Epoch 916/1000\n",
      "\u001b[1m2766/2766\u001b[0m \u001b[32m━━━━━━━━━━━━━━━━━━━━\u001b[0m\u001b[37m\u001b[0m \u001b[1m3s\u001b[0m 1ms/step - loss: 5.3704\n",
      "Epoch 917/1000\n",
      "\u001b[1m2766/2766\u001b[0m \u001b[32m━━━━━━━━━━━━━━━━━━━━\u001b[0m\u001b[37m\u001b[0m \u001b[1m3s\u001b[0m 1ms/step - loss: 5.3697\n",
      "Epoch 918/1000\n",
      "\u001b[1m2766/2766\u001b[0m \u001b[32m━━━━━━━━━━━━━━━━━━━━\u001b[0m\u001b[37m\u001b[0m \u001b[1m3s\u001b[0m 994us/step - loss: 5.3661\n",
      "Epoch 919/1000\n",
      "\u001b[1m2766/2766\u001b[0m \u001b[32m━━━━━━━━━━━━━━━━━━━━\u001b[0m\u001b[37m\u001b[0m \u001b[1m3s\u001b[0m 1ms/step - loss: 5.3671\n",
      "Epoch 920/1000\n",
      "\u001b[1m2766/2766\u001b[0m \u001b[32m━━━━━━━━━━━━━━━━━━━━\u001b[0m\u001b[37m\u001b[0m \u001b[1m3s\u001b[0m 1ms/step - loss: 5.3692\n",
      "Epoch 921/1000\n",
      "\u001b[1m2766/2766\u001b[0m \u001b[32m━━━━━━━━━━━━━━━━━━━━\u001b[0m\u001b[37m\u001b[0m \u001b[1m3s\u001b[0m 1ms/step - loss: 5.3673 \n",
      "Epoch 922/1000\n",
      "\u001b[1m2766/2766\u001b[0m \u001b[32m━━━━━━━━━━━━━━━━━━━━\u001b[0m\u001b[37m\u001b[0m \u001b[1m3s\u001b[0m 1ms/step - loss: 5.3704\n",
      "Epoch 923/1000\n",
      "\u001b[1m2766/2766\u001b[0m \u001b[32m━━━━━━━━━━━━━━━━━━━━\u001b[0m\u001b[37m\u001b[0m \u001b[1m5s\u001b[0m 970us/step - loss: 5.3691\n",
      "Epoch 924/1000\n",
      "\u001b[1m2766/2766\u001b[0m \u001b[32m━━━━━━━━━━━━━━━━━━━━\u001b[0m\u001b[37m\u001b[0m \u001b[1m3s\u001b[0m 1ms/step - loss: 5.3646\n",
      "Epoch 925/1000\n",
      "\u001b[1m2766/2766\u001b[0m \u001b[32m━━━━━━━━━━━━━━━━━━━━\u001b[0m\u001b[37m\u001b[0m \u001b[1m3s\u001b[0m 971us/step - loss: 5.3675\n",
      "Epoch 926/1000\n",
      "\u001b[1m2766/2766\u001b[0m \u001b[32m━━━━━━━━━━━━━━━━━━━━\u001b[0m\u001b[37m\u001b[0m \u001b[1m3s\u001b[0m 1ms/step - loss: 5.3705\n",
      "Epoch 927/1000\n",
      "\u001b[1m2766/2766\u001b[0m \u001b[32m━━━━━━━━━━━━━━━━━━━━\u001b[0m\u001b[37m\u001b[0m \u001b[1m3s\u001b[0m 1ms/step - loss: 5.3695\n",
      "Epoch 928/1000\n",
      "\u001b[1m2766/2766\u001b[0m \u001b[32m━━━━━━━━━━━━━━━━━━━━\u001b[0m\u001b[37m\u001b[0m \u001b[1m3s\u001b[0m 1ms/step - loss: 5.3703\n",
      "Epoch 929/1000\n",
      "\u001b[1m2766/2766\u001b[0m \u001b[32m━━━━━━━━━━━━━━━━━━━━\u001b[0m\u001b[37m\u001b[0m \u001b[1m3s\u001b[0m 1ms/step - loss: 5.3670\n",
      "Epoch 930/1000\n",
      "\u001b[1m2766/2766\u001b[0m \u001b[32m━━━━━━━━━━━━━━━━━━━━\u001b[0m\u001b[37m\u001b[0m \u001b[1m3s\u001b[0m 1ms/step - loss: 5.3711\n",
      "Epoch 931/1000\n",
      "\u001b[1m2766/2766\u001b[0m \u001b[32m━━━━━━━━━━━━━━━━━━━━\u001b[0m\u001b[37m\u001b[0m \u001b[1m3s\u001b[0m 1ms/step - loss: 5.3687\n",
      "Epoch 932/1000\n",
      "\u001b[1m2766/2766\u001b[0m \u001b[32m━━━━━━━━━━━━━━━━━━━━\u001b[0m\u001b[37m\u001b[0m \u001b[1m3s\u001b[0m 1ms/step - loss: 5.3696\n",
      "Epoch 933/1000\n",
      "\u001b[1m2766/2766\u001b[0m \u001b[32m━━━━━━━━━━━━━━━━━━━━\u001b[0m\u001b[37m\u001b[0m \u001b[1m3s\u001b[0m 1000us/step - loss: 5.3681\n",
      "Epoch 934/1000\n",
      "\u001b[1m2766/2766\u001b[0m \u001b[32m━━━━━━━━━━━━━━━━━━━━\u001b[0m\u001b[37m\u001b[0m \u001b[1m3s\u001b[0m 1ms/step - loss: 5.3715\n",
      "Epoch 935/1000\n",
      "\u001b[1m2766/2766\u001b[0m \u001b[32m━━━━━━━━━━━━━━━━━━━━\u001b[0m\u001b[37m\u001b[0m \u001b[1m3s\u001b[0m 1ms/step - loss: 5.3662\n",
      "Epoch 936/1000\n",
      "\u001b[1m2766/2766\u001b[0m \u001b[32m━━━━━━━━━━━━━━━━━━━━\u001b[0m\u001b[37m\u001b[0m \u001b[1m3s\u001b[0m 1ms/step - loss: 5.3686\n",
      "Epoch 937/1000\n",
      "\u001b[1m2766/2766\u001b[0m \u001b[32m━━━━━━━━━━━━━━━━━━━━\u001b[0m\u001b[37m\u001b[0m \u001b[1m3s\u001b[0m 1ms/step - loss: 5.3671\n",
      "Epoch 938/1000\n",
      "\u001b[1m2766/2766\u001b[0m \u001b[32m━━━━━━━━━━━━━━━━━━━━\u001b[0m\u001b[37m\u001b[0m \u001b[1m3s\u001b[0m 1ms/step - loss: 5.3663\n",
      "Epoch 939/1000\n",
      "\u001b[1m2766/2766\u001b[0m \u001b[32m━━━━━━━━━━━━━━━━━━━━\u001b[0m\u001b[37m\u001b[0m \u001b[1m3s\u001b[0m 1ms/step - loss: 5.3689\n",
      "Epoch 940/1000\n",
      "\u001b[1m2766/2766\u001b[0m \u001b[32m━━━━━━━━━━━━━━━━━━━━\u001b[0m\u001b[37m\u001b[0m \u001b[1m3s\u001b[0m 1ms/step - loss: 5.3675\n",
      "Epoch 941/1000\n",
      "\u001b[1m2766/2766\u001b[0m \u001b[32m━━━━━━━━━━━━━━━━━━━━\u001b[0m\u001b[37m\u001b[0m \u001b[1m3s\u001b[0m 1ms/step - loss: 5.3693\n",
      "Epoch 942/1000\n",
      "\u001b[1m2766/2766\u001b[0m \u001b[32m━━━━━━━━━━━━━━━━━━━━\u001b[0m\u001b[37m\u001b[0m \u001b[1m3s\u001b[0m 1ms/step - loss: 5.3723\n",
      "Epoch 943/1000\n",
      "\u001b[1m2766/2766\u001b[0m \u001b[32m━━━━━━━━━━━━━━━━━━━━\u001b[0m\u001b[37m\u001b[0m \u001b[1m3s\u001b[0m 1ms/step - loss: 5.3706\n",
      "Epoch 944/1000\n",
      "\u001b[1m2766/2766\u001b[0m \u001b[32m━━━━━━━━━━━━━━━━━━━━\u001b[0m\u001b[37m\u001b[0m \u001b[1m3s\u001b[0m 1ms/step - loss: 5.3705\n",
      "Epoch 945/1000\n",
      "\u001b[1m2766/2766\u001b[0m \u001b[32m━━━━━━━━━━━━━━━━━━━━\u001b[0m\u001b[37m\u001b[0m \u001b[1m3s\u001b[0m 999us/step - loss: 5.3700\n",
      "Epoch 946/1000\n",
      "\u001b[1m2766/2766\u001b[0m \u001b[32m━━━━━━━━━━━━━━━━━━━━\u001b[0m\u001b[37m\u001b[0m \u001b[1m3s\u001b[0m 1ms/step - loss: 5.3669\n",
      "Epoch 947/1000\n",
      "\u001b[1m2766/2766\u001b[0m \u001b[32m━━━━━━━━━━━━━━━━━━━━\u001b[0m\u001b[37m\u001b[0m \u001b[1m3s\u001b[0m 1ms/step - loss: 5.3691\n",
      "Epoch 948/1000\n",
      "\u001b[1m2766/2766\u001b[0m \u001b[32m━━━━━━━━━━━━━━━━━━━━\u001b[0m\u001b[37m\u001b[0m \u001b[1m3s\u001b[0m 1ms/step - loss: 5.3688\n",
      "Epoch 949/1000\n",
      "\u001b[1m2766/2766\u001b[0m \u001b[32m━━━━━━━━━━━━━━━━━━━━\u001b[0m\u001b[37m\u001b[0m \u001b[1m3s\u001b[0m 1ms/step - loss: 5.3667\n",
      "Epoch 950/1000\n",
      "\u001b[1m2766/2766\u001b[0m \u001b[32m━━━━━━━━━━━━━━━━━━━━\u001b[0m\u001b[37m\u001b[0m \u001b[1m3s\u001b[0m 1ms/step - loss: 5.3687\n",
      "Epoch 951/1000\n",
      "\u001b[1m2766/2766\u001b[0m \u001b[32m━━━━━━━━━━━━━━━━━━━━\u001b[0m\u001b[37m\u001b[0m \u001b[1m3s\u001b[0m 1ms/step - loss: 5.3710\n",
      "Epoch 952/1000\n",
      "\u001b[1m2766/2766\u001b[0m \u001b[32m━━━━━━━━━━━━━━━━━━━━\u001b[0m\u001b[37m\u001b[0m \u001b[1m3s\u001b[0m 1ms/step - loss: 5.3682\n",
      "Epoch 953/1000\n",
      "\u001b[1m2766/2766\u001b[0m \u001b[32m━━━━━━━━━━━━━━━━━━━━\u001b[0m\u001b[37m\u001b[0m \u001b[1m3s\u001b[0m 1ms/step - loss: 5.3672\n",
      "Epoch 954/1000\n",
      "\u001b[1m2766/2766\u001b[0m \u001b[32m━━━━━━━━━━━━━━━━━━━━\u001b[0m\u001b[37m\u001b[0m \u001b[1m3s\u001b[0m 1ms/step - loss: 5.3683\n",
      "Epoch 955/1000\n",
      "\u001b[1m2766/2766\u001b[0m \u001b[32m━━━━━━━━━━━━━━━━━━━━\u001b[0m\u001b[37m\u001b[0m \u001b[1m3s\u001b[0m 1ms/step - loss: 5.3686\n",
      "Epoch 956/1000\n",
      "\u001b[1m2766/2766\u001b[0m \u001b[32m━━━━━━━━━━━━━━━━━━━━\u001b[0m\u001b[37m\u001b[0m \u001b[1m3s\u001b[0m 1ms/step - loss: 5.3688\n",
      "Epoch 957/1000\n",
      "\u001b[1m2766/2766\u001b[0m \u001b[32m━━━━━━━━━━━━━━━━━━━━\u001b[0m\u001b[37m\u001b[0m \u001b[1m3s\u001b[0m 1ms/step - loss: 5.3673\n",
      "Epoch 958/1000\n",
      "\u001b[1m2766/2766\u001b[0m \u001b[32m━━━━━━━━━━━━━━━━━━━━\u001b[0m\u001b[37m\u001b[0m \u001b[1m3s\u001b[0m 1ms/step - loss: 5.3693\n",
      "Epoch 959/1000\n",
      "\u001b[1m2766/2766\u001b[0m \u001b[32m━━━━━━━━━━━━━━━━━━━━\u001b[0m\u001b[37m\u001b[0m \u001b[1m3s\u001b[0m 1ms/step - loss: 5.3690\n",
      "Epoch 960/1000\n",
      "\u001b[1m2766/2766\u001b[0m \u001b[32m━━━━━━━━━━━━━━━━━━━━\u001b[0m\u001b[37m\u001b[0m \u001b[1m5s\u001b[0m 1ms/step - loss: 5.3684\n",
      "Epoch 961/1000\n",
      "\u001b[1m2766/2766\u001b[0m \u001b[32m━━━━━━━━━━━━━━━━━━━━\u001b[0m\u001b[37m\u001b[0m \u001b[1m3s\u001b[0m 933us/step - loss: 5.3686\n",
      "Epoch 962/1000\n",
      "\u001b[1m2766/2766\u001b[0m \u001b[32m━━━━━━━━━━━━━━━━━━━━\u001b[0m\u001b[37m\u001b[0m \u001b[1m3s\u001b[0m 971us/step - loss: 5.3694\n",
      "Epoch 963/1000\n",
      "\u001b[1m2766/2766\u001b[0m \u001b[32m━━━━━━━━━━━━━━━━━━━━\u001b[0m\u001b[37m\u001b[0m \u001b[1m3s\u001b[0m 1ms/step - loss: 5.3688\n",
      "Epoch 964/1000\n",
      "\u001b[1m2766/2766\u001b[0m \u001b[32m━━━━━━━━━━━━━━━━━━━━\u001b[0m\u001b[37m\u001b[0m \u001b[1m3s\u001b[0m 1ms/step - loss: 5.3718\n",
      "Epoch 965/1000\n",
      "\u001b[1m2766/2766\u001b[0m \u001b[32m━━━━━━━━━━━━━━━━━━━━\u001b[0m\u001b[37m\u001b[0m \u001b[1m3s\u001b[0m 1ms/step - loss: 5.3676\n",
      "Epoch 966/1000\n",
      "\u001b[1m2766/2766\u001b[0m \u001b[32m━━━━━━━━━━━━━━━━━━━━\u001b[0m\u001b[37m\u001b[0m \u001b[1m3s\u001b[0m 1ms/step - loss: 5.3711\n",
      "Epoch 967/1000\n",
      "\u001b[1m2766/2766\u001b[0m \u001b[32m━━━━━━━━━━━━━━━━━━━━\u001b[0m\u001b[37m\u001b[0m \u001b[1m3s\u001b[0m 1ms/step - loss: 5.3699\n",
      "Epoch 968/1000\n",
      "\u001b[1m2766/2766\u001b[0m \u001b[32m━━━━━━━━━━━━━━━━━━━━\u001b[0m\u001b[37m\u001b[0m \u001b[1m3s\u001b[0m 1ms/step - loss: 5.3687\n",
      "Epoch 969/1000\n",
      "\u001b[1m2766/2766\u001b[0m \u001b[32m━━━━━━━━━━━━━━━━━━━━\u001b[0m\u001b[37m\u001b[0m \u001b[1m6s\u001b[0m 2ms/step - loss: 5.3697\n",
      "Epoch 970/1000\n",
      "\u001b[1m2766/2766\u001b[0m \u001b[32m━━━━━━━━━━━━━━━━━━━━\u001b[0m\u001b[37m\u001b[0m \u001b[1m7s\u001b[0m 3ms/step - loss: 5.3699\n",
      "Epoch 971/1000\n",
      "\u001b[1m2766/2766\u001b[0m \u001b[32m━━━━━━━━━━━━━━━━━━━━\u001b[0m\u001b[37m\u001b[0m \u001b[1m8s\u001b[0m 3ms/step - loss: 5.3704\n",
      "Epoch 972/1000\n",
      "\u001b[1m2766/2766\u001b[0m \u001b[32m━━━━━━━━━━━━━━━━━━━━\u001b[0m\u001b[37m\u001b[0m \u001b[1m10s\u001b[0m 3ms/step - loss: 5.3684\n",
      "Epoch 973/1000\n",
      "\u001b[1m2766/2766\u001b[0m \u001b[32m━━━━━━━━━━━━━━━━━━━━\u001b[0m\u001b[37m\u001b[0m \u001b[1m10s\u001b[0m 3ms/step - loss: 5.3704\n",
      "Epoch 974/1000\n",
      "\u001b[1m2766/2766\u001b[0m \u001b[32m━━━━━━━━━━━━━━━━━━━━\u001b[0m\u001b[37m\u001b[0m \u001b[1m8s\u001b[0m 3ms/step - loss: 5.3706\n",
      "Epoch 975/1000\n",
      "\u001b[1m2766/2766\u001b[0m \u001b[32m━━━━━━━━━━━━━━━━━━━━\u001b[0m\u001b[37m\u001b[0m \u001b[1m4s\u001b[0m 1ms/step - loss: 5.3705\n",
      "Epoch 976/1000\n",
      "\u001b[1m2766/2766\u001b[0m \u001b[32m━━━━━━━━━━━━━━━━━━━━\u001b[0m\u001b[37m\u001b[0m \u001b[1m3s\u001b[0m 1ms/step - loss: 5.3705 \n",
      "Epoch 977/1000\n",
      "\u001b[1m2766/2766\u001b[0m \u001b[32m━━━━━━━━━━━━━━━━━━━━\u001b[0m\u001b[37m\u001b[0m \u001b[1m3s\u001b[0m 981us/step - loss: 5.3665\n",
      "Epoch 978/1000\n",
      "\u001b[1m2766/2766\u001b[0m \u001b[32m━━━━━━━━━━━━━━━━━━━━\u001b[0m\u001b[37m\u001b[0m \u001b[1m3s\u001b[0m 984us/step - loss: 5.3695\n",
      "Epoch 979/1000\n",
      "\u001b[1m2766/2766\u001b[0m \u001b[32m━━━━━━━━━━━━━━━━━━━━\u001b[0m\u001b[37m\u001b[0m \u001b[1m4s\u001b[0m 1ms/step - loss: 5.3697\n",
      "Epoch 980/1000\n",
      "\u001b[1m2766/2766\u001b[0m \u001b[32m━━━━━━━━━━━━━━━━━━━━\u001b[0m\u001b[37m\u001b[0m \u001b[1m3s\u001b[0m 962us/step - loss: 5.3700\n",
      "Epoch 981/1000\n",
      "\u001b[1m2766/2766\u001b[0m \u001b[32m━━━━━━━━━━━━━━━━━━━━\u001b[0m\u001b[37m\u001b[0m \u001b[1m3s\u001b[0m 937us/step - loss: 5.3691\n",
      "Epoch 982/1000\n",
      "\u001b[1m2766/2766\u001b[0m \u001b[32m━━━━━━━━━━━━━━━━━━━━\u001b[0m\u001b[37m\u001b[0m \u001b[1m3s\u001b[0m 936us/step - loss: 5.3699\n",
      "Epoch 983/1000\n",
      "\u001b[1m2766/2766\u001b[0m \u001b[32m━━━━━━━━━━━━━━━━━━━━\u001b[0m\u001b[37m\u001b[0m \u001b[1m3s\u001b[0m 1ms/step - loss: 5.3700\n",
      "Epoch 984/1000\n",
      "\u001b[1m2766/2766\u001b[0m \u001b[32m━━━━━━━━━━━━━━━━━━━━\u001b[0m\u001b[37m\u001b[0m \u001b[1m3s\u001b[0m 930us/step - loss: 5.3688\n",
      "Epoch 985/1000\n",
      "\u001b[1m2766/2766\u001b[0m \u001b[32m━━━━━━━━━━━━━━━━━━━━\u001b[0m\u001b[37m\u001b[0m \u001b[1m3s\u001b[0m 998us/step - loss: 5.3668\n",
      "Epoch 986/1000\n",
      "\u001b[1m2766/2766\u001b[0m \u001b[32m━━━━━━━━━━━━━━━━━━━━\u001b[0m\u001b[37m\u001b[0m \u001b[1m3s\u001b[0m 1ms/step - loss: 5.3655\n",
      "Epoch 987/1000\n",
      "\u001b[1m2766/2766\u001b[0m \u001b[32m━━━━━━━━━━━━━━━━━━━━\u001b[0m\u001b[37m\u001b[0m \u001b[1m3s\u001b[0m 1ms/step - loss: 5.3682\n",
      "Epoch 988/1000\n",
      "\u001b[1m2766/2766\u001b[0m \u001b[32m━━━━━━━━━━━━━━━━━━━━\u001b[0m\u001b[37m\u001b[0m \u001b[1m7s\u001b[0m 3ms/step - loss: 5.3708\n",
      "Epoch 989/1000\n",
      "\u001b[1m2766/2766\u001b[0m \u001b[32m━━━━━━━━━━━━━━━━━━━━\u001b[0m\u001b[37m\u001b[0m \u001b[1m8s\u001b[0m 3ms/step - loss: 5.3694\n",
      "Epoch 990/1000\n",
      "\u001b[1m2766/2766\u001b[0m \u001b[32m━━━━━━━━━━━━━━━━━━━━\u001b[0m\u001b[37m\u001b[0m \u001b[1m10s\u001b[0m 3ms/step - loss: 5.3660\n",
      "Epoch 991/1000\n",
      "\u001b[1m2766/2766\u001b[0m \u001b[32m━━━━━━━━━━━━━━━━━━━━\u001b[0m\u001b[37m\u001b[0m \u001b[1m8s\u001b[0m 3ms/step - loss: 5.3696\n",
      "Epoch 992/1000\n",
      "\u001b[1m2766/2766\u001b[0m \u001b[32m━━━━━━━━━━━━━━━━━━━━\u001b[0m\u001b[37m\u001b[0m \u001b[1m4s\u001b[0m 1ms/step - loss: 5.3688\n",
      "Epoch 993/1000\n",
      "\u001b[1m2766/2766\u001b[0m \u001b[32m━━━━━━━━━━━━━━━━━━━━\u001b[0m\u001b[37m\u001b[0m \u001b[1m3s\u001b[0m 1ms/step - loss: 5.3681\n",
      "Epoch 994/1000\n",
      "\u001b[1m2766/2766\u001b[0m \u001b[32m━━━━━━━━━━━━━━━━━━━━\u001b[0m\u001b[37m\u001b[0m \u001b[1m2s\u001b[0m 853us/step - loss: 5.3695\n",
      "Epoch 995/1000\n",
      "\u001b[1m2766/2766\u001b[0m \u001b[32m━━━━━━━━━━━━━━━━━━━━\u001b[0m\u001b[37m\u001b[0m \u001b[1m3s\u001b[0m 945us/step - loss: 5.3718\n",
      "Epoch 996/1000\n",
      "\u001b[1m2766/2766\u001b[0m \u001b[32m━━━━━━━━━━━━━━━━━━━━\u001b[0m\u001b[37m\u001b[0m \u001b[1m3s\u001b[0m 944us/step - loss: 5.3696\n",
      "Epoch 997/1000\n",
      "\u001b[1m2766/2766\u001b[0m \u001b[32m━━━━━━━━━━━━━━━━━━━━\u001b[0m\u001b[37m\u001b[0m \u001b[1m5s\u001b[0m 917us/step - loss: 5.3672\n",
      "Epoch 998/1000\n",
      "\u001b[1m2766/2766\u001b[0m \u001b[32m━━━━━━━━━━━━━━━━━━━━\u001b[0m\u001b[37m\u001b[0m \u001b[1m3s\u001b[0m 997us/step - loss: 5.3661\n",
      "Epoch 999/1000\n",
      "\u001b[1m2766/2766\u001b[0m \u001b[32m━━━━━━━━━━━━━━━━━━━━\u001b[0m\u001b[37m\u001b[0m \u001b[1m3s\u001b[0m 1ms/step - loss: 5.3686\n",
      "Epoch 1000/1000\n",
      "\u001b[1m2766/2766\u001b[0m \u001b[32m━━━━━━━━━━━━━━━━━━━━\u001b[0m\u001b[37m\u001b[0m \u001b[1m2s\u001b[0m 868us/step - loss: 5.3676\n"
     ]
    },
    {
     "data": {
      "text/plain": [
       "<keras.src.callbacks.history.History at 0x253b23c31a0>"
      ]
     },
     "execution_count": 18,
     "metadata": {},
     "output_type": "execute_result"
    }
   ],
   "source": [
    "model.fit(X , Y , epochs = 1000)"
   ]
  },
  {
   "cell_type": "code",
   "execution_count": 19,
   "metadata": {},
   "outputs": [
    {
     "name": "stdout",
     "output_type": "stream",
     "text": [
      "moonlit : [0.13242047 0.08421826 0.02992811]\n",
      "clouded : [0.09006244 0.11919452 0.01593366]\n",
      "enjoyed : [ 0.11501599  0.08499181 -0.01195773]\n",
      "seen : [ 0.13096231  0.09691745 -0.00606222]\n",
      "perseverance : [0.09638049 0.08740085 0.02437946]\n",
      "right : [0.1090166  0.10027613 0.05535401]\n",
      "bond : [ 0.08931089  0.11422967 -0.0136129 ]\n",
      "renowned : [0.04746031 0.1138679  0.00368953]\n",
      "deep : [0.08996943 0.11856492 0.0866551 ]\n",
      "stronger : [0.11684681 0.10043328 0.04597091]\n",
      "soared : [ 0.11146042  0.07045176 -0.00227352]\n",
      "engulfed : [0.09161516 0.10335312 0.02095706]\n",
      "eye : [0.10304255 0.10570502 0.0459716 ]\n",
      "across : [ 0.0729095   0.09526614 -0.0139367 ]\n",
      "forests : [0.088168   0.12029266 0.01157208]\n",
      "prince : [ 0.07481127  0.12338437 -0.00372755]\n",
      "redoubled : [ 0.04145313  0.13675748 -0.02026893]\n",
      "encountered : [ 0.08066963  0.10994405 -0.01295952]\n",
      "bloomed : [ 0.14063856  0.09411328 -0.00385583]\n",
      "rejoiced : [ 0.12612462  0.11092398 -0.01303408]\n",
      "destroying : [0.05200515 0.10277246 0.01882673]\n",
      "quest : [0.08672667 0.10598341 0.01667965]\n",
      "leaving : [0.09547478 0.07671877 0.03784179]\n",
      "faded : [ 0.07091611  0.08659892 -0.02611571]\n",
      "seeking : [ 0.09632053  0.09196758 -0.00793517]\n",
      "brave : [0.05012389 0.1322379  0.02060207]\n",
      "henry : [0.07465825 0.08393285 0.00560209]\n",
      "lumina : [0.10575029 0.1194832  0.02848028]\n",
      "glade : [ 0.09691346  0.13649715 -0.03730689]\n",
      "resolve : [0.10997856 0.0984152  0.00529067]\n",
      "towering : [ 0.07309416  0.11173047 -0.00959527]\n",
      "named : [ 0.06209043  0.14200374 -0.01120367]\n",
      "timeless : [0.12132356 0.10583497 0.05328247]\n",
      "royal : [0.09962811 0.13687493 0.02374202]\n",
      "word : [ 0.0610491   0.08700343 -0.03411086]\n",
      "strength : [ 0.03857353  0.14304711 -0.00934821]\n",
      "group : [0.0719761  0.13115032 0.04079005]\n",
      "resided : [0.11542536 0.11611464 0.00645695]\n",
      "finally : [0.07385986 0.10158014 0.01811827]\n",
      "noble : [ 0.05625597  0.11738505 -0.00748888]\n",
      "iridescent : [0.03727665 0.15842864 0.0007674 ]\n",
      "stand : [ 0.11403663  0.08743003 -0.03584026]\n",
      "crisp : [ 0.05360003  0.12322085 -0.01298232]\n",
      "night : [0.05933252 0.1158052  0.02411492]\n",
      "faces : [0.07294082 0.1032419  0.0486261 ]\n",
      "trail : [0.06512827 0.13774262 0.00809035]\n",
      "danced : [ 0.11124495  0.09377853 -0.01122861]\n",
      "like : [ 0.08612905  0.07948992 -0.00124808]\n",
      "people : [ 0.11870036  0.10412546 -0.0190491 ]\n",
      "valiant : [0.07088423 0.11636186 0.01433802]\n",
      "kingdom : [0.06253276 0.09104203 0.01638777]\n",
      "time : [ 0.09804443  0.0725995  -0.00359485]\n",
      "harmony : [0.12324686 0.07697757 0.01940867]\n",
      "rulers : [ 0.05910329  0.07811358 -0.01566791]\n",
      "heart : [ 0.07657393  0.1374857  -0.04398679]\n",
      "sword : [ 0.07890084  0.14340895 -0.02629291]\n",
      "approached : [ 0.07088642  0.11293675 -0.03112862]\n",
      "guided : [ 0.08552399  0.12237511 -0.00842994]\n",
      "turned : [0.06498551 0.1243848  0.00071289]\n",
      "continued : [0.06721375 0.14583382 0.03419567]\n",
      "one : [0.13008492 0.06209189 0.01461192]\n",
      "however : [ 0.088347    0.14923489 -0.03374641]\n",
      "required : [0.05124059 0.13445494 0.03113906]\n",
      "obstacle : [0.07921881 0.10127381 0.02372177]\n",
      "queen : [0.06958563 0.10831881 0.02178875]\n",
      "often : [0.04869202 0.08407196 0.07694153]\n",
      "stars : [ 0.09043981  0.08400247 -0.02230232]\n",
      "princess : [0.09770408 0.06566971 0.02736462]\n",
      "journeyed : [ 0.05708235  0.15414217 -0.01359873]\n",
      "amelia : [0.09143391 0.10440164 0.03367152]\n",
      "weeks : [0.04018357 0.13976167 0.02184981]\n",
      "lies : [0.1223584  0.08415387 0.01814659]\n",
      "thrive : [0.11491702 0.09614258 0.04185592]\n",
      "joyous : [0.05950358 0.12013219 0.01953315]\n",
      "leisurely : [0.05824071 0.11345742 0.00313536]\n",
      "wise : [ 0.08802389  0.13074668 -0.01533546]\n",
      "ancient : [0.10177989 0.11323887 0.00276623]\n",
      "embarked : [ 0.08884174  0.10036694 -0.08057888]\n",
      "etched : [0.08323012 0.08030543 0.013054  ]\n",
      "vanquish : [ 0.08937434  0.10679409 -0.01859921]\n",
      "courage : [0.08499128 0.09915183 0.00527457]\n",
      "wizard : [0.06401305 0.11993164 0.01366593]\n",
      "reached : [ 0.13116817  0.08058127 -0.02504308]\n",
      "sweep : [0.0843929  0.1174361  0.00200859]\n",
      "true : [0.06680902 0.12319867 0.0073974 ]\n",
      "atop : [ 0.06964806  0.15724364 -0.00385254]\n",
      "peace : [ 0.06171391  0.13619293 -0.00744763]\n",
      "tested : [0.0625114  0.08511949 0.0042088 ]\n",
      "consulting : [0.13401972 0.09101866 0.00803788]\n",
      "erupted : [0.04773028 0.10139346 0.00896887]\n",
      "celebration : [0.10195659 0.09538773 0.02584835]\n",
      "high : [0.09419101 0.06309479 0.0396586 ]\n",
      "along : [ 0.08413646  0.09380744 -0.02723572]\n",
      "wane : [0.1213734  0.08378988 0.01550134]\n",
      "could : [0.09334378 0.07567807 0.01184583]\n",
      "mountaintop : [ 0.09167376  0.13426517 -0.0129875 ]\n",
      "villagers : [0.06726675 0.12903535 0.01227911]\n",
      "reminded : [0.11369341 0.08845947 0.02622242]\n",
      "lush : [0.0956891  0.13353558 0.03783729]\n",
      "spell : [0.09542476 0.06396011 0.01190601]\n",
      "face : [ 0.10348248  0.08644357 -0.00393099]\n",
      "twinkle : [0.10985559 0.08084081 0.03435442]\n",
      "refused : [0.10159925 0.08696998 0.05024121]\n",
      "morning : [ 0.14054659  0.08950027 -0.00625745]\n",
      "village : [0.09235629 0.1258257  0.01104496]\n",
      "bravery : [ 0.10655524  0.10785409 -0.02986611]\n",
      "rid : [ 0.05484372  0.11356717 -0.02843075]\n",
      "performed : [0.09456215 0.11592352 0.02017947]\n",
      "defeat : [ 0.06264062  0.08399195 -0.00192379]\n",
      "palace : [ 0.08544943  0.11537603 -0.01360499]\n",
      "never : [0.0749405  0.06973627 0.03127678]\n",
      "graceful : [ 0.02568284  0.11105907 -0.00334867]\n",
      "inspired : [ 0.11896389  0.08751737 -0.0187735 ]\n",
      "hearts : [ 0.09141584  0.09017069 -0.01401396]\n",
      "king : [0.09448385 0.09580021 0.03910173]\n",
      "efforts : [0.08202311 0.11253215 0.00235555]\n",
      "hands : [ 0.10775854  0.09849687 -0.03285237]\n",
      "homes : [ 0.06890316  0.09503737 -0.00617177]\n",
      "embers : [ 0.10594006  0.10220063 -0.00278353]\n",
      "mountains : [0.11017659 0.08260816 0.0418513 ]\n",
      "huddled : [ 0.12922426  0.09822614 -0.00474256]\n",
      "phoenix : [0.05247929 0.10756915 0.01555426]\n",
      "fearsome : [ 0.07289741  0.11676942 -0.03632118]\n",
      "elusive : [0.11464094 0.11770557 0.03931133]\n",
      "challenges : [ 0.05828165  0.12224577 -0.00291409]\n",
      "overcame : [0.10537135 0.08330597 0.02238439]\n",
      "flower : [0.09709823 0.14594425 0.03219938]\n",
      "two : [ 0.08282228  0.13487537 -0.03392492]\n",
      "began : [0.07630415 0.09155834 0.01161376]\n",
      "months : [0.07908984 0.08220366 0.00674756]\n",
      "joy : [0.08934531 0.13744727 0.01061002]\n",
      "undeterred : [0.0825324  0.10752559 0.03459152]\n",
      "achieve : [0.06143629 0.11122464 0.01074838]\n",
      "help : [0.09709221 0.12074145 0.01166587]\n",
      "scouring : [0.04978092 0.11009455 0.03577821]\n",
      "even : [0.0542993  0.10690599 0.01819198]\n",
      "glory : [0.10147145 0.10775533 0.03669208]\n",
      "filled : [ 0.05302609  0.13339642 -0.02854224]\n",
      "compassion : [ 0.10520779  0.11650877 -0.02098307]\n",
      "hope : [0.08341148 0.11651368 0.04241072]\n",
      "autumn : [ 0.08353613  0.10914923 -0.05492796]\n",
      "behind : [ 0.08816112  0.09202144 -0.04186679]\n",
      "summit : [0.07102817 0.12899837 0.01560442]\n",
      "upon : [ 0.10355665  0.130163   -0.01683807]\n",
      "enchanted : [0.08621655 0.11063156 0.0289635 ]\n",
      "treacherous : [ 0.12165998  0.09846163 -0.00734415]\n",
      "stood : [0.08886978 0.08521058 0.02698968]\n",
      "unity : [ 0.11358695  0.12882197 -0.0119962 ]\n",
      "values : [0.02237116 0.11149277 0.02833441]\n",
      "together : [0.12396837 0.12053777 0.04468642]\n",
      "cliffs : [ 0.06061497  0.09899044 -0.02055783]\n",
      "trembling : [0.07138719 0.1434989  0.01758123]\n",
      "peak : [ 0.09514808  0.08102509 -0.01966618]\n",
      "determination : [0.09500676 0.08947016 0.00518255]\n",
      "moral : [ 0.06495611  0.1072157  -0.00996292]\n",
      "rare : [0.13226585 0.06531347 0.02219777]\n",
      "restore : [ 0.07971394  0.08380318 -0.00178475]\n",
      "curious : [0.03802206 0.1294134  0.01891668]\n",
      "landscapes : [0.07175646 0.08829237 0.00728532]\n",
      "daunting : [0.06932581 0.09915135 0.02921022]\n",
      "beloved : [0.04092912 0.13054591 0.0271688 ]\n",
      "tomes : [0.06374157 0.08135603 0.0172159 ]\n",
      "worry : [0.06920331 0.1185929  0.01355042]\n",
      "family : [ 0.07512918  0.10311764 -0.01218975]\n",
      "distress : [0.08780304 0.11427665 0.00533505]\n",
      "stumbled : [ 0.05220157  0.10065499 -0.00434343]\n",
      "spread : [ 0.06700177  0.13362168 -0.00230803]\n",
      "catch : [0.1145723  0.11904045 0.01585628]\n",
      "overcome : [ 0.09834553  0.08222327 -0.01628051]\n",
      "dragons : [ 0.1298299   0.07341799 -0.04701496]\n",
      "land : [ 0.06341982  0.1263353  -0.03643811]\n",
      "gratitude : [ 0.09609845  0.07429625 -0.03880854]\n",
      "crops : [ 0.09045625  0.09592525 -0.00027774]\n",
      "greatest : [ 0.05704251  0.14733979 -0.01148433]\n",
      "dragon : [ 0.0771001   0.09021219 -0.00687932]\n",
      "prosperity : [ 0.05836382  0.11824349 -0.04374805]\n",
      "working : [0.06089741 0.11930882 0.05103328]\n",
      "magical : [0.06078575 0.12471501 0.00069505]\n",
      "frederick : [0.08077359 0.1461256  0.00897891]\n",
      "waterfalls : [0.09559788 0.08421443 0.01226132]\n",
      "year : [0.09549692 0.1125594  0.03492256]\n",
      "feathers : [0.08497678 0.08633355 0.00969632]\n",
      "cause : [ 0.10372805  0.10346519 -0.03299901]\n",
      "threatening : [0.06509292 0.11999843 0.01529573]\n",
      "solution : [0.02181132 0.11715243 0.01270211]\n",
      "creatures : [ 0.07174526  0.09418448 -0.01215535]\n",
      "despair : [0.08049491 0.11388898 0.01377937]\n",
      "story : [0.05756052 0.12846534 0.04643007]\n",
      "way : [ 0.08583717  0.10164884 -0.00048578]\n",
      "incantation : [0.10187759 0.093619   0.05990743]\n",
      "ahead : [0.03897825 0.10215835 0.00727062]\n",
      "thundering : [0.08635644 0.11002412 0.0105234 ]\n",
      "children : [0.06177555 0.12877789 0.02498974]\n",
      "eleanor : [ 0.0667572   0.1062166  -0.03544165]\n",
      "journey : [0.05175537 0.12616244 0.0244482 ]\n",
      "blinding : [ 0.07688721  0.10881926 -0.01916259]\n",
      "remained : [0.08146814 0.11371621 0.03141986]\n",
      "hidden : [0.13173723 0.05966398 0.00978743]\n",
      "light : [0.08897015 0.11075935 0.03891989]\n",
      "grew : [0.04905868 0.15025295 0.02304662]\n",
      "knights : [0.09492858 0.12904349 0.01247157]\n",
      "unwavering : [0.0669146  0.15671165 0.0265278 ]\n",
      "powerful : [0.03815658 0.11561225 0.04068507]\n",
      "perilous : [0.10477486 0.09922444 0.0626562 ]\n",
      "fierce : [ 0.06452306  0.13825616 -0.00830113]\n",
      "terrorizing : [0.04420089 0.15583532 0.018449  ]\n",
      "rugged : [ 0.05918053  0.089485   -0.01767005]\n",
      "revealed : [0.09496774 0.11189085 0.00698062]\n",
      "give : [ 0.09359444  0.08350766 -0.02569741]\n",
      "old : [ 0.10927664  0.09075976 -0.01312378]\n",
      "majestic : [ 0.07375675  0.10612246 -0.01345414]\n",
      "stroll : [ 0.07224925  0.09150558 -0.01307543]\n",
      "advice : [0.10979255 0.08003696 0.04388012]\n",
      "life : [0.11407019 0.06711422 0.05825005]\n",
      "sky : [0.09507655 0.10738599 0.02355578]\n",
      "forest : [0.05314216 0.08441406 0.0316488 ]\n",
      "shimmering : [0.09286419 0.09367198 0.04175503]\n",
      "set : [ 0.0975339   0.10602095 -0.01681898]\n",
      "hues : [0.09173539 0.07023983 0.00587535]\n",
      "place : [ 0.04388203  0.11397894 -0.00673573]\n",
      "determined : [0.13329983 0.07173151 0.06700747]\n",
      "plucked : [0.09402921 0.12602744 0.06959882]\n",
      "losing : [ 0.11937903  0.10528991 -0.02408459]\n",
      "reigned : [ 0.09271623  0.08641941 -0.00504191]\n",
      "fears : [0.11257998 0.07221057 0.04372425]\n",
      "wings : [ 0.10516732  0.0890217  -0.00457323]\n",
      "sparkling : [0.08382032 0.11654946 0.05722246]\n",
      "nowhere : [0.05792357 0.092449   0.02555703]\n",
      "conquer : [ 0.08638556  0.11544231 -0.03222039]\n",
      "impossible : [0.05614226 0.1216165  0.00614336]\n",
      "came : [0.0726394  0.12607262 0.00343134]\n",
      "sages : [ 0.05361319  0.10423746 -0.01335264]\n",
      "nestled : [0.05685613 0.14964113 0.01304959]\n",
      "lay : [0.10105813 0.06811615 0.03297888]\n",
      "adversity : [ 0.04327081  0.11753818 -0.00232923]\n",
      "braving : [ 0.07450338  0.10036892 -0.00625306]\n",
      "gardens : [ 0.11797388  0.09179989 -0.01759503]\n"
     ]
    }
   ],
   "source": [
    "# Weights extraction and assignment of vectors\n",
    "weights = model.get_weights()[0]\n",
    "\n",
    "word_embedding_dict = {}\n",
    "\n",
    "for word in all_words:\n",
    "    word_embedding_dict[word] = weights[word_dict[word]]\n",
    "\n",
    "for word in all_words:\n",
    "    print(word , \":\" , word_embedding_dict[word])"
   ]
  },
  {
   "cell_type": "code",
   "execution_count": 24,
   "metadata": {},
   "outputs": [
    {
     "data": {
      "application/vnd.plotly.v1+json": {
       "config": {
        "plotlyServerURL": "https://plot.ly"
       },
       "data": [
        {
         "hovertemplate": "color=kingdom<br>x=%{x}<br>y=%{y}<br>z=%{z}<extra></extra>",
         "legendgroup": "kingdom",
         "marker": {
          "color": "#636efa",
          "symbol": "circle"
         },
         "mode": "markers",
         "name": "kingdom",
         "scene": "scene",
         "showlegend": true,
         "type": "scatter3d",
         "x": [
          0.06253276020288467
         ],
         "y": [
          0.09104203432798386
         ],
         "z": [
          0.01638776808977127
         ]
        },
        {
         "hovertemplate": "color=time<br>x=%{x}<br>y=%{y}<br>z=%{z}<extra></extra>",
         "legendgroup": "time",
         "marker": {
          "color": "#EF553B",
          "symbol": "circle"
         },
         "mode": "markers",
         "name": "time",
         "scene": "scene",
         "showlegend": true,
         "type": "scatter3d",
         "x": [
          0.09804442524909973
         ],
         "y": [
          0.07259950041770935
         ],
         "z": [
          -0.0035948501899838448
         ]
        },
        {
         "hovertemplate": "color=harmony<br>x=%{x}<br>y=%{y}<br>z=%{z}<extra></extra>",
         "legendgroup": "harmony",
         "marker": {
          "color": "#00cc96",
          "symbol": "circle"
         },
         "mode": "markers",
         "name": "harmony",
         "scene": "scene",
         "showlegend": true,
         "type": "scatter3d",
         "x": [
          0.12324685603380203
         ],
         "y": [
          0.07697757333517075
         ],
         "z": [
          0.01940867304801941
         ]
        },
        {
         "hovertemplate": "color=rulers<br>x=%{x}<br>y=%{y}<br>z=%{z}<extra></extra>",
         "legendgroup": "rulers",
         "marker": {
          "color": "#ab63fa",
          "symbol": "circle"
         },
         "mode": "markers",
         "name": "rulers",
         "scene": "scene",
         "showlegend": true,
         "type": "scatter3d",
         "x": [
          0.059103287756443024
         ],
         "y": [
          0.07811357825994492
         ],
         "z": [
          -0.015667913481593132
         ]
        },
        {
         "hovertemplate": "color=heart<br>x=%{x}<br>y=%{y}<br>z=%{z}<extra></extra>",
         "legendgroup": "heart",
         "marker": {
          "color": "#FFA15A",
          "symbol": "circle"
         },
         "mode": "markers",
         "name": "heart",
         "scene": "scene",
         "showlegend": true,
         "type": "scatter3d",
         "x": [
          0.0765739306807518
         ],
         "y": [
          0.13748569786548615
         ],
         "z": [
          -0.043986786156892776
         ]
        },
        {
         "hovertemplate": "color=sword<br>x=%{x}<br>y=%{y}<br>z=%{z}<extra></extra>",
         "legendgroup": "sword",
         "marker": {
          "color": "#19d3f3",
          "symbol": "circle"
         },
         "mode": "markers",
         "name": "sword",
         "scene": "scene",
         "showlegend": true,
         "type": "scatter3d",
         "x": [
          0.07890083640813828
         ],
         "y": [
          0.14340895414352417
         ],
         "z": [
          -0.026292914524674416
         ]
        },
        {
         "hovertemplate": "color=approached<br>x=%{x}<br>y=%{y}<br>z=%{z}<extra></extra>",
         "legendgroup": "approached",
         "marker": {
          "color": "#FF6692",
          "symbol": "circle"
         },
         "mode": "markers",
         "name": "approached",
         "scene": "scene",
         "showlegend": true,
         "type": "scatter3d",
         "x": [
          0.07088641822338104
         ],
         "y": [
          0.11293675005435944
         ],
         "z": [
          -0.031128618866205215
         ]
        },
        {
         "hovertemplate": "color=guided<br>x=%{x}<br>y=%{y}<br>z=%{z}<extra></extra>",
         "legendgroup": "guided",
         "marker": {
          "color": "#B6E880",
          "symbol": "circle"
         },
         "mode": "markers",
         "name": "guided",
         "scene": "scene",
         "showlegend": true,
         "type": "scatter3d",
         "x": [
          0.08552398532629013
         ],
         "y": [
          0.12237510830163956
         ],
         "z": [
          -0.00842993799597025
         ]
        },
        {
         "hovertemplate": "color=turned<br>x=%{x}<br>y=%{y}<br>z=%{z}<extra></extra>",
         "legendgroup": "turned",
         "marker": {
          "color": "#FF97FF",
          "symbol": "circle"
         },
         "mode": "markers",
         "name": "turned",
         "scene": "scene",
         "showlegend": true,
         "type": "scatter3d",
         "x": [
          0.06498550623655319
         ],
         "y": [
          0.1243847981095314
         ],
         "z": [
          0.0007128867437131703
         ]
        },
        {
         "hovertemplate": "color=continued<br>x=%{x}<br>y=%{y}<br>z=%{z}<extra></extra>",
         "legendgroup": "continued",
         "marker": {
          "color": "#FECB52",
          "symbol": "circle"
         },
         "mode": "markers",
         "name": "continued",
         "scene": "scene",
         "showlegend": true,
         "type": "scatter3d",
         "x": [
          0.0672137513756752
         ],
         "y": [
          0.145833820104599
         ],
         "z": [
          0.0341956652700901
         ]
        },
        {
         "hovertemplate": "color=one<br>x=%{x}<br>y=%{y}<br>z=%{z}<extra></extra>",
         "legendgroup": "one",
         "marker": {
          "color": "#636efa",
          "symbol": "circle"
         },
         "mode": "markers",
         "name": "one",
         "scene": "scene",
         "showlegend": true,
         "type": "scatter3d",
         "x": [
          0.13008491694927216
         ],
         "y": [
          0.0620918907225132
         ],
         "z": [
          0.014611915685236454
         ]
        },
        {
         "hovertemplate": "color=however<br>x=%{x}<br>y=%{y}<br>z=%{z}<extra></extra>",
         "legendgroup": "however",
         "marker": {
          "color": "#EF553B",
          "symbol": "circle"
         },
         "mode": "markers",
         "name": "however",
         "scene": "scene",
         "showlegend": true,
         "type": "scatter3d",
         "x": [
          0.08834700286388397
         ],
         "y": [
          0.14923489093780518
         ],
         "z": [
          -0.03374641388654709
         ]
        },
        {
         "hovertemplate": "color=required<br>x=%{x}<br>y=%{y}<br>z=%{z}<extra></extra>",
         "legendgroup": "required",
         "marker": {
          "color": "#00cc96",
          "symbol": "circle"
         },
         "mode": "markers",
         "name": "required",
         "scene": "scene",
         "showlegend": true,
         "type": "scatter3d",
         "x": [
          0.05124058946967125
         ],
         "y": [
          0.13445493578910828
         ],
         "z": [
          0.031139055266976357
         ]
        },
        {
         "hovertemplate": "color=obstacle<br>x=%{x}<br>y=%{y}<br>z=%{z}<extra></extra>",
         "legendgroup": "obstacle",
         "marker": {
          "color": "#ab63fa",
          "symbol": "circle"
         },
         "mode": "markers",
         "name": "obstacle",
         "scene": "scene",
         "showlegend": true,
         "type": "scatter3d",
         "x": [
          0.07921881228685379
         ],
         "y": [
          0.10127381235361099
         ],
         "z": [
          0.023721769452095032
         ]
        },
        {
         "hovertemplate": "color=queen<br>x=%{x}<br>y=%{y}<br>z=%{z}<extra></extra>",
         "legendgroup": "queen",
         "marker": {
          "color": "#FFA15A",
          "symbol": "circle"
         },
         "mode": "markers",
         "name": "queen",
         "scene": "scene",
         "showlegend": true,
         "type": "scatter3d",
         "x": [
          0.06958562880754471
         ],
         "y": [
          0.10831880569458008
         ],
         "z": [
          0.02178875356912613
         ]
        },
        {
         "hovertemplate": "color=often<br>x=%{x}<br>y=%{y}<br>z=%{z}<extra></extra>",
         "legendgroup": "often",
         "marker": {
          "color": "#19d3f3",
          "symbol": "circle"
         },
         "mode": "markers",
         "name": "often",
         "scene": "scene",
         "showlegend": true,
         "type": "scatter3d",
         "x": [
          0.048692021518945694
         ],
         "y": [
          0.08407195657491684
         ],
         "z": [
          0.07694152742624283
         ]
        },
        {
         "hovertemplate": "color=stars<br>x=%{x}<br>y=%{y}<br>z=%{z}<extra></extra>",
         "legendgroup": "stars",
         "marker": {
          "color": "#FF6692",
          "symbol": "circle"
         },
         "mode": "markers",
         "name": "stars",
         "scene": "scene",
         "showlegend": true,
         "type": "scatter3d",
         "x": [
          0.0904398113489151
         ],
         "y": [
          0.08400246500968933
         ],
         "z": [
          -0.022302323952317238
         ]
        },
        {
         "hovertemplate": "color=princess<br>x=%{x}<br>y=%{y}<br>z=%{z}<extra></extra>",
         "legendgroup": "princess",
         "marker": {
          "color": "#B6E880",
          "symbol": "circle"
         },
         "mode": "markers",
         "name": "princess",
         "scene": "scene",
         "showlegend": true,
         "type": "scatter3d",
         "x": [
          0.09770408272743225
         ],
         "y": [
          0.0656697079539299
         ],
         "z": [
          0.027364617213606834
         ]
        },
        {
         "hovertemplate": "color=journeyed<br>x=%{x}<br>y=%{y}<br>z=%{z}<extra></extra>",
         "legendgroup": "journeyed",
         "marker": {
          "color": "#FF97FF",
          "symbol": "circle"
         },
         "mode": "markers",
         "name": "journeyed",
         "scene": "scene",
         "showlegend": true,
         "type": "scatter3d",
         "x": [
          0.05708234757184982
         ],
         "y": [
          0.15414217114448547
         ],
         "z": [
          -0.013598733581602573
         ]
        },
        {
         "hovertemplate": "color=amelia<br>x=%{x}<br>y=%{y}<br>z=%{z}<extra></extra>",
         "legendgroup": "amelia",
         "marker": {
          "color": "#FECB52",
          "symbol": "circle"
         },
         "mode": "markers",
         "name": "amelia",
         "scene": "scene",
         "showlegend": true,
         "type": "scatter3d",
         "x": [
          0.09143390506505966
         ],
         "y": [
          0.10440164059400558
         ],
         "z": [
          0.03367152437567711
         ]
        },
        {
         "hovertemplate": "color=weeks<br>x=%{x}<br>y=%{y}<br>z=%{z}<extra></extra>",
         "legendgroup": "weeks",
         "marker": {
          "color": "#636efa",
          "symbol": "circle"
         },
         "mode": "markers",
         "name": "weeks",
         "scene": "scene",
         "showlegend": true,
         "type": "scatter3d",
         "x": [
          0.040183570235967636
         ],
         "y": [
          0.13976167142391205
         ],
         "z": [
          0.02184980921447277
         ]
        },
        {
         "hovertemplate": "color=lies<br>x=%{x}<br>y=%{y}<br>z=%{z}<extra></extra>",
         "legendgroup": "lies",
         "marker": {
          "color": "#EF553B",
          "symbol": "circle"
         },
         "mode": "markers",
         "name": "lies",
         "scene": "scene",
         "showlegend": true,
         "type": "scatter3d",
         "x": [
          0.12235840409994125
         ],
         "y": [
          0.08415386825799942
         ],
         "z": [
          0.018146585673093796
         ]
        },
        {
         "hovertemplate": "color=thrive<br>x=%{x}<br>y=%{y}<br>z=%{z}<extra></extra>",
         "legendgroup": "thrive",
         "marker": {
          "color": "#00cc96",
          "symbol": "circle"
         },
         "mode": "markers",
         "name": "thrive",
         "scene": "scene",
         "showlegend": true,
         "type": "scatter3d",
         "x": [
          0.11491701751947403
         ],
         "y": [
          0.09614258259534836
         ],
         "z": [
          0.04185591638088226
         ]
        },
        {
         "hovertemplate": "color=joyous<br>x=%{x}<br>y=%{y}<br>z=%{z}<extra></extra>",
         "legendgroup": "joyous",
         "marker": {
          "color": "#ab63fa",
          "symbol": "circle"
         },
         "mode": "markers",
         "name": "joyous",
         "scene": "scene",
         "showlegend": true,
         "type": "scatter3d",
         "x": [
          0.05950357764959335
         ],
         "y": [
          0.12013218551874161
         ],
         "z": [
          0.019533153623342514
         ]
        },
        {
         "hovertemplate": "color=leisurely<br>x=%{x}<br>y=%{y}<br>z=%{z}<extra></extra>",
         "legendgroup": "leisurely",
         "marker": {
          "color": "#FFA15A",
          "symbol": "circle"
         },
         "mode": "markers",
         "name": "leisurely",
         "scene": "scene",
         "showlegend": true,
         "type": "scatter3d",
         "x": [
          0.05824071168899536
         ],
         "y": [
          0.11345741897821426
         ],
         "z": [
          0.0031353626400232315
         ]
        },
        {
         "hovertemplate": "color=wise<br>x=%{x}<br>y=%{y}<br>z=%{z}<extra></extra>",
         "legendgroup": "wise",
         "marker": {
          "color": "#19d3f3",
          "symbol": "circle"
         },
         "mode": "markers",
         "name": "wise",
         "scene": "scene",
         "showlegend": true,
         "type": "scatter3d",
         "x": [
          0.08802388608455658
         ],
         "y": [
          0.13074667751789093
         ],
         "z": [
          -0.015335463918745518
         ]
        },
        {
         "hovertemplate": "color=ancient<br>x=%{x}<br>y=%{y}<br>z=%{z}<extra></extra>",
         "legendgroup": "ancient",
         "marker": {
          "color": "#FF6692",
          "symbol": "circle"
         },
         "mode": "markers",
         "name": "ancient",
         "scene": "scene",
         "showlegend": true,
         "type": "scatter3d",
         "x": [
          0.10177989304065704
         ],
         "y": [
          0.1132388710975647
         ],
         "z": [
          0.002766234800219536
         ]
        },
        {
         "hovertemplate": "color=embarked<br>x=%{x}<br>y=%{y}<br>z=%{z}<extra></extra>",
         "legendgroup": "embarked",
         "marker": {
          "color": "#B6E880",
          "symbol": "circle"
         },
         "mode": "markers",
         "name": "embarked",
         "scene": "scene",
         "showlegend": true,
         "type": "scatter3d",
         "x": [
          0.0888417437672615
         ],
         "y": [
          0.10036694258451462
         ],
         "z": [
          -0.08057887852191925
         ]
        },
        {
         "hovertemplate": "color=etched<br>x=%{x}<br>y=%{y}<br>z=%{z}<extra></extra>",
         "legendgroup": "etched",
         "marker": {
          "color": "#FF97FF",
          "symbol": "circle"
         },
         "mode": "markers",
         "name": "etched",
         "scene": "scene",
         "showlegend": true,
         "type": "scatter3d",
         "x": [
          0.08323011547327042
         ],
         "y": [
          0.08030543476343155
         ],
         "z": [
          0.013054002076387405
         ]
        },
        {
         "hovertemplate": "color=vanquish<br>x=%{x}<br>y=%{y}<br>z=%{z}<extra></extra>",
         "legendgroup": "vanquish",
         "marker": {
          "color": "#FECB52",
          "symbol": "circle"
         },
         "mode": "markers",
         "name": "vanquish",
         "scene": "scene",
         "showlegend": true,
         "type": "scatter3d",
         "x": [
          0.08937434107065201
         ],
         "y": [
          0.1067940890789032
         ],
         "z": [
          -0.01859920844435692
         ]
        },
        {
         "hovertemplate": "color=courage<br>x=%{x}<br>y=%{y}<br>z=%{z}<extra></extra>",
         "legendgroup": "courage",
         "marker": {
          "color": "#636efa",
          "symbol": "circle"
         },
         "mode": "markers",
         "name": "courage",
         "scene": "scene",
         "showlegend": true,
         "type": "scatter3d",
         "x": [
          0.08499128371477127
         ],
         "y": [
          0.09915182739496231
         ],
         "z": [
          0.005274567753076553
         ]
        },
        {
         "hovertemplate": "color=wizard<br>x=%{x}<br>y=%{y}<br>z=%{z}<extra></extra>",
         "legendgroup": "wizard",
         "marker": {
          "color": "#EF553B",
          "symbol": "circle"
         },
         "mode": "markers",
         "name": "wizard",
         "scene": "scene",
         "showlegend": true,
         "type": "scatter3d",
         "x": [
          0.0640130490064621
         ],
         "y": [
          0.11993163824081421
         ],
         "z": [
          0.013665933161973953
         ]
        },
        {
         "hovertemplate": "color=reached<br>x=%{x}<br>y=%{y}<br>z=%{z}<extra></extra>",
         "legendgroup": "reached",
         "marker": {
          "color": "#00cc96",
          "symbol": "circle"
         },
         "mode": "markers",
         "name": "reached",
         "scene": "scene",
         "showlegend": true,
         "type": "scatter3d",
         "x": [
          0.1311681717634201
         ],
         "y": [
          0.08058127015829086
         ],
         "z": [
          -0.025043079629540443
         ]
        },
        {
         "hovertemplate": "color=sweep<br>x=%{x}<br>y=%{y}<br>z=%{z}<extra></extra>",
         "legendgroup": "sweep",
         "marker": {
          "color": "#ab63fa",
          "symbol": "circle"
         },
         "mode": "markers",
         "name": "sweep",
         "scene": "scene",
         "showlegend": true,
         "type": "scatter3d",
         "x": [
          0.08439289778470993
         ],
         "y": [
          0.11743610352277756
         ],
         "z": [
          0.0020085943397134542
         ]
        },
        {
         "hovertemplate": "color=true<br>x=%{x}<br>y=%{y}<br>z=%{z}<extra></extra>",
         "legendgroup": "true",
         "marker": {
          "color": "#FFA15A",
          "symbol": "circle"
         },
         "mode": "markers",
         "name": "true",
         "scene": "scene",
         "showlegend": true,
         "type": "scatter3d",
         "x": [
          0.0668090209364891
         ],
         "y": [
          0.12319867312908173
         ],
         "z": [
          0.007397396955639124
         ]
        },
        {
         "hovertemplate": "color=atop<br>x=%{x}<br>y=%{y}<br>z=%{z}<extra></extra>",
         "legendgroup": "atop",
         "marker": {
          "color": "#19d3f3",
          "symbol": "circle"
         },
         "mode": "markers",
         "name": "atop",
         "scene": "scene",
         "showlegend": true,
         "type": "scatter3d",
         "x": [
          0.06964805722236633
         ],
         "y": [
          0.15724363923072815
         ],
         "z": [
          -0.0038525399286299944
         ]
        },
        {
         "hovertemplate": "color=peace<br>x=%{x}<br>y=%{y}<br>z=%{z}<extra></extra>",
         "legendgroup": "peace",
         "marker": {
          "color": "#FF6692",
          "symbol": "circle"
         },
         "mode": "markers",
         "name": "peace",
         "scene": "scene",
         "showlegend": true,
         "type": "scatter3d",
         "x": [
          0.06171390786767006
         ],
         "y": [
          0.1361929327249527
         ],
         "z": [
          -0.007447628304362297
         ]
        },
        {
         "hovertemplate": "color=tested<br>x=%{x}<br>y=%{y}<br>z=%{z}<extra></extra>",
         "legendgroup": "tested",
         "marker": {
          "color": "#B6E880",
          "symbol": "circle"
         },
         "mode": "markers",
         "name": "tested",
         "scene": "scene",
         "showlegend": true,
         "type": "scatter3d",
         "x": [
          0.0625113993883133
         ],
         "y": [
          0.08511948585510254
         ],
         "z": [
          0.004208801314234734
         ]
        },
        {
         "hovertemplate": "color=consulting<br>x=%{x}<br>y=%{y}<br>z=%{z}<extra></extra>",
         "legendgroup": "consulting",
         "marker": {
          "color": "#FF97FF",
          "symbol": "circle"
         },
         "mode": "markers",
         "name": "consulting",
         "scene": "scene",
         "showlegend": true,
         "type": "scatter3d",
         "x": [
          0.13401971757411957
         ],
         "y": [
          0.0910186618566513
         ],
         "z": [
          0.00803788099437952
         ]
        },
        {
         "hovertemplate": "color=erupted<br>x=%{x}<br>y=%{y}<br>z=%{z}<extra></extra>",
         "legendgroup": "erupted",
         "marker": {
          "color": "#FECB52",
          "symbol": "circle"
         },
         "mode": "markers",
         "name": "erupted",
         "scene": "scene",
         "showlegend": true,
         "type": "scatter3d",
         "x": [
          0.047730278223752975
         ],
         "y": [
          0.10139346122741699
         ],
         "z": [
          0.008968869224190712
         ]
        },
        {
         "hovertemplate": "color=celebration<br>x=%{x}<br>y=%{y}<br>z=%{z}<extra></extra>",
         "legendgroup": "celebration",
         "marker": {
          "color": "#636efa",
          "symbol": "circle"
         },
         "mode": "markers",
         "name": "celebration",
         "scene": "scene",
         "showlegend": true,
         "type": "scatter3d",
         "x": [
          0.10195659101009369
         ],
         "y": [
          0.09538772702217102
         ],
         "z": [
          0.025848347693681717
         ]
        },
        {
         "hovertemplate": "color=high<br>x=%{x}<br>y=%{y}<br>z=%{z}<extra></extra>",
         "legendgroup": "high",
         "marker": {
          "color": "#EF553B",
          "symbol": "circle"
         },
         "mode": "markers",
         "name": "high",
         "scene": "scene",
         "showlegend": true,
         "type": "scatter3d",
         "x": [
          0.09419101476669312
         ],
         "y": [
          0.06309478729963303
         ],
         "z": [
          0.03965860232710838
         ]
        },
        {
         "hovertemplate": "color=along<br>x=%{x}<br>y=%{y}<br>z=%{z}<extra></extra>",
         "legendgroup": "along",
         "marker": {
          "color": "#00cc96",
          "symbol": "circle"
         },
         "mode": "markers",
         "name": "along",
         "scene": "scene",
         "showlegend": true,
         "type": "scatter3d",
         "x": [
          0.084136463701725
         ],
         "y": [
          0.09380744397640228
         ],
         "z": [
          -0.027235718443989754
         ]
        },
        {
         "hovertemplate": "color=wane<br>x=%{x}<br>y=%{y}<br>z=%{z}<extra></extra>",
         "legendgroup": "wane",
         "marker": {
          "color": "#ab63fa",
          "symbol": "circle"
         },
         "mode": "markers",
         "name": "wane",
         "scene": "scene",
         "showlegend": true,
         "type": "scatter3d",
         "x": [
          0.12137340009212494
         ],
         "y": [
          0.0837898775935173
         ],
         "z": [
          0.015501337125897408
         ]
        },
        {
         "hovertemplate": "color=could<br>x=%{x}<br>y=%{y}<br>z=%{z}<extra></extra>",
         "legendgroup": "could",
         "marker": {
          "color": "#FFA15A",
          "symbol": "circle"
         },
         "mode": "markers",
         "name": "could",
         "scene": "scene",
         "showlegend": true,
         "type": "scatter3d",
         "x": [
          0.09334377944469452
         ],
         "y": [
          0.07567806541919708
         ],
         "z": [
          0.011845830827951431
         ]
        },
        {
         "hovertemplate": "color=mountaintop<br>x=%{x}<br>y=%{y}<br>z=%{z}<extra></extra>",
         "legendgroup": "mountaintop",
         "marker": {
          "color": "#19d3f3",
          "symbol": "circle"
         },
         "mode": "markers",
         "name": "mountaintop",
         "scene": "scene",
         "showlegend": true,
         "type": "scatter3d",
         "x": [
          0.09167376160621643
         ],
         "y": [
          0.13426516950130463
         ],
         "z": [
          -0.012987497262656689
         ]
        },
        {
         "hovertemplate": "color=villagers<br>x=%{x}<br>y=%{y}<br>z=%{z}<extra></extra>",
         "legendgroup": "villagers",
         "marker": {
          "color": "#FF6692",
          "symbol": "circle"
         },
         "mode": "markers",
         "name": "villagers",
         "scene": "scene",
         "showlegend": true,
         "type": "scatter3d",
         "x": [
          0.06726674735546112
         ],
         "y": [
          0.1290353536605835
         ],
         "z": [
          0.01227911002933979
         ]
        },
        {
         "hovertemplate": "color=reminded<br>x=%{x}<br>y=%{y}<br>z=%{z}<extra></extra>",
         "legendgroup": "reminded",
         "marker": {
          "color": "#B6E880",
          "symbol": "circle"
         },
         "mode": "markers",
         "name": "reminded",
         "scene": "scene",
         "showlegend": true,
         "type": "scatter3d",
         "x": [
          0.11369340866804123
         ],
         "y": [
          0.08845946937799454
         ],
         "z": [
          0.02622242458164692
         ]
        },
        {
         "hovertemplate": "color=lush<br>x=%{x}<br>y=%{y}<br>z=%{z}<extra></extra>",
         "legendgroup": "lush",
         "marker": {
          "color": "#FF97FF",
          "symbol": "circle"
         },
         "mode": "markers",
         "name": "lush",
         "scene": "scene",
         "showlegend": true,
         "type": "scatter3d",
         "x": [
          0.09568909555673599
         ],
         "y": [
          0.13353557884693146
         ],
         "z": [
          0.03783728554844856
         ]
        },
        {
         "hovertemplate": "color=spell<br>x=%{x}<br>y=%{y}<br>z=%{z}<extra></extra>",
         "legendgroup": "spell",
         "marker": {
          "color": "#FECB52",
          "symbol": "circle"
         },
         "mode": "markers",
         "name": "spell",
         "scene": "scene",
         "showlegend": true,
         "type": "scatter3d",
         "x": [
          0.09542475640773773
         ],
         "y": [
          0.06396011263132095
         ],
         "z": [
          0.011906005442142487
         ]
        }
       ],
       "layout": {
        "legend": {
         "title": {
          "text": "color"
         },
         "tracegroupgap": 0
        },
        "margin": {
         "t": 60
        },
        "scene": {
         "domain": {
          "x": [
           0,
           1
          ],
          "y": [
           0,
           1
          ]
         },
         "xaxis": {
          "title": {
           "text": "x"
          }
         },
         "yaxis": {
          "title": {
           "text": "y"
          }
         },
         "zaxis": {
          "title": {
           "text": "z"
          }
         }
        },
        "template": {
         "data": {
          "bar": [
           {
            "error_x": {
             "color": "#2a3f5f"
            },
            "error_y": {
             "color": "#2a3f5f"
            },
            "marker": {
             "line": {
              "color": "#E5ECF6",
              "width": 0.5
             },
             "pattern": {
              "fillmode": "overlay",
              "size": 10,
              "solidity": 0.2
             }
            },
            "type": "bar"
           }
          ],
          "barpolar": [
           {
            "marker": {
             "line": {
              "color": "#E5ECF6",
              "width": 0.5
             },
             "pattern": {
              "fillmode": "overlay",
              "size": 10,
              "solidity": 0.2
             }
            },
            "type": "barpolar"
           }
          ],
          "carpet": [
           {
            "aaxis": {
             "endlinecolor": "#2a3f5f",
             "gridcolor": "white",
             "linecolor": "white",
             "minorgridcolor": "white",
             "startlinecolor": "#2a3f5f"
            },
            "baxis": {
             "endlinecolor": "#2a3f5f",
             "gridcolor": "white",
             "linecolor": "white",
             "minorgridcolor": "white",
             "startlinecolor": "#2a3f5f"
            },
            "type": "carpet"
           }
          ],
          "choropleth": [
           {
            "colorbar": {
             "outlinewidth": 0,
             "ticks": ""
            },
            "type": "choropleth"
           }
          ],
          "contour": [
           {
            "colorbar": {
             "outlinewidth": 0,
             "ticks": ""
            },
            "colorscale": [
             [
              0,
              "#0d0887"
             ],
             [
              0.1111111111111111,
              "#46039f"
             ],
             [
              0.2222222222222222,
              "#7201a8"
             ],
             [
              0.3333333333333333,
              "#9c179e"
             ],
             [
              0.4444444444444444,
              "#bd3786"
             ],
             [
              0.5555555555555556,
              "#d8576b"
             ],
             [
              0.6666666666666666,
              "#ed7953"
             ],
             [
              0.7777777777777778,
              "#fb9f3a"
             ],
             [
              0.8888888888888888,
              "#fdca26"
             ],
             [
              1,
              "#f0f921"
             ]
            ],
            "type": "contour"
           }
          ],
          "contourcarpet": [
           {
            "colorbar": {
             "outlinewidth": 0,
             "ticks": ""
            },
            "type": "contourcarpet"
           }
          ],
          "heatmap": [
           {
            "colorbar": {
             "outlinewidth": 0,
             "ticks": ""
            },
            "colorscale": [
             [
              0,
              "#0d0887"
             ],
             [
              0.1111111111111111,
              "#46039f"
             ],
             [
              0.2222222222222222,
              "#7201a8"
             ],
             [
              0.3333333333333333,
              "#9c179e"
             ],
             [
              0.4444444444444444,
              "#bd3786"
             ],
             [
              0.5555555555555556,
              "#d8576b"
             ],
             [
              0.6666666666666666,
              "#ed7953"
             ],
             [
              0.7777777777777778,
              "#fb9f3a"
             ],
             [
              0.8888888888888888,
              "#fdca26"
             ],
             [
              1,
              "#f0f921"
             ]
            ],
            "type": "heatmap"
           }
          ],
          "heatmapgl": [
           {
            "colorbar": {
             "outlinewidth": 0,
             "ticks": ""
            },
            "colorscale": [
             [
              0,
              "#0d0887"
             ],
             [
              0.1111111111111111,
              "#46039f"
             ],
             [
              0.2222222222222222,
              "#7201a8"
             ],
             [
              0.3333333333333333,
              "#9c179e"
             ],
             [
              0.4444444444444444,
              "#bd3786"
             ],
             [
              0.5555555555555556,
              "#d8576b"
             ],
             [
              0.6666666666666666,
              "#ed7953"
             ],
             [
              0.7777777777777778,
              "#fb9f3a"
             ],
             [
              0.8888888888888888,
              "#fdca26"
             ],
             [
              1,
              "#f0f921"
             ]
            ],
            "type": "heatmapgl"
           }
          ],
          "histogram": [
           {
            "marker": {
             "pattern": {
              "fillmode": "overlay",
              "size": 10,
              "solidity": 0.2
             }
            },
            "type": "histogram"
           }
          ],
          "histogram2d": [
           {
            "colorbar": {
             "outlinewidth": 0,
             "ticks": ""
            },
            "colorscale": [
             [
              0,
              "#0d0887"
             ],
             [
              0.1111111111111111,
              "#46039f"
             ],
             [
              0.2222222222222222,
              "#7201a8"
             ],
             [
              0.3333333333333333,
              "#9c179e"
             ],
             [
              0.4444444444444444,
              "#bd3786"
             ],
             [
              0.5555555555555556,
              "#d8576b"
             ],
             [
              0.6666666666666666,
              "#ed7953"
             ],
             [
              0.7777777777777778,
              "#fb9f3a"
             ],
             [
              0.8888888888888888,
              "#fdca26"
             ],
             [
              1,
              "#f0f921"
             ]
            ],
            "type": "histogram2d"
           }
          ],
          "histogram2dcontour": [
           {
            "colorbar": {
             "outlinewidth": 0,
             "ticks": ""
            },
            "colorscale": [
             [
              0,
              "#0d0887"
             ],
             [
              0.1111111111111111,
              "#46039f"
             ],
             [
              0.2222222222222222,
              "#7201a8"
             ],
             [
              0.3333333333333333,
              "#9c179e"
             ],
             [
              0.4444444444444444,
              "#bd3786"
             ],
             [
              0.5555555555555556,
              "#d8576b"
             ],
             [
              0.6666666666666666,
              "#ed7953"
             ],
             [
              0.7777777777777778,
              "#fb9f3a"
             ],
             [
              0.8888888888888888,
              "#fdca26"
             ],
             [
              1,
              "#f0f921"
             ]
            ],
            "type": "histogram2dcontour"
           }
          ],
          "mesh3d": [
           {
            "colorbar": {
             "outlinewidth": 0,
             "ticks": ""
            },
            "type": "mesh3d"
           }
          ],
          "parcoords": [
           {
            "line": {
             "colorbar": {
              "outlinewidth": 0,
              "ticks": ""
             }
            },
            "type": "parcoords"
           }
          ],
          "pie": [
           {
            "automargin": true,
            "type": "pie"
           }
          ],
          "scatter": [
           {
            "fillpattern": {
             "fillmode": "overlay",
             "size": 10,
             "solidity": 0.2
            },
            "type": "scatter"
           }
          ],
          "scatter3d": [
           {
            "line": {
             "colorbar": {
              "outlinewidth": 0,
              "ticks": ""
             }
            },
            "marker": {
             "colorbar": {
              "outlinewidth": 0,
              "ticks": ""
             }
            },
            "type": "scatter3d"
           }
          ],
          "scattercarpet": [
           {
            "marker": {
             "colorbar": {
              "outlinewidth": 0,
              "ticks": ""
             }
            },
            "type": "scattercarpet"
           }
          ],
          "scattergeo": [
           {
            "marker": {
             "colorbar": {
              "outlinewidth": 0,
              "ticks": ""
             }
            },
            "type": "scattergeo"
           }
          ],
          "scattergl": [
           {
            "marker": {
             "colorbar": {
              "outlinewidth": 0,
              "ticks": ""
             }
            },
            "type": "scattergl"
           }
          ],
          "scattermapbox": [
           {
            "marker": {
             "colorbar": {
              "outlinewidth": 0,
              "ticks": ""
             }
            },
            "type": "scattermapbox"
           }
          ],
          "scatterpolar": [
           {
            "marker": {
             "colorbar": {
              "outlinewidth": 0,
              "ticks": ""
             }
            },
            "type": "scatterpolar"
           }
          ],
          "scatterpolargl": [
           {
            "marker": {
             "colorbar": {
              "outlinewidth": 0,
              "ticks": ""
             }
            },
            "type": "scatterpolargl"
           }
          ],
          "scatterternary": [
           {
            "marker": {
             "colorbar": {
              "outlinewidth": 0,
              "ticks": ""
             }
            },
            "type": "scatterternary"
           }
          ],
          "surface": [
           {
            "colorbar": {
             "outlinewidth": 0,
             "ticks": ""
            },
            "colorscale": [
             [
              0,
              "#0d0887"
             ],
             [
              0.1111111111111111,
              "#46039f"
             ],
             [
              0.2222222222222222,
              "#7201a8"
             ],
             [
              0.3333333333333333,
              "#9c179e"
             ],
             [
              0.4444444444444444,
              "#bd3786"
             ],
             [
              0.5555555555555556,
              "#d8576b"
             ],
             [
              0.6666666666666666,
              "#ed7953"
             ],
             [
              0.7777777777777778,
              "#fb9f3a"
             ],
             [
              0.8888888888888888,
              "#fdca26"
             ],
             [
              1,
              "#f0f921"
             ]
            ],
            "type": "surface"
           }
          ],
          "table": [
           {
            "cells": {
             "fill": {
              "color": "#EBF0F8"
             },
             "line": {
              "color": "white"
             }
            },
            "header": {
             "fill": {
              "color": "#C8D4E3"
             },
             "line": {
              "color": "white"
             }
            },
            "type": "table"
           }
          ]
         },
         "layout": {
          "annotationdefaults": {
           "arrowcolor": "#2a3f5f",
           "arrowhead": 0,
           "arrowwidth": 1
          },
          "autotypenumbers": "strict",
          "coloraxis": {
           "colorbar": {
            "outlinewidth": 0,
            "ticks": ""
           }
          },
          "colorscale": {
           "diverging": [
            [
             0,
             "#8e0152"
            ],
            [
             0.1,
             "#c51b7d"
            ],
            [
             0.2,
             "#de77ae"
            ],
            [
             0.3,
             "#f1b6da"
            ],
            [
             0.4,
             "#fde0ef"
            ],
            [
             0.5,
             "#f7f7f7"
            ],
            [
             0.6,
             "#e6f5d0"
            ],
            [
             0.7,
             "#b8e186"
            ],
            [
             0.8,
             "#7fbc41"
            ],
            [
             0.9,
             "#4d9221"
            ],
            [
             1,
             "#276419"
            ]
           ],
           "sequential": [
            [
             0,
             "#0d0887"
            ],
            [
             0.1111111111111111,
             "#46039f"
            ],
            [
             0.2222222222222222,
             "#7201a8"
            ],
            [
             0.3333333333333333,
             "#9c179e"
            ],
            [
             0.4444444444444444,
             "#bd3786"
            ],
            [
             0.5555555555555556,
             "#d8576b"
            ],
            [
             0.6666666666666666,
             "#ed7953"
            ],
            [
             0.7777777777777778,
             "#fb9f3a"
            ],
            [
             0.8888888888888888,
             "#fdca26"
            ],
            [
             1,
             "#f0f921"
            ]
           ],
           "sequentialminus": [
            [
             0,
             "#0d0887"
            ],
            [
             0.1111111111111111,
             "#46039f"
            ],
            [
             0.2222222222222222,
             "#7201a8"
            ],
            [
             0.3333333333333333,
             "#9c179e"
            ],
            [
             0.4444444444444444,
             "#bd3786"
            ],
            [
             0.5555555555555556,
             "#d8576b"
            ],
            [
             0.6666666666666666,
             "#ed7953"
            ],
            [
             0.7777777777777778,
             "#fb9f3a"
            ],
            [
             0.8888888888888888,
             "#fdca26"
            ],
            [
             1,
             "#f0f921"
            ]
           ]
          },
          "colorway": [
           "#636efa",
           "#EF553B",
           "#00cc96",
           "#ab63fa",
           "#FFA15A",
           "#19d3f3",
           "#FF6692",
           "#B6E880",
           "#FF97FF",
           "#FECB52"
          ],
          "font": {
           "color": "#2a3f5f"
          },
          "geo": {
           "bgcolor": "white",
           "lakecolor": "white",
           "landcolor": "#E5ECF6",
           "showlakes": true,
           "showland": true,
           "subunitcolor": "white"
          },
          "hoverlabel": {
           "align": "left"
          },
          "hovermode": "closest",
          "mapbox": {
           "style": "light"
          },
          "paper_bgcolor": "white",
          "plot_bgcolor": "#E5ECF6",
          "polar": {
           "angularaxis": {
            "gridcolor": "white",
            "linecolor": "white",
            "ticks": ""
           },
           "bgcolor": "#E5ECF6",
           "radialaxis": {
            "gridcolor": "white",
            "linecolor": "white",
            "ticks": ""
           }
          },
          "scene": {
           "xaxis": {
            "backgroundcolor": "#E5ECF6",
            "gridcolor": "white",
            "gridwidth": 2,
            "linecolor": "white",
            "showbackground": true,
            "ticks": "",
            "zerolinecolor": "white"
           },
           "yaxis": {
            "backgroundcolor": "#E5ECF6",
            "gridcolor": "white",
            "gridwidth": 2,
            "linecolor": "white",
            "showbackground": true,
            "ticks": "",
            "zerolinecolor": "white"
           },
           "zaxis": {
            "backgroundcolor": "#E5ECF6",
            "gridcolor": "white",
            "gridwidth": 2,
            "linecolor": "white",
            "showbackground": true,
            "ticks": "",
            "zerolinecolor": "white"
           }
          },
          "shapedefaults": {
           "line": {
            "color": "#2a3f5f"
           }
          },
          "ternary": {
           "aaxis": {
            "gridcolor": "white",
            "linecolor": "white",
            "ticks": ""
           },
           "baxis": {
            "gridcolor": "white",
            "linecolor": "white",
            "ticks": ""
           },
           "bgcolor": "#E5ECF6",
           "caxis": {
            "gridcolor": "white",
            "linecolor": "white",
            "ticks": ""
           }
          },
          "title": {
           "x": 0.05
          },
          "xaxis": {
           "automargin": true,
           "gridcolor": "white",
           "linecolor": "white",
           "ticks": "",
           "title": {
            "standoff": 15
           },
           "zerolinecolor": "white",
           "zerolinewidth": 2
          },
          "yaxis": {
           "automargin": true,
           "gridcolor": "white",
           "linecolor": "white",
           "ticks": "",
           "title": {
            "standoff": 15
           },
           "zerolinecolor": "white",
           "zerolinewidth": 2
          }
         }
        }
       }
      }
     },
     "metadata": {},
     "output_type": "display_data"
    }
   ],
   "source": [
    "# Visualising the words vectors in 3D\n",
    "import plotly.express as px\n",
    "\n",
    "temp = []\n",
    "for word in all_words:\n",
    "    temp.append(word_embedding_dict[word])\n",
    "\n",
    "fig = px.scatter_3d(x=[x[0] for x in temp[50:100]], \n",
    "                    y=[x[1] for x in temp[50:100]], \n",
    "                    z=[x[2] for x in temp[50:100]], \n",
    "                    color=all_words[50:100])\n",
    "fig.show()\n"
   ]
  },
  {
   "cell_type": "code",
   "execution_count": null,
   "metadata": {},
   "outputs": [],
   "source": []
  }
 ],
 "metadata": {
  "kernelspec": {
   "display_name": "Python 3",
   "language": "python",
   "name": "python3"
  },
  "language_info": {
   "codemirror_mode": {
    "name": "ipython",
    "version": 3
   },
   "file_extension": ".py",
   "mimetype": "text/x-python",
   "name": "python",
   "nbconvert_exporter": "python",
   "pygments_lexer": "ipython3",
   "version": "3.12.2"
  }
 },
 "nbformat": 4,
 "nbformat_minor": 2
}
